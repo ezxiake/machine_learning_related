{
 "cells": [
  {
   "cell_type": "markdown",
   "metadata": {},
   "source": [
    "# Recommender Systems - Collaborative Filtering Algorithm\n",
    "---"
   ]
  },
  {
   "cell_type": "code",
   "execution_count": 1,
   "metadata": {},
   "outputs": [],
   "source": [
    "import numpy as np\n",
    "import pandas as pd\n",
    "import matplotlib.pyplot as plt\n",
    "import scipy.io as sio\n",
    "#sns.set(context=\"notebook\", style=\"white\", palette=\"RdBu\")\n",
    "import seaborn as sns"
   ]
  },
  {
   "cell_type": "markdown",
   "metadata": {},
   "source": [
    "# Loading movie ratings dataset\n",
    "---\n",
    "You will start by loading the movie ratings dataset to understand the structure of the data. This dataset consists of ratings on a scale of 1 to 5. The dataset has $n_u$ = 943 users, and $n_m$ = 1682 movies."
   ]
  },
  {
   "cell_type": "code",
   "execution_count": 2,
   "metadata": {},
   "outputs": [
    {
     "data": {
      "text/plain": [
       "dict_keys(['__header__', '__version__', '__globals__', 'Y', 'R'])"
      ]
     },
     "execution_count": 2,
     "metadata": {},
     "output_type": "execute_result"
    }
   ],
   "source": [
    "# Loading movie ratings dataset\n",
    "movies_mat = sio.loadmat('ex8_movies.mat')\n",
    "movies_mat.keys()"
   ]
  },
  {
   "cell_type": "code",
   "execution_count": 3,
   "metadata": {},
   "outputs": [
    {
     "data": {
      "text/plain": [
       "((1682, 943), (1682, 943))"
      ]
     },
     "execution_count": 3,
     "metadata": {},
     "output_type": "execute_result"
    }
   ],
   "source": [
    "Y, R = movies_mat.get('Y'), movies_mat.get('R')\n",
    "Y.shape, R.shape"
   ]
  },
  {
   "cell_type": "code",
   "execution_count": 4,
   "metadata": {},
   "outputs": [
    {
     "name": "stdout",
     "output_type": "stream",
     "text": [
      "Average rating for movie 1 (Toy Story) : 3.8783185840707963 / 5\n"
     ]
    }
   ],
   "source": [
    "# Y is a 1682x943 matrix, containing ratings (1-5) of 1682 movies on 943 users\n",
    "# R is a 1682x943 matrix, where R(i,j) = 1 if and only if user j gave a rating to movie i\n",
    "\n",
    "# From the matrix, we can compute statistics like average rating.\n",
    "print('Average rating for movie 1 (Toy Story) : ' + str(Y[0,np.where(R[0,:]==1)[0]].mean()) + ' / 5')"
   ]
  },
  {
   "cell_type": "code",
   "execution_count": 5,
   "metadata": {},
   "outputs": [
    {
     "data": {
      "image/png": "[encoded data removed]",
      "text/plain": [
       "<Figure size 432x432 with 1 Axes>"
      ]
     },
     "metadata": {
      "needs_background": "light"
     },
     "output_type": "display_data"
    }
   ],
   "source": [
    "# We can \"visualize\" the ratings matrix by plotting it \n",
    "fig, ax = plt.subplots(figsize=(6, 6))\n",
    "ax.imshow(Y)\n",
    "ax.set_xlabel('Users')\n",
    "ax.set_ylabel('Movies')\n",
    "fig.tight_layout()\n",
    "plt.show()"
   ]
  },
  {
   "cell_type": "markdown",
   "metadata": {},
   "source": [
    "# Collaborative Filtering Cost Function \n",
    "---\n",
    "You will now implement the cost function for collaborative filtering.  \n",
    "To help you debug your cost function, we have included set of weights that we trained on that. Specifically, you should complete the code in cofiCostFunc to return J."
   ]
  },
  {
   "cell_type": "code",
   "execution_count": 6,
   "metadata": {},
   "outputs": [
    {
     "data": {
      "text/plain": [
       "((943, 10), (1682, 10))"
      ]
     },
     "execution_count": 6,
     "metadata": {},
     "output_type": "execute_result"
    }
   ],
   "source": [
    "param_mat = sio.loadmat('ex8_movieParams.mat')\n",
    "theta, X = param_mat.get('Theta'), param_mat.get('X')\n",
    "theta.shape, X.shape"
   ]
  },
  {
   "cell_type": "code",
   "execution_count": 7,
   "metadata": {},
   "outputs": [
    {
     "data": {
      "text/plain": [
       "(array([[ 1.0486855 , -0.40023196,  1.19411945],\n",
       "        [ 0.78085123, -0.38562591,  0.52119779],\n",
       "        [ 0.64150886, -0.54785385, -0.08379638],\n",
       "        [ 0.45361782, -0.80021844,  0.68048129],\n",
       "        [ 0.93753789,  0.1060899 ,  0.36195295]]),\n",
       " array([[ 0.28544362, -1.68426509,  0.26293877],\n",
       "        [ 0.50501321, -0.45464846,  0.31746244],\n",
       "        [-0.43191656, -0.47880449,  0.84671111],\n",
       "        [ 0.72859839, -0.27189391,  0.3268436 ]]),\n",
       " array([[5, 4, 0, 0],\n",
       "        [3, 0, 0, 0],\n",
       "        [4, 0, 0, 0],\n",
       "        [3, 0, 0, 0],\n",
       "        [3, 0, 0, 0]], dtype=uint8),\n",
       " array([[1, 1, 0, 0],\n",
       "        [1, 0, 0, 0],\n",
       "        [1, 0, 0, 0],\n",
       "        [1, 0, 0, 0],\n",
       "        [1, 0, 0, 0]], dtype=uint8))"
      ]
     },
     "execution_count": 7,
     "metadata": {},
     "output_type": "execute_result"
    }
   ],
   "source": [
    "# Reduce the data set size so that this runs faster\n",
    "num_users = 4; num_movies = 5; num_features = 3;\n",
    "X = X[:num_movies, :num_features]\n",
    "theta = theta[:num_users, :num_features]\n",
    "Y = Y[:num_movies, :num_users]\n",
    "R = R[:num_movies, :num_users]\n",
    "X, theta, Y, R"
   ]
  },
  {
   "cell_type": "markdown",
   "metadata": {},
   "source": [
    "## Collaborative filtering optimization objective  \n",
    "* Given $x^{(1)},...,x^{(n_m)}$, estimate $\\theta^{(1)},...,\\theta^{(n_u)}$:  \n",
    "$\\qquad \\underset{\\theta^{(1)},...,\\theta^{(n_u)}}{min} \\frac{1}{2} \\sum\\limits_{j=1}^{n_u} \\sum\\limits_{i:r(i,j)=1} \\Big(\\big(\\theta^{(j)}\\big)^T x^{(i)} -y^{(i,j)}\\Big)^2 + \\frac{\\lambda}{2} \\sum\\limits_{j=1}^{n_u} \\sum\\limits_{k=1}^{n} \\big(\\theta_k^{(j)}\\big)^2$  \n",
    "  \n",
    "   \n",
    "* Given $\\theta^{(1)},...,\\theta^{(n_u)}$, estimate $x^{(1)},...,x^{(n_m)}$:  \n",
    "$\\qquad \\underset{x^{(1)},...,x^{(n_m)}}{min} \\frac{1}{2} \\sum\\limits_{i=1}^{n_m} \\sum\\limits_{j:r(i,j)=1} \\Big(\\big(\\theta^{(j)}\\big)^T x^{(i)} -y^{(i,j)}\\Big)^2 + \\frac{\\lambda}{2} \\sum\\limits_{i=1}^{n_m} \\sum\\limits_{k=1}^{n} \\big(x_k^{(i)}\\big)^2$  \n",
    "  \n",
    "  \n",
    "* Minimizing $x^{(i)},...,x^{(n_m)}$ and $\\theta^{(1)},...,\\theta^{(n_u)}$ simultaneously:  \n",
    "$\\qquad J(x^{(1)},...,x^{(n_m)},\\theta^{(1)},...,\\theta^{(n_u)}) = \\frac{1}{2} \\sum\\limits_{(i,j):r(i,j)=1} \\Big(\\big(\\theta^{(j)}\\big)^T x^{(i)}-y^{(i,j)}\\Big)^2 + \\frac{\\lambda}{2} \\sum\\limits_{i=1}^{n_m} \\sum\\limits_{k=1}^{n} \\big(x_k^{(i)}\\big)^2 + \\frac{\\lambda}{2} \\sum\\limits_{j=1}^{n_u} \\sum\\limits_{k=1}^{n} \\big(\\theta_k^{(j)}\\big)^2$"
   ]
  },
  {
   "cell_type": "markdown",
   "metadata": {},
   "source": [
    "## Collaborative filtering algorithm\n",
    "1. Initialize $x^{(1)},...,x^{(n_m)},\\theta^{(1)},...,\\theta^{(n_u)}$ to small random values.  \n",
    "1. Minimize $J(x^{(1)},...,x^{(n_m)},\\theta^{(1)},...,\\theta^{(n_u)})$ using gradient descent(or an advanced optimization algorithm). E.g. for every $j=1,...,n_u,i=1,...,n_m$ :  \n",
    "$x_k^{(i)} := x_k^{(i)} - \\alpha \\big(\\frac{\\partial J}{\\partial x_k^{(i)}}\\big) = x_k^{(i)} - \\alpha \\Bigg( \\sum\\limits_{j:r(i,j)=1} \\Big(\\big(\\theta^{(j)}\\big)^T x^{(i)} -y^{(i,j)}\\Big) \\theta_k^{(j)} + \\lambda x_k^{(i)}\\big) \\Bigg)$  \n",
    "$\\theta_k^{(j)} := \\theta_k^{(j)} - \\alpha \\big(\\frac{\\partial J}{\\partial \\theta_k^{(j)}}\\big) = \\theta_k^{(j)} - \\alpha \\Bigg( \\sum\\limits_{i:r(i,j)=1} \\Big(\\big(\\theta^{(j)}\\big)^T x^{(i)} -y^{(i,j)}\\Big) x_k^{(i)} + \\lambda \\theta_k^{(j)}\\big) \\Bigg)$  \n",
    "\n",
    "1. For a user with parameters $\\theta$ and a moive with(learned) feature $x$, predict a star rating of $\\theta^Tx$."
   ]
  },
  {
   "cell_type": "code",
   "execution_count": 8,
   "metadata": {},
   "outputs": [],
   "source": [
    "def cofiCostFunc(params, Y, R, num_users, num_movies, num_features, Lambda):    \n",
    "    X = params[:num_movies * num_features].reshape(num_movies, num_features);\n",
    "    Theta = params[num_movies * num_features:].reshape(num_users, num_features);\n",
    "\n",
    "    error = np.multiply(X @ Theta.T - Y, R)\n",
    "    J = np.power(error, 2).sum() / 2\n",
    "    J = J + Lambda / 2 * np.power(Theta, 2).sum()\n",
    "    J = J + Lambda / 2 * np.power(X, 2).sum()\n",
    "    \n",
    "    # calculate the gradients\n",
    "    X_grad = error @ Theta + Lambda * X\n",
    "    Theta_grad = error.T @ X + Lambda * Theta\n",
    "    \n",
    "    # unravel the gradient matrices into a single array\n",
    "    grad = np.concatenate((np.ravel(X_grad), np.ravel(Theta_grad)))\n",
    "    return J, grad"
   ]
  },
  {
   "cell_type": "code",
   "execution_count": 9,
   "metadata": {},
   "outputs": [
    {
     "data": {
      "text/plain": [
       "(22.224603725685675,\n",
       " array([ -2.52899165,   7.57570308,  -1.89979026,  -0.56819597,\n",
       "          3.35265031,  -0.52339845,  -0.83240713,   4.91163297,\n",
       "         -0.76677878,  -0.38358278,   2.26333698,  -0.35334048,\n",
       "         -0.80378006,   4.74271842,  -0.74040871, -10.5680202 ,\n",
       "          4.62776019,  -7.16004443,  -3.05099006,   1.16441367,\n",
       "         -3.47410789,   0.        ,   0.        ,   0.        ,\n",
       "          0.        ,   0.        ,   0.        ]))"
      ]
     },
     "execution_count": 9,
     "metadata": {},
     "output_type": "execute_result"
    }
   ],
   "source": [
    "# test cost without regularization - lambda = 0, result is about 22.225\n",
    "Lambda = 0\n",
    "params = np.concatenate((np.ravel(X), np.ravel(theta)))\n",
    "cofiCostFunc(params, Y, R, num_users, num_movies, num_features, Lambda)"
   ]
  },
  {
   "cell_type": "markdown",
   "metadata": {},
   "source": [
    "# Collaborative Filtering Gradient\n",
    "---\n",
    "Once your cost function matches up with ours, you should now implement the collaborative filtering gradient function. Specifically, you should complete the code in cofiCostFunc to return the grad argument."
   ]
  },
  {
   "cell_type": "code",
   "execution_count": 10,
   "metadata": {},
   "outputs": [],
   "source": [
    "def computeNumericalGradient(params, Y, R, num_users, num_movies, num_features, Lambda):\n",
    "    Len = np.size(params)\n",
    "    numeric_grad = np.zeros(Len)\n",
    "    perturb = np.zeros(Len)\n",
    "    EPSILON = 1e-4\n",
    "    for p in range(Len):\n",
    "        # Set perturbation vector\n",
    "        perturb[p] = EPSILON;\n",
    "        loss1, _ = cofiCostFunc(params - perturb, Y, R, num_users, num_movies, num_features, Lambda)\n",
    "        loss2, _ = cofiCostFunc(params + perturb, Y, R, num_users, num_movies, num_features, Lambda)\n",
    "        # Compute Numerical Gradient\n",
    "        numeric_grad[p] = (loss2 - loss1) / (2 * EPSILON)\n",
    "        perturb[p] = 0;\n",
    "    _, analytic_grad = cofiCostFunc(params, Y, R, num_users, num_movies, num_features, Lambda)\n",
    "    return numeric_grad, analytic_grad"
   ]
  },
  {
   "cell_type": "code",
   "execution_count": 11,
   "metadata": {},
   "outputs": [],
   "source": [
    "def checkNNGradients(Lambda=0):\n",
    "# Creates a collaborative filering problem to check your cost function \n",
    "# and gradients, it will output the analytical gradients produced \n",
    "# by your code and the numerical gradients \n",
    "# (computed using computeNumericalGradient). \n",
    "# These two gradient computations should result in very similar values.\n",
    "\n",
    "    # Create small problem\n",
    "    X_t = np.random.rand(4, 3);\n",
    "    Theta_t = np.random.rand(5, 3);\n",
    "\n",
    "    # Zap out most entries\n",
    "    Y = X_t @ Theta_t.T;\n",
    "    R = np.ones([Y.shape[0], Y.shape[1]]);\n",
    "    v_rand_zero = np.random.rand(Y.shape[0], Y.shape[1]) > 0.5;\n",
    "    \n",
    "    Y = np.multiply(Y, v_rand_zero);\n",
    "    R = np.multiply(R, v_rand_zero);\n",
    "    \n",
    "    # Run Gradient Checking\n",
    "    X = np.random.normal(0, 1, X_t.shape);\n",
    "    Theta = np.random.normal(0, 1, Theta_t.shape);\n",
    "    num_users = Y.shape[1];\n",
    "    num_movies = Y.shape[0];\n",
    "    num_features = Theta_t.shape[1];\n",
    "\n",
    "    # Unroll parameters(serialize)\n",
    "    #nn_params = [Theta1(:) ; Theta2(:)];\n",
    "    params = np.concatenate((np.ravel(X), np.ravel(Theta)))\n",
    "    # deserialize\n",
    "    # seq[:25 * 401].reshape(25, 401), seq[25 * 401:].reshape(10, 26)\n",
    "\n",
    "    numeric_grad, analytic_grad = computeNumericalGradient(params, Y, R, num_users, num_movies, num_features, Lambda)\n",
    "\n",
    "    # Visually examine the two gradient computations.  The two columns\n",
    "    # you get should be very similar. \n",
    "    print(np.vstack((numeric_grad, analytic_grad)).T)\n",
    "    print()\n",
    "    print('The above two columns you get should be very similar.')\n",
    "    print('(Left-Your Numerical Gradient, Right-Analytical Gradient)')\n",
    "    print()\n",
    "    \n",
    "    # Evaluate the norm of the difference between two solutions.  \n",
    "    # If you have a correct implementation, and assuming you used EPSILON = 0.0001 \n",
    "    # then diff below should be less than 1e-9\n",
    "    diff = np.linalg.norm(numeric_grad - analytic_grad) / np.linalg.norm(numeric_grad + analytic_grad);\n",
    "\n",
    "    print('If your backpropagation implementation is correct, ')\n",
    "    print('then the relative difference will be small (less than 1e-9). ')\n",
    "    print('Relative Difference: {0}'.format(diff))\n",
    "    \n",
    "    print()\n",
    "    print('Debugging:')\n",
    "    print('np.linalg.norm(numeric_grad - analytic_grad) : ' + str(np.linalg.norm(numeric_grad - analytic_grad)))\n",
    "    print('np.linalg.norm(numeric_grad + analytic_grad) : ' + str(np.linalg.norm(numeric_grad + analytic_grad)))"
   ]
  },
  {
   "cell_type": "code",
   "execution_count": 12,
   "metadata": {},
   "outputs": [
    {
     "name": "stdout",
     "output_type": "stream",
     "text": [
      "[[  1.82044494   1.82044494]\n",
      " [  1.32878147   1.32878147]\n",
      " [ -1.90505488  -1.90505488]\n",
      " [  0.4469771    0.4469771 ]\n",
      " [ -0.21355701  -0.21355701]\n",
      " [ -0.20989966  -0.20989966]\n",
      " [-11.87268517 -11.87268517]\n",
      " [ 12.80757761  12.80757761]\n",
      " [ -8.65865963  -8.65865963]\n",
      " [  2.66870133   2.66870133]\n",
      " [  4.20178983   4.20178983]\n",
      " [  3.01527694   3.01527694]\n",
      " [  3.09790633   3.09790633]\n",
      " [ -9.34332756  -9.34332756]\n",
      " [  5.17912293   5.17912293]\n",
      " [ -0.78920657  -0.78920657]\n",
      " [ -1.55316232  -1.55316232]\n",
      " [  0.57152664   0.57152664]\n",
      " [ -3.37111952  -3.37111952]\n",
      " [ -1.08482005  -1.08482005]\n",
      " [ -0.13967992  -0.13967992]\n",
      " [  0.99651679   0.99651679]\n",
      " [ -1.40730623  -1.40730623]\n",
      " [  1.33067517   1.33067517]\n",
      " [  1.28624849   1.28624849]\n",
      " [ -3.59551684  -3.59551684]\n",
      " [  1.83889018   1.83889018]]\n",
      "\n",
      "The above two columns you get should be very similar.\n",
      "(Left-Your Numerical Gradient, Right-Analytical Gradient)\n",
      "\n",
      "If your backpropagation implementation is correct, \n",
      "then the relative difference will be small (less than 1e-9). \n",
      "Relative Difference: 1.3585870713852883e-12\n",
      "\n",
      "Debugging:\n",
      "np.linalg.norm(numeric_grad - analytic_grad) : 6.572995326668455e-11\n",
      "np.linalg.norm(numeric_grad + analytic_grad) : 48.381112003121565\n"
     ]
    }
   ],
   "source": [
    "# Check gradients by running checkNNGradients.\n",
    "# In fact, the gradient is detected by the cost function.\n",
    "# So, first, you must make sure your Cost Function is correct.\n",
    "checkNNGradients()"
   ]
  },
  {
   "cell_type": "markdown",
   "metadata": {},
   "source": [
    "# Collaborative Filtering Cost Regularization \n",
    "---\n",
    "Now, you should implement regularization for the cost function for collaborative filtering. You can implement it by adding the cost of regularization to the original cost computation."
   ]
  },
  {
   "cell_type": "code",
   "execution_count": 13,
   "metadata": {},
   "outputs": [
    {
     "data": {
      "text/plain": [
       "(31.34405624427422,\n",
       " array([ -0.95596339,   6.97535514,  -0.10861109,   0.60308088,\n",
       "          2.77421145,   0.25839822,   0.12985616,   4.0898522 ,\n",
       "         -0.89247334,   0.29684395,   1.06300933,   0.66738144,\n",
       "          0.60252677,   4.90185327,  -0.19747928, -10.13985478,\n",
       "          2.10136256,  -6.76563628,  -2.29347024,   0.48244098,\n",
       "         -2.99791422,  -0.64787484,  -0.71820673,   1.27006666,\n",
       "          1.09289758,  -0.40784086,   0.49026541]))"
      ]
     },
     "execution_count": 13,
     "metadata": {},
     "output_type": "execute_result"
    }
   ],
   "source": [
    "# test cost with regularization - lambda = 1.5, result is about 31.34\n",
    "Lambda = 1.5\n",
    "params = np.concatenate((np.ravel(X), np.ravel(theta)))\n",
    "cofiCostFunc(params, Y, R, num_users, num_movies, num_features, Lambda)"
   ]
  },
  {
   "cell_type": "markdown",
   "metadata": {},
   "source": [
    "# Collaborative Filtering Gradient Regularization \n",
    "---\n",
    "Once your cost matches up with ours, you should proceed to implement regularization for the gradient. "
   ]
  },
  {
   "cell_type": "code",
   "execution_count": 14,
   "metadata": {
    "scrolled": false
   },
   "outputs": [
    {
     "name": "stdout",
     "output_type": "stream",
     "text": [
      "[[  3.4597977    3.4597977 ]\n",
      " [ -4.24651931  -4.24651931]\n",
      " [  3.01503461   3.01503461]\n",
      " [ -1.29296426  -1.29296426]\n",
      " [  6.61074764   6.61074764]\n",
      " [  0.24860943   0.24860943]\n",
      " [ -2.29037835  -2.29037835]\n",
      " [  4.69284124   4.69284124]\n",
      " [  9.11993307   9.11993307]\n",
      " [  3.12521303   3.12521303]\n",
      " [ 19.12176419  19.12176419]\n",
      " [ 19.11751007  19.11751007]\n",
      " [  2.58717316   2.58717316]\n",
      " [-12.03732433 -12.03732433]\n",
      " [ -1.44883147  -1.44883147]\n",
      " [  5.72454016   5.72454016]\n",
      " [  6.43083804   6.43083804]\n",
      " [  4.53724274   4.53724274]\n",
      " [  1.36513832   1.36513832]\n",
      " [ -2.07809915  -2.07809915]\n",
      " [ -2.1873981   -2.1873981 ]\n",
      " [  1.53125782   1.53125782]\n",
      " [  0.73619352   0.73619352]\n",
      " [ -3.24053744  -3.24053744]\n",
      " [  0.11651994   0.11651994]\n",
      " [-17.33930002 -17.33930002]\n",
      " [-23.66448912 -23.66448912]]\n",
      "\n",
      "The above two columns you get should be very similar.\n",
      "(Left-Your Numerical Gradient, Right-Analytical Gradient)\n",
      "\n",
      "If your backpropagation implementation is correct, \n",
      "then the relative difference will be small (less than 1e-9). \n",
      "Relative Difference: 1.9571602489986666e-12\n",
      "\n",
      "Debugging:\n",
      "np.linalg.norm(numeric_grad - analytic_grad) : 1.7806023348869689e-10\n",
      "np.linalg.norm(numeric_grad + analytic_grad) : 90.97887287451147\n"
     ]
    }
   ],
   "source": [
    "# Checking Backpropagation with Regularization ...\n",
    "# Check gradients by running checkNNGradients\n",
    "Lambda = 1.5;\n",
    "checkNNGradients(Lambda);"
   ]
  },
  {
   "cell_type": "markdown",
   "metadata": {},
   "source": [
    "# Entering ratings for a new user \n",
    "---\n",
    "Before we will train the collaborative filtering model, we will first add ratings that correspond to a new user that we just observed. This part of the code will also allow you to put in your own ratings for the movies in our dataset!"
   ]
  },
  {
   "cell_type": "code",
   "execution_count": 15,
   "metadata": {
    "scrolled": false
   },
   "outputs": [
    {
     "data": {
      "text/plain": [
       "['Toy Story (1995)',\n",
       " 'GoldenEye (1995)',\n",
       " 'Four Rooms (1995)',\n",
       " 'Get Shorty (1995)',\n",
       " 'Copycat (1995)']"
      ]
     },
     "execution_count": 15,
     "metadata": {},
     "output_type": "execute_result"
    }
   ],
   "source": [
    "# Reads the fixed movie list in movie.txt and returns a cell array of the words in movieList.\n",
    "movie_list = []\n",
    "with open('movie_ids.txt', encoding='GBK') as f:\n",
    "    for line in f:\n",
    "        tokens = line.strip().split(' ')\n",
    "        movie_list.append(' '.join(tokens[1:]))\n",
    "movie_list[0:5]"
   ]
  },
  {
   "cell_type": "code",
   "execution_count": 16,
   "metadata": {},
   "outputs": [],
   "source": [
    "# Initialize my ratings\n",
    "my_ratings = np.zeros([1682, 1]);"
   ]
  },
  {
   "cell_type": "code",
   "execution_count": 17,
   "metadata": {},
   "outputs": [],
   "source": [
    "# Check the file movie_idx.txt for id of each movie in our dataset\n",
    "# For example, Toy Story (1995) has ID 0, so to rate it \"4\", you can set\n",
    "my_ratings[0] = 4;"
   ]
  },
  {
   "cell_type": "code",
   "execution_count": 18,
   "metadata": {},
   "outputs": [],
   "source": [
    "# Or suppose did not enjoy Silence of the Lambs (1991), you can set\n",
    "my_ratings[97] = 2;"
   ]
  },
  {
   "cell_type": "code",
   "execution_count": 19,
   "metadata": {},
   "outputs": [],
   "source": [
    "# We have selected a few movies we liked / did not like and the ratings we gave are as follows:\n",
    "my_ratings[6]   = 3;\n",
    "my_ratings[11]  = 5;\n",
    "my_ratings[53]  = 4;\n",
    "my_ratings[63]  = 5;\n",
    "my_ratings[65]  = 3;\n",
    "my_ratings[68]  = 5;\n",
    "my_ratings[182] = 4;\n",
    "my_ratings[225] = 5;\n",
    "my_ratings[354] = 5;"
   ]
  },
  {
   "cell_type": "code",
   "execution_count": 20,
   "metadata": {
    "scrolled": false
   },
   "outputs": [
    {
     "name": "stdout",
     "output_type": "stream",
     "text": [
      "New user ratings:\n",
      "Rated 4 for  Toy Story (1995)\n",
      "Rated 3 for  Twelve Monkeys (1995)\n",
      "Rated 5 for  Usual Suspects, The (1995)\n",
      "Rated 4 for  Outbreak (1995)\n",
      "Rated 5 for  Shawshank Redemption, The (1994)\n",
      "Rated 3 for  While You Were Sleeping (1995)\n",
      "Rated 5 for  Forrest Gump (1994)\n",
      "Rated 2 for  Silence of the Lambs, The (1991)\n",
      "Rated 4 for  Alien (1979)\n",
      "Rated 5 for  Die Hard 2 (1990)\n",
      "Rated 5 for  Sphere (1998)\n"
     ]
    }
   ],
   "source": [
    "print('New user ratings:')\n",
    "for i in range(len(my_ratings)):\n",
    "    if my_ratings[i] > 0:\n",
    "        print('Rated ' + str(int(my_ratings[i])) + ' for  ' + movie_list[i]);"
   ]
  },
  {
   "cell_type": "markdown",
   "metadata": {},
   "source": [
    "# Learning Movie Ratings \n",
    "---\n",
    "Now, you will train the collaborative filtering model on a movie rating dataset of 1682 movies and 943 users"
   ]
  },
  {
   "cell_type": "code",
   "execution_count": 63,
   "metadata": {},
   "outputs": [
    {
     "data": {
      "text/plain": [
       "dict_keys(['__header__', '__version__', '__globals__', 'Y', 'R'])"
      ]
     },
     "execution_count": 63,
     "metadata": {},
     "output_type": "execute_result"
    }
   ],
   "source": [
    "# Loading movie ratings dataset\n",
    "movies_mat = sio.loadmat('ex8_movies.mat')\n",
    "movies_mat.keys()"
   ]
  },
  {
   "cell_type": "code",
   "execution_count": 64,
   "metadata": {},
   "outputs": [
    {
     "data": {
      "text/plain": [
       "((1682, 943), (1682, 943))"
      ]
     },
     "execution_count": 64,
     "metadata": {},
     "output_type": "execute_result"
    }
   ],
   "source": [
    "#  Y is a 1682x943 matrix, containing ratings (1-5) of 1682 movies by 943 users\n",
    "#  R is a 1682x943 matrix, where R(i,j) = 1 if and only if user j gave a rating to movie i\n",
    "Y, R = movies_mat.get('Y'), movies_mat.get('R')\n",
    "Y.shape, R.shape"
   ]
  },
  {
   "cell_type": "code",
   "execution_count": 65,
   "metadata": {},
   "outputs": [
    {
     "data": {
      "text/plain": [
       "((1682, 944), (1682, 944), (1682, 1))"
      ]
     },
     "execution_count": 65,
     "metadata": {},
     "output_type": "execute_result"
    }
   ],
   "source": [
    "Y = np.append(my_ratings, Y, axis=1);\n",
    "R = np.append(my_ratings != 0, R, axis=1);\n",
    "#Y = np.append(Y, my_ratings, axis=1);\n",
    "#R = np.append(R, my_ratings != 0, axis=1);\n",
    "Y.shape, R.shape, my_ratings.shape"
   ]
  },
  {
   "cell_type": "code",
   "execution_count": 66,
   "metadata": {},
   "outputs": [
    {
     "data": {
      "text/plain": [
       "7.338986115742988e-19"
      ]
     },
     "execution_count": 66,
     "metadata": {},
     "output_type": "execute_result"
    }
   ],
   "source": [
    "#  Normalized Y so that each movie has a rating of 0 on average, and returns the mean rating in Ymean.\n",
    "Ymean = Y.sum(1) / R.sum(1);\n",
    "#Ynorm = np.multiply(np.fabs(Y - np.array([Ymean]).T), R);\n",
    "Ynorm = np.multiply(Y - np.array([Ymean]).T, R);\n",
    "Ynorm.mean()"
   ]
  },
  {
   "cell_type": "code",
   "execution_count": 67,
   "metadata": {},
   "outputs": [],
   "source": [
    "#  Useful Values\n",
    "num_users = Y.shape[1];\n",
    "num_movies = Y.shape[0];\n",
    "num_features = 10;"
   ]
  },
  {
   "cell_type": "code",
   "execution_count": 75,
   "metadata": {},
   "outputs": [],
   "source": [
    "#  Set Initial Parameters (Theta, X)\n",
    "#  standard_normal() equal normal(0, 1, ())\n",
    "X = np.random.standard_normal((num_movies, num_features))\n",
    "Theta = np.random.normal(0, 1, (num_users, num_features))\n",
    "#X = np.random.random(size=(num_movies, num_features))\n",
    "#Theta = np.random.random(size=(num_users, num_features))\n",
    "initial_parameters = np.concatenate((np.ravel(X), np.ravel(Theta)))"
   ]
  },
  {
   "cell_type": "code",
   "execution_count": 76,
   "metadata": {},
   "outputs": [
    {
     "data": {
      "text/plain": [
       "     fun: 38966.517219837246\n",
       "     jac: array([ 0.07539294, -0.06962027,  0.04445066, ..., -0.03049742,\n",
       "       -0.00491371, -0.02897106])\n",
       " message: 'Maximum number of iterations has been exceeded.'\n",
       "    nfev: 152\n",
       "     nit: 100\n",
       "    njev: 152\n",
       "  status: 1\n",
       " success: False\n",
       "       x: array([ 0.19350428,  0.88991223,  0.54067607, ...,  0.60746353,\n",
       "       -0.17028245,  0.32069972])"
      ]
     },
     "execution_count": 76,
     "metadata": {},
     "output_type": "execute_result"
    }
   ],
   "source": [
    "# Training collaborative filtering...\n",
    "import scipy.optimize as opt\n",
    "Lambda = 10;\n",
    "res = opt.minimize(fun=cofiCostFunc,\n",
    "                   x0=initial_parameters,\n",
    "                   args=(Ynorm, R, num_users, num_movies, num_features, Lambda),\n",
    "                   method='CG',\n",
    "                   jac=True,\n",
    "                   options={'maxiter': 100});\n",
    "res"
   ]
  },
  {
   "cell_type": "code",
   "execution_count": 86,
   "metadata": {},
   "outputs": [
    {
     "name": "stdout",
     "output_type": "stream",
     "text": [
      "Recommender system learning completed.\n"
     ]
    },
    {
     "data": {
      "text/plain": [
       "((1682, 10), (944, 10))"
      ]
     },
     "execution_count": 86,
     "metadata": {},
     "output_type": "execute_result"
    }
   ],
   "source": [
    "# Unfold the returned theta back into U and W\n",
    "X = np.reshape(res.x[:num_movies * num_features], (num_movies, num_features))\n",
    "Theta = np.reshape(res.x[num_movies * num_features:], (num_users, num_features))\n",
    "\n",
    "print('Recommender system learning completed.');\n",
    "X.shape, Theta.shape"
   ]
  },
  {
   "cell_type": "markdown",
   "metadata": {},
   "source": [
    "# Recommendation for you \n",
    "---\n",
    "After training the model, you can now make recommendations by computing the predictions matrix."
   ]
  },
  {
   "cell_type": "code",
   "execution_count": 186,
   "metadata": {},
   "outputs": [],
   "source": [
    "p = X @ Theta.T;\n",
    "my_predictions = p[:, 0] + Ymean\n",
    "idx = np.argsort(my_predictions, axis=0)[::-1] # Descending order"
   ]
  },
  {
   "cell_type": "code",
   "execution_count": 187,
   "metadata": {},
   "outputs": [
    {
     "name": "stdout",
     "output_type": "stream",
     "text": [
      "Top 10 movie predictions:\n",
      "Predicted rating of 【5.000000858313845】 \t for movie 【Saint of Fort Washington, The (1993)】.\n",
      "Predicted rating of 【5.000000474151429】 \t for movie 【Star Kid (1997)】.\n",
      "Predicted rating of 【5.0000000767356525】 \t for movie 【They Made Me a Criminal (1939)】.\n",
      "Predicted rating of 【5.000000049175514】 \t for movie 【Entertaining Angels: The Dorothy Day Story (1996)】.\n",
      "Predicted rating of 【4.9999999983937276】 \t for movie 【Great Day in Harlem, A (1994)】.\n",
      "Predicted rating of 【4.999999846275929】 \t for movie 【Marlene Dietrich: Shadow and Light (1996)】.\n",
      "Predicted rating of 【4.999999786058626】 \t for movie 【Santa with Muscles (1996)】.\n",
      "Predicted rating of 【4.999999688849941】 \t for movie 【Prefontaine (1997)】.\n",
      "Predicted rating of 【4.999999566109666】 \t for movie 【Aiqing wansui (1994)】.\n",
      "Predicted rating of 【4.9999993895435475】 \t for movie 【Someone Else's America (1995)】.\n"
     ]
    }
   ],
   "source": [
    "print(\"Top 10 movie predictions:\")\n",
    "for i in range(10):\n",
    "    star_rating = my_predictions[idx][:10];\n",
    "    movie_name = np.array(movie_list).T[idx];\n",
    "    print('Predicted rating of 【{0}】 \\t for movie 【{1}】.'.format(str(star_rating[i]), movie_name[i]))"
   ]
  },
  {
   "cell_type": "code",
   "execution_count": null,
   "metadata": {},
   "outputs": [],
   "source": []
  }
 ],
 "metadata": {
  "kernelspec": {
   "display_name": "Python 3",
   "language": "python",
   "name": "python3"
  },
  "language_info": {
   "codemirror_mode": {
    "name": "ipython",
    "version": 3
   },
   "file_extension": ".py",
   "mimetype": "text/x-python",
   "name": "python",
   "nbconvert_exporter": "python",
   "pygments_lexer": "ipython3",
   "version": "3.6.2rc1"
  }
 },
 "nbformat": 4,
 "nbformat_minor": 2
}
