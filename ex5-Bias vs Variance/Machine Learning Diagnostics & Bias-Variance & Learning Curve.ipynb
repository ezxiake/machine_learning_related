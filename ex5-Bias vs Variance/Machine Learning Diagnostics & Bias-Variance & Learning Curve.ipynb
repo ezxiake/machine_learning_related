{
 "cells": [
  {
   "cell_type": "markdown",
   "metadata": {},
   "source": [
    "# 代价函数\n",
    "---\n",
    "$J\\left( \\theta  \\right)=\\frac{1}{2m} \\Bigg[ \\sum\\limits_{i=1}^{m}{{{\\left( {{h}_{\\theta }}\\left( {{x}^{(i)}} \\right)-{{y}^{(i)}} \\right)}^{2}}} + \\lambda \\sum\\limits_{j=1}^{n} \\theta_{j}^2 \\Bigg]$  \n",
    "${{h}_{\\theta }}\\left( x \\right)={{\\theta }^{T}}X={{\\theta }_{0}}{{x}_{0}}+{{\\theta }_{1}}{{x}_{1}}+{{\\theta }_{2}}{{x}_{2}}+...+{{\\theta }_{n}}{{x}_{n}}$    "
   ]
  },
  {
   "cell_type": "code",
   "execution_count": 1,
   "metadata": {},
   "outputs": [],
   "source": [
    "def linearRegressionLossAndGrad(X, y, theta, v_lambda):\n",
    "    \n",
    "    #np.hstack((a,b)) 行合并\n",
    "    #np.vstack((a,b)) 列合并\n",
    "    \n",
    "    # X @ theta = X.dot(theta)\n",
    "    \n",
    "\tm = X.shape[0];\n",
    "\ttheta_without_bias = np.matrix(theta, copy=True)\n",
    "\ttheta_without_bias[0,0] = 0\n",
    "    \n",
    "\tJ = (1/2/m) * (X @ theta - y).T @ (X @ theta - y) + (v_lambda/2/m) * np.sum(np.power(theta_without_bias, 2)); \n",
    "    #J = np.sum(np.power(((X @ theta.T) - y), 2)) / (2 * m);\n",
    "\tgrad = X.T @ (X @ theta - y) / m + v_lambda * theta_without_bias / m;\n",
    "\treturn J, grad"
   ]
  },
  {
   "cell_type": "markdown",
   "metadata": {},
   "source": [
    "# Batch Gradient Decent（批量梯度下降）\n",
    "---\n",
    "${{\\theta }_{j}}:={{\\theta }_{j}}-\\alpha \\frac{\\partial }{\\partial {{\\theta }_{j}}}J\\left( \\theta  \\right)$  \n",
    "$\\frac{\\partial }{\\partial {{\\theta }_{j}}}J\\left( \\theta  \\right) = \\frac{1}{m}\\sum\\limits_{i=1}^{m}{{{\\Big( {{h}_{\\theta }}\\left( {{x}^{(i)}} \\right)-{{y}^{(i)}} \\Big) \\cdot {x}_{j}^{(i)} }}} + \\frac{\\lambda}{m} \\cdot \\theta_{j}$ "
   ]
  },
  {
   "cell_type": "code",
   "execution_count": 2,
   "metadata": {},
   "outputs": [],
   "source": [
    "def batch_gradient_descent(X, y, initial_theta, epoch, alpha, v_lambda):\n",
    "\tJ_set = list();\n",
    "\t\n",
    "\ttheta = initial_theta.copy();\n",
    "\tfor iter in range(epoch):\n",
    "\t\t[J, grad] = linearRegressionLossAndGrad(X, y, theta, v_lambda);\n",
    "\t\tJ_set.append(J[0, 0]);\n",
    "\t\ttheta = theta - alpha * grad;\n",
    "\treturn theta, J_set"
   ]
  },
  {
   "cell_type": "markdown",
   "metadata": {},
   "source": [
    "# 多项式特征映射\n",
    "---\n",
    "```Octave\n",
    "function X_poly = polynomialFeaturesMap(X, p)\n",
    "n = size(X, 2);\n",
    "% X1, X1.^2, X1.^3, etc...\n",
    "if n == 1,\n",
    "\tX_poly = zeros(numel(X), p);\n",
    "\tfor j = 1:p\n",
    "\t\tX_poly(:,j) = X .^ j;\n",
    "\tend;\n",
    "\t%X_poly = [ones(size(X_poly),1) X_poly];\n",
    "\t%disp(n);\n",
    "% X1, X2, X1.^2, X2.^2, X1*X2, X1*X2.^2, etc..\n",
    "elseif n == 2,\n",
    "\tdegree = p;\n",
    "\tX1 = X(:,1);\n",
    "\tX2 = X(:,2);\n",
    "\tX_poly = ones(size(X1(:,1)));\n",
    "\tfor i = 1:degree\n",
    "\t\tfor j = 0:i\n",
    "\t\t\tX_poly(:, end+1) = (X1.^(i-j)).*(X2.^j);\n",
    "\t\tend\n",
    "\tend;\n",
    "\t%disp(n);\n",
    "else \n",
    "\tX_poly = 0;\n",
    "\t%disp(n);\n",
    "end;\n",
    "end\n",
    "```"
   ]
  },
  {
   "cell_type": "code",
   "execution_count": 3,
   "metadata": {},
   "outputs": [],
   "source": [
    "# 多项式特征映射\n",
    "def poly_features(x, power, as_ndarray=False):\n",
    "    data = {'f{}'.format(i): np.power(x, i) for i in range(1, power + 1)}\n",
    "    df = pd.DataFrame(data)\n",
    "\n",
    "    return df.as_matrix() if as_ndarray else df"
   ]
  },
  {
   "cell_type": "code",
   "execution_count": 4,
   "metadata": {},
   "outputs": [],
   "source": [
    "def learningCurve(X, y, Xcv, ycv, Xtest, ytest, epoch, alpha, v_lambda):\n",
    "    m = X.shape[0];    \n",
    "    error_train = np.zeros([m, 1]);\n",
    "    error_cv = np.zeros([m, 1]);\n",
    "    error_test = np.zeros([m, 1]);\n",
    "    initial_theta = np.zeros([X.shape[1], 1]); \n",
    "    \n",
    "    for i in range(m):\n",
    "        [theta, J_set] = batch_gradient_descent(X[0:i+1, :], y[0:i+1,:], initial_theta, epoch, alpha, v_lambda)\n",
    "        \n",
    "        [J, grad] = linearRegressionLossAndGrad(X[0:i+1,:], y[0:i+1,:], theta, v_lambda);\n",
    "        error_train[i] = J;\n",
    "        \n",
    "        [J, grad] = linearRegressionLossAndGrad(Xcv, ycv, theta, v_lambda);\n",
    "        error_cv[i] = J;\n",
    "        \n",
    "        [J, grad] = linearRegressionLossAndGrad(Xtest, ytest, theta, v_lambda);\n",
    "        error_test[i] = J;\n",
    "    \n",
    "    return error_train, error_cv, error_test"
   ]
  },
  {
   "cell_type": "code",
   "execution_count": 21,
   "metadata": {},
   "outputs": [],
   "source": [
    "def modelSelectionCurve(X, y, Xcv, ycv, Xtest, ytest, p, epoch, alpha, lambda_vec):\n",
    "\n",
    "    polynomial_degree_vec = np.zeros([p, 1]);\n",
    "    for i in range(p): polynomial_degree_vec[i] = i + 1;\n",
    "        \n",
    "    # You need to return these variables correctly.\n",
    "    error_train = np.zeros([lambda_vec.shape[0], p]);\n",
    "    error_cv    = np.zeros([lambda_vec.shape[0], p]);\n",
    "    error_test  = np.zeros([lambda_vec.shape[0], p]);\n",
    "\n",
    "    for i in range(lambda_vec.shape[0]):\n",
    "        \n",
    "        print('Computing lambda = ' + str(lambda_vec[i,0]))\n",
    "        \n",
    "        for j in range(p):\n",
    "\n",
    "            # Map X onto Polynomial Features and Normalize\n",
    "            X_poly = poly_features(X, power=j + 1, as_ndarray=False) # DataFrame format\n",
    "            # polynomial + normalize + bias + matrix\n",
    "            X_pnbm = (X_poly - X_poly.mean()) / X_poly.std()\n",
    "            X_pnbm.insert(0, 'Ones', 1) # add bias\n",
    "            X_pnbm = np.matrix(X_pnbm.iloc[:,:])\n",
    "\n",
    "            # Map X_poly_cv and normalize (using mu and sigma)\n",
    "            X_poly_cv = poly_features(Xcv, power=j + 1, as_ndarray=False) # DataFrame format\n",
    "            # polynomial + normalize + bias + matrix\n",
    "            X_pnbm_cv = (X_poly_cv - X_poly.mean()) / X_poly.std()\n",
    "            X_pnbm_cv.insert(0, 'Ones', 1) # add bias\n",
    "            X_pnbm_cv = np.matrix(X_pnbm_cv.iloc[:,:])\n",
    "\n",
    "            # Map X_poly_test and normalize (using mu and sigma)\n",
    "            X_poly_test = poly_features(Xtest, power=j + 1, as_ndarray=False) # DataFrame format\n",
    "            # polynomial + normalize + bias + matrix\n",
    "            X_pnbm_test = (X_poly_test - X_poly.mean()) / X_poly.std()\n",
    "            X_pnbm_test.insert(0, 'Ones', 1) # add bias\n",
    "            X_pnbm_test = np.matrix(X_pnbm_test.iloc[:,:])\n",
    "        \n",
    "            # training model\n",
    "            initial_theta     = np.zeros([X_pnbm.shape[1], 1]); \n",
    "            [theta, J_set] = batch_gradient_descent(X_pnbm, y, initial_theta, epoch, alpha, lambda_vec[i,0])\n",
    "        \n",
    "            # compute error\n",
    "            [error_train[i, j], grad] = linearRegressionLossAndGrad(X_pnbm, y, theta, lambda_vec[i,0]);\n",
    "            [error_cv[i, j], grad]    = linearRegressionLossAndGrad(X_pnbm_cv, ycv, theta, lambda_vec[i,0]);\n",
    "            [error_test[i, j], grad]  = linearRegressionLossAndGrad(X_pnbm_test, ytest, theta, lambda_vec[i,0]);\n",
    "\n",
    "    return polynomial_degree_vec, error_train, error_cv, error_test"
   ]
  },
  {
   "cell_type": "code",
   "execution_count": 5,
   "metadata": {},
   "outputs": [],
   "source": [
    "import numpy as np\n",
    "import scipy.io as sio\n",
    "import scipy.optimize as opt\n",
    "import pandas as pd\n",
    "import matplotlib.pyplot as plt\n",
    "import seaborn as sns"
   ]
  },
  {
   "cell_type": "code",
   "execution_count": 6,
   "metadata": {},
   "outputs": [],
   "source": [
    "d = sio.loadmat('ex5data1.mat')\n",
    "X, y, X_cv, y_cv, X_test, y_test = map(np.ravel, [d['X'], d['y'], d['Xval'], d['yval'], d['Xtest'], d['ytest']])"
   ]
  },
  {
   "cell_type": "code",
   "execution_count": 7,
   "metadata": {},
   "outputs": [],
   "source": [
    "# add bias unit\n",
    "X_m, X_vc_m, X_test_m = [x.reshape(x.shape[0], 1) for x in (X, X_cv, X_test)]\n",
    "X_m = np.matrix(X_m)\n",
    "X_vc_m = np.matrix(X_vc_m)\n",
    "X_test_m = np.matrix(X_test_m)\n",
    "\n",
    "X_bias, X_cv_bias, X_test_bias = [np.insert(x.reshape(x.shape[0], 1), 0, np.ones(x.shape[0]), axis=1) for x in (X, X_cv, X_test)]\n",
    "X_bias_m = np.matrix(X_bias)\n",
    "X_cv_bias_m = np.matrix(X_cv_bias)\n",
    "X_test_bias_m = np.matrix(X_test_bias)\n",
    "\n",
    "y_m, y_cv_m, y_test_m = [x.reshape(x.shape[0], 1) for x in (y, y_cv, y_test)]\n",
    "y_m = np.matrix(y_m)\n",
    "y_cv_m = np.matrix(y_cv_m)\n",
    "y_test_m = np.matrix(y_test_m)\n",
    "\n",
    "X_poly = poly_features(X, power=8, as_ndarray=False) # DataFrame format\n",
    "v_mean=X_poly.mean()\n",
    "v_std=X_poly.std()\n",
    "X_poly_normalize = (X_poly - X_poly.mean()) / X_poly.std()\n",
    "X_poly_normalize.insert(0, 'Ones', 1) # add bias\n",
    "X_poly_normalize_bias_m = np.matrix(X_poly_normalize.iloc[:,:])\n",
    "\n",
    "X_cv_poly = poly_features(X_cv, power=8, as_ndarray=False) # DataFrame format\n",
    "v_mean=X_cv_poly.mean()\n",
    "v_std=X_cv_poly.std()\n",
    "X_cv_poly_normalize = (X_cv_poly - X_cv_poly.mean()) / X_cv_poly.std()\n",
    "X_cv_poly_normalize.insert(0, 'Ones', 1) # add bias\n",
    "X_cv_poly_normalize_bias_m = np.matrix(X_cv_poly_normalize.iloc[:,:])\n",
    "\n",
    "X_test_poly = poly_features(X_test, power=8, as_ndarray=False) # DataFrame format\n",
    "v_mean=X_test_poly.mean()\n",
    "v_std=X_test_poly.std()\n",
    "X_test_poly_normalize = (X_test_poly - X_test_poly.mean()) / X_test_poly.std()\n",
    "X_test_poly_normalize.insert(0, 'Ones', 1) # add bias\n",
    "X_test_poly_normalize_bias_m = np.matrix(X_test_poly_normalize.iloc[:,:])\n",
    "\n",
    "theta = np.matrix(np.ones([X_bias.shape[1], 1]))"
   ]
  },
  {
   "cell_type": "code",
   "execution_count": 8,
   "metadata": {
    "scrolled": false
   },
   "outputs": [
    {
     "data": {
      "image/png": "[encoded data removed]",
      "text/plain": [
       "<Figure size 432x432 with 1 Axes>"
      ]
     },
     "metadata": {
      "needs_background": "light"
     },
     "output_type": "display_data"
    }
   ],
   "source": [
    "fig, ax = plt.subplots(figsize=(6,6))\n",
    "plt.scatter(X, y, color='r', marker='x', label=\"Train set\")\n",
    "plt.scatter(X_cv, y_cv, color='y', marker='o', label=\"Cross Validation set\")\n",
    "plt.scatter(X_test, y_test, color='b', marker='+', label=\"Test set\")\n",
    "ax.legend(loc=2)\n",
    "ax.set_xlabel('Change in water level (x)')\n",
    "ax.set_ylabel('Water flowing out of the dam (y)')\n",
    "ax.set_title('examples')\n",
    "plt.show()"
   ]
  },
  {
   "cell_type": "code",
   "execution_count": 9,
   "metadata": {
    "scrolled": true
   },
   "outputs": [
    {
     "data": {
      "text/plain": [
       "(matrix([[303.99319222]]), matrix([[-15.30301567],\n",
       "         [598.25074417]]))"
      ]
     },
     "execution_count": 9,
     "metadata": {},
     "output_type": "execute_result"
    }
   ],
   "source": [
    "# Test Regularized Linear Regression Cost and Gradient\n",
    "linearRegressionLossAndGrad(X_bias_m, y_m, theta, 1)"
   ]
  },
  {
   "cell_type": "markdown",
   "metadata": {},
   "source": [
    "# Train Linear Regression\n",
    "---"
   ]
  },
  {
   "cell_type": "code",
   "execution_count": 10,
   "metadata": {
    "scrolled": false
   },
   "outputs": [
    {
     "data": {
      "text/plain": [
       "(matrix([[ 1.15303016],\n",
       "         [-4.98167411]]), [303.9515255535976])"
      ]
     },
     "execution_count": 10,
     "metadata": {},
     "output_type": "execute_result"
    }
   ],
   "source": [
    "batch_gradient_descent(X_bias_m, y_m, theta, 1, 0.01, 0)"
   ]
  },
  {
   "cell_type": "code",
   "execution_count": null,
   "metadata": {},
   "outputs": [],
   "source": []
  },
  {
   "cell_type": "code",
   "execution_count": 11,
   "metadata": {
    "scrolled": false
   },
   "outputs": [],
   "source": [
    "# trainning lambad = 0 and poly = 1\n",
    "v_lambda = 0;\n",
    "epoch = 7000;\n",
    "alpha = 0.001;\n",
    "initial_theta = np.matrix(np.zeros([X_bias_m.shape[1], 1]));\n",
    "\n",
    "[theta, J_set] = batch_gradient_descent(X_bias_m, y_m, initial_theta, epoch, alpha, v_lambda)"
   ]
  },
  {
   "cell_type": "code",
   "execution_count": 12,
   "metadata": {},
   "outputs": [],
   "source": [
    "epoch = 21500 # 随着迭代的次数增加，拟合效果会好一些\n",
    "alpha = 0.3"
   ]
  },
  {
   "cell_type": "code",
   "execution_count": 13,
   "metadata": {},
   "outputs": [],
   "source": [
    "# trainning lambad = 0 and poly = 8\n",
    "v_lambda = 0;\n",
    "initial_theta = np.matrix(np.zeros([X_poly_normalize_bias_m.shape[1], 1]));\n",
    "\n",
    "[theta_0_8, J_set_0_8] = batch_gradient_descent(X_poly_normalize_bias_m, y_m, initial_theta, epoch, alpha, v_lambda)"
   ]
  },
  {
   "cell_type": "code",
   "execution_count": 14,
   "metadata": {},
   "outputs": [],
   "source": [
    "# trainning lambad = 1 and poly = 8\n",
    "v_lambda = 1;\n",
    "initial_theta = np.matrix(np.zeros([X_poly_normalize_bias_m.shape[1], 1]));\n",
    "\n",
    "[theta_1_8, J_set_1_8] = batch_gradient_descent(X_poly_normalize_bias_m, y_m, initial_theta, epoch, alpha, v_lambda)"
   ]
  },
  {
   "cell_type": "code",
   "execution_count": 15,
   "metadata": {
    "scrolled": true
   },
   "outputs": [],
   "source": [
    "v_lambda = 0;\n",
    "epoch = 7000;\n",
    "alpha = 0.001;\n",
    "[error_train_1, error_cv_1, error_test_1] = learningCurve(X_bias_m, y_m, X_cv_bias_m, y_cv_m, X_test_bias_m, y_test_m, epoch, alpha, v_lambda);\n",
    "[error_train_8, error_cv_8, error_test_8] = learningCurve(X_poly_normalize_bias_m, y_m, X_cv_poly_normalize_bias_m, y_cv_m, X_test_poly_normalize_bias_m, y_test_m, epoch, alpha, v_lambda);\n",
    "[error_train_f, error_cv_f, error_test_f] = learningCurve(X_poly_normalize_bias_m, y_m, X_cv_poly_normalize_bias_m, y_cv_m, X_test_poly_normalize_bias_m, y_test_m, epoch, alpha, 1);"
   ]
  },
  {
   "cell_type": "code",
   "execution_count": 32,
   "metadata": {
    "scrolled": false
   },
   "outputs": [
    {
     "data": {
      "image/png": "[encoded data removed]",
      "text/plain": [
       "<Figure size 1080x720 with 6 Axes>"
      ]
     },
     "metadata": {
      "needs_background": "light"
     },
     "output_type": "display_data"
    }
   ],
   "source": [
    "fig = plt.figure(num=1, figsize=(15,10))\n",
    "\n",
    "ax1 = fig.add_subplot(231)\n",
    "ax1.scatter(X, y, color='r', marker='x', label=\"Train set\")\n",
    "ax1.plot(X, X_bias_m @ theta, '--', label=\"Prediction\")\n",
    "ax1.legend(loc=2)\n",
    "ax1.set_xlabel('Change in water level (x) - Figure 1')\n",
    "ax1.set_ylabel('Water flowing out of the dam (y)')\n",
    "ax1.set_title('Linear Regression Fit \\n (lambda = 0 and power = 1)')\n",
    "\n",
    "m = X_bias.shape[0]\n",
    "tmp_x = np.arange(start=X.min() - 15, stop=X.max() + 25, step=0.05)\n",
    "tmp_x_poly =poly_features(tmp_x, power=8, as_ndarray=False) # DataFrame format\n",
    "tmp_x_poly_normalize = (tmp_x_poly - X_poly.mean()) / X_poly.std()\n",
    "tmp_x_poly_normalize.insert(0, 'Ones', 1) # add bias\n",
    "tmp_x_poly_normalize_bias_m = np.matrix(tmp_x_poly_normalize.iloc[:,:])\n",
    "\n",
    "ax2 = fig.add_subplot(232)\n",
    "ax2.scatter(X, y, color='r', marker='x', label=\"Train set\")\n",
    "ax2.plot(tmp_x, tmp_x_poly_normalize_bias_m @ theta_0_8, '--', label=\"Prediction\")\n",
    "ax2.legend(loc=2)\n",
    "ax2.set_xlabel('Change in water level (x) - Figure 2')\n",
    "ax2.set_ylabel('Water flowing out of the dam (y)')\n",
    "ax2.set_title('Linear Regression Fit \\n (lambda = 0 and power = 8)')\n",
    "\n",
    "ax3 = fig.add_subplot(233)\n",
    "ax3.scatter(X, y, color='r', marker='x', label=\"Train set\")\n",
    "ax3.plot(tmp_x, tmp_x_poly_normalize_bias_m @ theta_1_8, '--', label=\"Prediction\")\n",
    "ax3.legend(loc=2)\n",
    "ax3.set_xlabel('Change in water level (x) - Figure 3')\n",
    "ax3.set_ylabel('Water flowing out of the dam (y)')\n",
    "ax3.set_title('Linear Regression Fit \\n (lambda = 1 and power = 8)')\n",
    "\n",
    "ax4 = fig.add_subplot(234)\n",
    "ax4.plot(range(1,m+1), error_train_1, label='Train')\n",
    "ax4.plot(range(1,m+1), error_cv_1, label='Cross Validation')\n",
    "ax4.legend(loc=0)\n",
    "ax4.set_xlabel('Number of training examples - Figure 4')\n",
    "ax4.set_ylabel('Error')\n",
    "ax4.set_title('Learning curve for Figure 1(High Bias)')\n",
    "\n",
    "ax5 = fig.add_subplot(235)\n",
    "ax5.plot(range(1,m+1), error_train_8, label='Train')\n",
    "ax5.plot(range(1,m+1), error_cv_8, label='Cross Validation')\n",
    "ax5.legend(loc=0)\n",
    "ax5.set_xlabel('Number of training examples - Figure 5')\n",
    "ax5.set_ylabel('Error')\n",
    "ax5.set_title('Learning curve for Figure 2(High Variance)')\n",
    "\n",
    "ax6 = fig.add_subplot(236)\n",
    "ax6.plot(range(1,m+1), error_train_f, label='Train')\n",
    "ax6.plot(range(1,m+1), error_cv_f, label='Cross Validation')\n",
    "ax6.legend(loc=0)\n",
    "ax6.set_xlabel('Number of training examples - Figure 6')\n",
    "ax6.set_ylabel('Error')\n",
    "ax6.set_title('Learning curve for Figure 3(Just Right)');"
   ]
  },
  {
   "cell_type": "code",
   "execution_count": 17,
   "metadata": {
    "scrolled": true
   },
   "outputs": [],
   "source": [
    "te=np.array([range(1, 13)]).T.astype(int);"
   ]
  },
  {
   "cell_type": "code",
   "execution_count": 18,
   "metadata": {
    "scrolled": false
   },
   "outputs": [
    {
     "data": {
      "text/html": [
       "<div>\n",
       "<style scoped>\n",
       "    .dataframe tbody tr th:only-of-type {\n",
       "        vertical-align: middle;\n",
       "    }\n",
       "\n",
       "    .dataframe tbody tr th {\n",
       "        vertical-align: top;\n",
       "    }\n",
       "\n",
       "    .dataframe thead th {\n",
       "        text-align: right;\n",
       "    }\n",
       "</style>\n",
       "<table border=\"1\" class=\"dataframe\">\n",
       "  <thead>\n",
       "    <tr style=\"text-align: right;\">\n",
       "      <th></th>\n",
       "      <th>Training Examples</th>\n",
       "      <th>Train Error</th>\n",
       "      <th>Cross Validation Error</th>\n",
       "      <th>Test Error</th>\n",
       "    </tr>\n",
       "  </thead>\n",
       "  <tbody>\n",
       "    <tr>\n",
       "      <th>0</th>\n",
       "      <td>1.0</td>\n",
       "      <td>0.000000</td>\n",
       "      <td>205.121096</td>\n",
       "      <td>238.968432</td>\n",
       "    </tr>\n",
       "    <tr>\n",
       "      <th>1</th>\n",
       "      <td>2.0</td>\n",
       "      <td>0.141759</td>\n",
       "      <td>148.209792</td>\n",
       "      <td>174.697397</td>\n",
       "    </tr>\n",
       "    <tr>\n",
       "      <th>2</th>\n",
       "      <td>3.0</td>\n",
       "      <td>3.286690</td>\n",
       "      <td>45.015644</td>\n",
       "      <td>41.326025</td>\n",
       "    </tr>\n",
       "    <tr>\n",
       "      <th>3</th>\n",
       "      <td>4.0</td>\n",
       "      <td>2.842855</td>\n",
       "      <td>48.408832</td>\n",
       "      <td>43.716019</td>\n",
       "    </tr>\n",
       "    <tr>\n",
       "      <th>4</th>\n",
       "      <td>5.0</td>\n",
       "      <td>13.154193</td>\n",
       "      <td>35.819772</td>\n",
       "      <td>32.989797</td>\n",
       "    </tr>\n",
       "    <tr>\n",
       "      <th>5</th>\n",
       "      <td>6.0</td>\n",
       "      <td>19.444092</td>\n",
       "      <td>33.813695</td>\n",
       "      <td>31.982672</td>\n",
       "    </tr>\n",
       "    <tr>\n",
       "      <th>6</th>\n",
       "      <td>7.0</td>\n",
       "      <td>20.098610</td>\n",
       "      <td>31.975242</td>\n",
       "      <td>31.678280</td>\n",
       "    </tr>\n",
       "    <tr>\n",
       "      <th>7</th>\n",
       "      <td>8.0</td>\n",
       "      <td>18.173002</td>\n",
       "      <td>30.856435</td>\n",
       "      <td>30.814665</td>\n",
       "    </tr>\n",
       "    <tr>\n",
       "      <th>8</th>\n",
       "      <td>9.0</td>\n",
       "      <td>22.609515</td>\n",
       "      <td>31.150572</td>\n",
       "      <td>32.397108</td>\n",
       "    </tr>\n",
       "    <tr>\n",
       "      <th>9</th>\n",
       "      <td>10.0</td>\n",
       "      <td>23.261703</td>\n",
       "      <td>28.944734</td>\n",
       "      <td>31.138211</td>\n",
       "    </tr>\n",
       "    <tr>\n",
       "      <th>10</th>\n",
       "      <td>11.0</td>\n",
       "      <td>24.317413</td>\n",
       "      <td>29.576201</td>\n",
       "      <td>32.935708</td>\n",
       "    </tr>\n",
       "    <tr>\n",
       "      <th>11</th>\n",
       "      <td>12.0</td>\n",
       "      <td>22.374012</td>\n",
       "      <td>29.451906</td>\n",
       "      <td>32.537162</td>\n",
       "    </tr>\n",
       "  </tbody>\n",
       "</table>\n",
       "</div>"
      ],
      "text/plain": [
       "    Training Examples  Train Error  Cross Validation Error  Test Error\n",
       "0                 1.0     0.000000              205.121096  238.968432\n",
       "1                 2.0     0.141759              148.209792  174.697397\n",
       "2                 3.0     3.286690               45.015644   41.326025\n",
       "3                 4.0     2.842855               48.408832   43.716019\n",
       "4                 5.0    13.154193               35.819772   32.989797\n",
       "5                 6.0    19.444092               33.813695   31.982672\n",
       "6                 7.0    20.098610               31.975242   31.678280\n",
       "7                 8.0    18.173002               30.856435   30.814665\n",
       "8                 9.0    22.609515               31.150572   32.397108\n",
       "9                10.0    23.261703               28.944734   31.138211\n",
       "10               11.0    24.317413               29.576201   32.935708\n",
       "11               12.0    22.374012               29.451906   32.537162"
      ]
     },
     "execution_count": 18,
     "metadata": {},
     "output_type": "execute_result"
    }
   ],
   "source": [
    "L0P1=np.hstack((te, np.around(error_train_1, decimals=8), np.around(error_cv_1, decimals=8), np.around(error_test_1, decimals=8)))\n",
    "pd.DataFrame(L0P1, columns=['Training Examples','Train Error','Cross Validation Error','Test Error'])"
   ]
  },
  {
   "cell_type": "code",
   "execution_count": 19,
   "metadata": {},
   "outputs": [
    {
     "data": {
      "text/html": [
       "<div>\n",
       "<style scoped>\n",
       "    .dataframe tbody tr th:only-of-type {\n",
       "        vertical-align: middle;\n",
       "    }\n",
       "\n",
       "    .dataframe tbody tr th {\n",
       "        vertical-align: top;\n",
       "    }\n",
       "\n",
       "    .dataframe thead th {\n",
       "        text-align: right;\n",
       "    }\n",
       "</style>\n",
       "<table border=\"1\" class=\"dataframe\">\n",
       "  <thead>\n",
       "    <tr style=\"text-align: right;\">\n",
       "      <th></th>\n",
       "      <th>Training Examples</th>\n",
       "      <th>Train Error</th>\n",
       "      <th>Cross Validation Error</th>\n",
       "      <th>Test Error</th>\n",
       "    </tr>\n",
       "  </thead>\n",
       "  <tbody>\n",
       "    <tr>\n",
       "      <th>0</th>\n",
       "      <td>1.0</td>\n",
       "      <td>0.000000</td>\n",
       "      <td>158.574519</td>\n",
       "      <td>183.672180</td>\n",
       "    </tr>\n",
       "    <tr>\n",
       "      <th>1</th>\n",
       "      <td>2.0</td>\n",
       "      <td>0.001114</td>\n",
       "      <td>158.188619</td>\n",
       "      <td>183.121835</td>\n",
       "    </tr>\n",
       "    <tr>\n",
       "      <th>2</th>\n",
       "      <td>3.0</td>\n",
       "      <td>0.145675</td>\n",
       "      <td>66.845233</td>\n",
       "      <td>69.800472</td>\n",
       "    </tr>\n",
       "    <tr>\n",
       "      <th>3</th>\n",
       "      <td>4.0</td>\n",
       "      <td>0.166527</td>\n",
       "      <td>69.508667</td>\n",
       "      <td>72.421671</td>\n",
       "    </tr>\n",
       "    <tr>\n",
       "      <th>4</th>\n",
       "      <td>5.0</td>\n",
       "      <td>0.055987</td>\n",
       "      <td>15.467526</td>\n",
       "      <td>11.148458</td>\n",
       "    </tr>\n",
       "    <tr>\n",
       "      <th>5</th>\n",
       "      <td>6.0</td>\n",
       "      <td>0.047623</td>\n",
       "      <td>15.548999</td>\n",
       "      <td>11.111492</td>\n",
       "    </tr>\n",
       "    <tr>\n",
       "      <th>6</th>\n",
       "      <td>7.0</td>\n",
       "      <td>0.870065</td>\n",
       "      <td>9.348289</td>\n",
       "      <td>7.372427</td>\n",
       "    </tr>\n",
       "    <tr>\n",
       "      <th>7</th>\n",
       "      <td>8.0</td>\n",
       "      <td>0.992566</td>\n",
       "      <td>8.400116</td>\n",
       "      <td>7.011602</td>\n",
       "    </tr>\n",
       "    <tr>\n",
       "      <th>8</th>\n",
       "      <td>9.0</td>\n",
       "      <td>1.188649</td>\n",
       "      <td>9.631750</td>\n",
       "      <td>7.729722</td>\n",
       "    </tr>\n",
       "    <tr>\n",
       "      <th>9</th>\n",
       "      <td>10.0</td>\n",
       "      <td>1.134592</td>\n",
       "      <td>9.264892</td>\n",
       "      <td>7.663120</td>\n",
       "    </tr>\n",
       "    <tr>\n",
       "      <th>10</th>\n",
       "      <td>11.0</td>\n",
       "      <td>1.037289</td>\n",
       "      <td>9.067929</td>\n",
       "      <td>7.490088</td>\n",
       "    </tr>\n",
       "    <tr>\n",
       "      <th>11</th>\n",
       "      <td>12.0</td>\n",
       "      <td>1.974072</td>\n",
       "      <td>6.612043</td>\n",
       "      <td>5.730089</td>\n",
       "    </tr>\n",
       "  </tbody>\n",
       "</table>\n",
       "</div>"
      ],
      "text/plain": [
       "    Training Examples  Train Error  Cross Validation Error  Test Error\n",
       "0                 1.0     0.000000              158.574519  183.672180\n",
       "1                 2.0     0.001114              158.188619  183.121835\n",
       "2                 3.0     0.145675               66.845233   69.800472\n",
       "3                 4.0     0.166527               69.508667   72.421671\n",
       "4                 5.0     0.055987               15.467526   11.148458\n",
       "5                 6.0     0.047623               15.548999   11.111492\n",
       "6                 7.0     0.870065                9.348289    7.372427\n",
       "7                 8.0     0.992566                8.400116    7.011602\n",
       "8                 9.0     1.188649                9.631750    7.729722\n",
       "9                10.0     1.134592                9.264892    7.663120\n",
       "10               11.0     1.037289                9.067929    7.490088\n",
       "11               12.0     1.974072                6.612043    5.730089"
      ]
     },
     "execution_count": 19,
     "metadata": {},
     "output_type": "execute_result"
    }
   ],
   "source": [
    "# Polynomial Regression\n",
    "L0P8=np.hstack((te, np.around(error_train_8, decimals=8), np.around(error_cv_8, decimals=8), np.around(error_test_8, decimals=8)))\n",
    "pd.DataFrame(L0P8, columns=['Training Examples','Train Error','Cross Validation Error','Test Error'])"
   ]
  },
  {
   "cell_type": "code",
   "execution_count": 20,
   "metadata": {
    "scrolled": false
   },
   "outputs": [
    {
     "data": {
      "text/html": [
       "<div>\n",
       "<style scoped>\n",
       "    .dataframe tbody tr th:only-of-type {\n",
       "        vertical-align: middle;\n",
       "    }\n",
       "\n",
       "    .dataframe tbody tr th {\n",
       "        vertical-align: top;\n",
       "    }\n",
       "\n",
       "    .dataframe thead th {\n",
       "        text-align: right;\n",
       "    }\n",
       "</style>\n",
       "<table border=\"1\" class=\"dataframe\">\n",
       "  <thead>\n",
       "    <tr style=\"text-align: right;\">\n",
       "      <th></th>\n",
       "      <th>Training Examples</th>\n",
       "      <th>Train Error</th>\n",
       "      <th>Cross Validation Error</th>\n",
       "      <th>Test Error</th>\n",
       "    </tr>\n",
       "  </thead>\n",
       "  <tbody>\n",
       "    <tr>\n",
       "      <th>0</th>\n",
       "      <td>1.0</td>\n",
       "      <td>0.011819</td>\n",
       "      <td>141.969994</td>\n",
       "      <td>167.741171</td>\n",
       "    </tr>\n",
       "    <tr>\n",
       "      <th>1</th>\n",
       "      <td>2.0</td>\n",
       "      <td>0.082657</td>\n",
       "      <td>147.750886</td>\n",
       "      <td>173.311207</td>\n",
       "    </tr>\n",
       "    <tr>\n",
       "      <th>2</th>\n",
       "      <td>3.0</td>\n",
       "      <td>18.929405</td>\n",
       "      <td>19.398451</td>\n",
       "      <td>24.990685</td>\n",
       "    </tr>\n",
       "    <tr>\n",
       "      <th>3</th>\n",
       "      <td>4.0</td>\n",
       "      <td>15.181235</td>\n",
       "      <td>24.558575</td>\n",
       "      <td>27.530675</td>\n",
       "    </tr>\n",
       "    <tr>\n",
       "      <th>4</th>\n",
       "      <td>5.0</td>\n",
       "      <td>11.727952</td>\n",
       "      <td>10.187336</td>\n",
       "      <td>12.388606</td>\n",
       "    </tr>\n",
       "    <tr>\n",
       "      <th>5</th>\n",
       "      <td>6.0</td>\n",
       "      <td>10.152380</td>\n",
       "      <td>12.301498</td>\n",
       "      <td>13.817985</td>\n",
       "    </tr>\n",
       "    <tr>\n",
       "      <th>6</th>\n",
       "      <td>7.0</td>\n",
       "      <td>9.462124</td>\n",
       "      <td>9.160031</td>\n",
       "      <td>11.338593</td>\n",
       "    </tr>\n",
       "    <tr>\n",
       "      <th>7</th>\n",
       "      <td>8.0</td>\n",
       "      <td>8.313390</td>\n",
       "      <td>8.948530</td>\n",
       "      <td>11.298106</td>\n",
       "    </tr>\n",
       "    <tr>\n",
       "      <th>8</th>\n",
       "      <td>9.0</td>\n",
       "      <td>7.857416</td>\n",
       "      <td>10.142667</td>\n",
       "      <td>12.111877</td>\n",
       "    </tr>\n",
       "    <tr>\n",
       "      <th>9</th>\n",
       "      <td>10.0</td>\n",
       "      <td>7.124100</td>\n",
       "      <td>9.872218</td>\n",
       "      <td>12.042113</td>\n",
       "    </tr>\n",
       "    <tr>\n",
       "      <th>10</th>\n",
       "      <td>11.0</td>\n",
       "      <td>6.478295</td>\n",
       "      <td>9.878684</td>\n",
       "      <td>12.026384</td>\n",
       "    </tr>\n",
       "    <tr>\n",
       "      <th>11</th>\n",
       "      <td>12.0</td>\n",
       "      <td>7.399341</td>\n",
       "      <td>8.083455</td>\n",
       "      <td>10.083408</td>\n",
       "    </tr>\n",
       "  </tbody>\n",
       "</table>\n",
       "</div>"
      ],
      "text/plain": [
       "    Training Examples  Train Error  Cross Validation Error  Test Error\n",
       "0                 1.0     0.011819              141.969994  167.741171\n",
       "1                 2.0     0.082657              147.750886  173.311207\n",
       "2                 3.0    18.929405               19.398451   24.990685\n",
       "3                 4.0    15.181235               24.558575   27.530675\n",
       "4                 5.0    11.727952               10.187336   12.388606\n",
       "5                 6.0    10.152380               12.301498   13.817985\n",
       "6                 7.0     9.462124                9.160031   11.338593\n",
       "7                 8.0     8.313390                8.948530   11.298106\n",
       "8                 9.0     7.857416               10.142667   12.111877\n",
       "9                10.0     7.124100                9.872218   12.042113\n",
       "10               11.0     6.478295                9.878684   12.026384\n",
       "11               12.0     7.399341                8.083455   10.083408"
      ]
     },
     "execution_count": 20,
     "metadata": {},
     "output_type": "execute_result"
    }
   ],
   "source": [
    "L1P1=np.hstack((te, np.around(error_train_f, decimals=8), np.around(error_cv_f, decimals=8), np.around(error_test_f, decimals=8)))\n",
    "pd.DataFrame(L1P1, columns=['Training Examples','Train Error','Cross Validation Error','Test Error'])"
   ]
  },
  {
   "cell_type": "markdown",
   "metadata": {},
   "source": [
    "# Selecting Lambda / polynomial degree / Computing test set error\n",
    "---"
   ]
  },
  {
   "cell_type": "code",
   "execution_count": 22,
   "metadata": {},
   "outputs": [
    {
     "name": "stdout",
     "output_type": "stream",
     "text": [
      "Computing lambda = 0.0\n",
      "Computing lambda = 0.001\n",
      "Computing lambda = 0.003\n",
      "Computing lambda = 0.01\n",
      "Computing lambda = 0.03\n",
      "Computing lambda = 0.1\n",
      "Computing lambda = 0.3\n",
      "Computing lambda = 1.0\n",
      "Computing lambda = 3.0\n"
     ]
    }
   ],
   "source": [
    "#lambda_vec = [0, 0.01, 0.02, 0.04, 0.08, 0.16, 0.32, 0.64, 1.28, 2.56, 5.12, 10.24];\n",
    "lambda_vec = [0, 0.001, 0.003, 0.01, 0.03, 0.1, 0.3, 1, 3];\n",
    "lambda_vec = np.array(lambda_vec).reshape(len(lambda_vec),1);\n",
    "\n",
    "p = 10;\n",
    "epoch = 5000;\n",
    "alpha = 0.23;\n",
    "[polynomial_degree_vec, error_train, error_cv, error_test] = modelSelectionCurve(X, y_m, X_cv, y_cv_m, X_test, y_test_m, p, epoch, alpha, lambda_vec);"
   ]
  },
  {
   "cell_type": "code",
   "execution_count": 23,
   "metadata": {
    "scrolled": false
   },
   "outputs": [
    {
     "data": {
      "image/png": "[encoded data removed]",
      "text/plain": [
       "<Figure size 792x792 with 9 Axes>"
      ]
     },
     "metadata": {
      "needs_background": "light"
     },
     "output_type": "display_data"
    }
   ],
   "source": [
    "fig = plt.figure(num=2, figsize=(11,11))\n",
    "\n",
    "for i in range(1, lambda_vec.shape[0]+1):\n",
    "\tax = fig.add_subplot(3, 3, i)\n",
    "\tax.plot(polynomial_degree_vec, error_train[i-1, :], label='Train')\n",
    "\tax.plot(polynomial_degree_vec, error_cv[i-1, :], label='Cross Validation')\n",
    "\tax.legend(loc=0)\n",
    "\tax.set_xlabel('polynomial degree(when λ='+str(lambda_vec[i - 1,0])+')')\n",
    "\tax.set_ylabel('Error')\n",
    "\t#ax.set_title('lambda = ' + str(lambda_vec[i - 1,0]))"
   ]
  },
  {
   "cell_type": "markdown",
   "metadata": {},
   "source": [
    "上面横着数第八张图片中，当多项式次数等于8时，最优（训练误差和交叉验证误差非常接近且位于很低的位置）。 \n",
    "\n",
    "个人的一些直觉，不绝对：  \n",
    "让alpha在允许范围内尽可能大（范围判断：范围外时程序会产生warning，无效值），让梯度下降的步伐大一点（迭代快一些，不然好慢），然后迭代次数多一些，目的是确保梯度下降逼近最优值。\n",
    "当梯度下降迭代的次数逐渐增多，theta会逐渐接近最优值，但在此过程中，theta的解会呈现出先高偏差，然后差不多正好，再然后，当接近最优解时又变的高方差（过拟合）。 \n",
    "当然，我们的假设是，lambda=0，也就是没有正则化，而你的模型是高方差的（当梯度下降逼近最优解时）。那么在求解theta的过程中就会呈现出这种情况。记得 Teacher 吴（Andrew Ng）貌似好像也是提过一个概念叫\"提前终止\"，也就是当你是高方差模型时，可以提前终止梯度下降，那很有可能会得到一个还算不错的解。但是不好把控。所以，我的理解是，一种可以控制的办法是，尽可能逼近最优解，但是用lambda来抑制过拟合，也就是正则化，目的是下降逼近最优解时，模型也是正好拟合的，不高偏差也不高方差。其实正则化下得到的最优解和提前终止时的最优解很可能很接近，只不过，似乎可以变相的理解为，正则化的方法帮我们比较精准的决定了在哪里提前终止是最好的。  \n",
    "\n",
    "---"
   ]
  },
  {
   "cell_type": "markdown",
   "metadata": {},
   "source": [
    "下面给出上面9张图的画图数据，可以看到当lambda=1且Power=8时的数据是：训练误差和交叉验证误差非常接近的，且其值很低。并且测试误差也是很低的。测试误差在上图中未画出，所以可通过下面的数据来查看测试误差。  \n",
    "\n",
    "```\n",
    "   Lambda  Power  Train Error  Cross Validation Error  Test Error  \n",
    "      1.0    8.0     7.268148                7.227460    5.692820  \n",
    "```\n",
    "\n",
    "可以和其他情况的数据对比来查看和理解"
   ]
  },
  {
   "cell_type": "code",
   "execution_count": 24,
   "metadata": {
    "scrolled": false
   },
   "outputs": [
    {
     "name": "stdout",
     "output_type": "stream",
     "text": [
      "   Lambda  Power  Train Error  Cross Validation Error  Test Error\n",
      "0     0.0    1.0    22.373907               29.433818   32.505749\n",
      "1     0.0    2.0     1.018661                6.994650    8.011624\n",
      "2     0.0    3.0     0.716365                5.768795    5.495818\n",
      "3     0.0    4.0     0.303812                9.216277    9.972814\n",
      "4     0.0    5.0     0.213785               13.816523   12.706962\n",
      "5     0.0    6.0     0.208061               15.655634   14.187398\n",
      "6     0.0    7.0     0.219961               16.920310   14.891692\n",
      "7     0.0    8.0     0.211070               20.749295   17.892450\n",
      "8     0.0    9.0     0.194059               16.918090   17.281769\n",
      "9     0.0   10.0     0.191071               21.325329   22.480930\n",
      "\n",
      "   Lambda  Power  Train Error  Cross Validation Error  Test Error\n",
      "0   0.001    1.0    22.378966               29.436133   32.509463\n",
      "1   0.001    2.0     1.029054                6.998434    8.017137\n",
      "2   0.001    3.0     0.725102                5.769859    5.496500\n",
      "3   0.001    4.0     0.318749                9.163859    9.907885\n",
      "4   0.001    5.0     0.234724               13.508402   12.487203\n",
      "5   0.001    6.0     0.228990               15.318500   13.978790\n",
      "6   0.001    7.0     0.239263               16.626097   14.699314\n",
      "7   0.001    8.0     0.230715               20.296250   17.616091\n",
      "8   0.001    9.0     0.216113               16.788703   17.054279\n",
      "9   0.001   10.0     0.212893               21.020590   22.032866\n",
      "\n",
      "   Lambda  Power  Train Error  Cross Validation Error  Test Error\n",
      "0   0.003    1.0    22.389083               29.440764   32.516889\n",
      "1   0.003    2.0     1.049830                7.006005    8.028166\n",
      "2   0.003    3.0     0.742561                5.772005    5.497909\n",
      "3   0.003    4.0     0.348330                9.062068    9.781621\n",
      "4   0.003    5.0     0.274827               12.946401   12.084445\n",
      "5   0.003    6.0     0.268839               14.702204   13.599219\n",
      "6   0.003    7.0     0.276303               16.070870   14.336485\n",
      "7   0.003    8.0     0.268313               19.456715   17.104435\n",
      "8   0.003    9.0     0.257568               16.520508   16.634176\n",
      "9   0.003   10.0     0.254007               20.431687   21.221988\n",
      "\n",
      "   Lambda  Power  Train Error  Cross Validation Error  Test Error\n",
      "0    0.01    1.0    22.424463               29.456970   32.542876\n",
      "1    0.01    2.0     1.122453                7.032532    8.066788\n",
      "2    0.01    3.0     0.803517                5.779704    5.503297\n",
      "3    0.01    4.0     0.448955                8.735297    9.374603\n",
      "4    0.01    5.0     0.401221               11.420439   10.970480\n",
      "5    0.01    6.0     0.392764               13.016933   12.564163\n",
      "6    0.01    7.0     0.393899               14.423041   13.259547\n",
      "7    0.01    8.0     0.386911               17.077548   15.659165\n",
      "8    0.01    9.0     0.383337               15.532597   15.433463\n",
      "9    0.01   10.0     0.379312               18.575488   19.047666\n",
      "\n",
      "   Lambda  Power  Train Error  Cross Validation Error  Test Error\n",
      "0    0.03    1.0    22.525302               29.503284   32.617074\n",
      "1    0.03    2.0     1.329153                7.108560    8.177317\n",
      "2    0.03    3.0     0.976414                5.803229    5.522406\n",
      "3    0.03    4.0     0.715158                8.004913    8.453760\n",
      "4    0.03    5.0     0.698852                9.074367    9.123293\n",
      "5    0.03    6.0     0.680063               10.358725   10.829638\n",
      "6    0.03    7.0     0.676795               11.364823   11.223323\n",
      "7    0.03    8.0     0.669290               13.035096   13.209598\n",
      "8    0.03    9.0     0.669233               12.901655   13.210219\n",
      "9    0.03   10.0     0.665221               14.686047   15.673014\n",
      "\n",
      "   Lambda  Power  Train Error  Cross Validation Error  Test Error\n",
      "0     0.1    1.0    22.875376               29.665460   32.876181\n",
      "1     0.1    2.0     2.043449                7.377276    8.566149\n",
      "2     0.1    3.0     1.568058                5.900565    5.625682\n",
      "3     0.1    4.0     1.487385                6.735014    6.792977\n",
      "4     0.1    5.0     1.487271                6.696387    6.759284\n",
      "5     0.1    6.0     1.455866                7.352464    8.086189\n",
      "6     0.1    7.0     1.455698                7.438491    8.107190\n",
      "7     0.1    8.0     1.443470                8.149380    9.725272\n",
      "8     0.1    9.0     1.443448                8.103016    9.745602\n",
      "9     0.1   10.0     1.438250                8.785097   11.628539\n",
      "\n",
      "   Lambda  Power  Train Error  Cross Validation Error  Test Error\n",
      "0     0.3    1.0    23.851687               30.129182   33.611266\n",
      "1     0.3    2.0     4.009039                8.164494    9.690963\n",
      "2     0.3    3.0     3.164606                6.262161    6.119634\n",
      "3     0.3    4.0     3.155801                6.106783    5.882402\n",
      "4     0.3    5.0     3.121295                5.885969    5.461095\n",
      "5     0.3    6.0     3.115621                5.939530    5.737375\n",
      "6     0.3    7.0     3.108367                5.848184    5.679648\n",
      "7     0.3    8.0     3.101591                5.882451    6.270667\n",
      "8     0.3    9.0     3.097416                5.813342    6.540025\n",
      "9     0.3   10.0     3.092598                5.838914    7.578331\n",
      "\n",
      "   Lambda  Power  Train Error  Cross Validation Error  Test Error\n",
      "0     1.0    1.0    27.012495               31.745922   36.116994\n",
      "1     1.0    2.0    10.119226               11.054040   13.695325\n",
      "2     1.0    3.0     8.032140                7.916872    8.650425\n",
      "3     1.0    4.0     7.644516                7.158764    7.470522\n",
      "4     1.0    5.0     7.393734                6.854885    6.529840\n",
      "5     1.0    6.0     7.338822                6.922195    6.112706\n",
      "6     1.0    7.0     7.277465                7.076530    5.921437\n",
      "7     1.0    8.0     7.268148                7.227460    5.692820\n",
      "8     1.0    9.0     7.244073                7.486766    5.865164\n",
      "9     1.0   10.0     7.243083                7.565435    5.717699\n",
      "\n",
      "   Lambda  Power  Train Error  Cross Validation Error  Test Error\n",
      "0     3.0    1.0    34.301705               36.146772   42.628843\n",
      "1     3.0    2.0    22.918885               19.211774   24.498841\n",
      "2     3.0    3.0    18.412051               13.390526   16.639543\n",
      "3     3.0    4.0    17.362040               11.612230   14.216254\n",
      "4     3.0    5.0    16.480479               10.375733   12.436384\n",
      "5     3.0    6.0    16.196655               10.077697   11.216683\n",
      "6     3.0    7.0    15.962923                9.961482   10.926670\n",
      "7     3.0    8.0    15.867688               10.089385   10.126367\n",
      "8     3.0    9.0    15.793216               10.248905   10.311317\n",
      "9     3.0   10.0    15.760558               10.454964    9.698957\n",
      "\n"
     ]
    }
   ],
   "source": [
    "te=np.array([range(1, 11)]).T.astype(int);\n",
    "for i in range(lambda_vec.shape[0]):\n",
    "    l = np.array(np.ones([10,1])) * lambda_vec[i,0]\n",
    "    error_train_m = np.matrix(np.around(error_train[i,:], decimals=8)).T\n",
    "    error_cv_m = np.matrix(np.around(error_cv[i,:], decimals=8)).T\n",
    "    error_test_m = np.matrix(np.around(error_test[i,:], decimals=8)).T\n",
    "\n",
    "    tmp_m=np.hstack((l, te, error_train_m, error_cv_m, error_test_m))\n",
    "    rst = pd.DataFrame(tmp_m, columns=['Lambda', 'Power','Train Error','Cross Validation Error','Test Error'])\n",
    "    print(rst)\n",
    "    print()"
   ]
  }
 ],
 "metadata": {
  "kernelspec": {
   "display_name": "Python 3",
   "language": "python",
   "name": "python3"
  },
  "language_info": {
   "codemirror_mode": {
    "name": "ipython",
    "version": 3
   },
   "file_extension": ".py",
   "mimetype": "text/x-python",
   "name": "python",
   "nbconvert_exporter": "python",
   "pygments_lexer": "ipython3",
   "version": "3.6.2rc1"
  }
 },
 "nbformat": 4,
 "nbformat_minor": 2
}
