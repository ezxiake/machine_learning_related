{
 "cells": [
  {
   "cell_type": "code",
   "execution_count": 1,
   "metadata": {},
   "outputs": [],
   "source": [
    "import numpy as np\n",
    "import pandas as pd\n",
    "import matplotlib.pyplot as plt\n",
    "import seaborn as sns\n",
    "import scipy.io as sio\n",
    "#plt.style.use('fivethirtyeight')\n",
    "#sns.set(context=\"notebook\", style=\"whitegrid\", palette=\"dark\")\n",
    "sns.set(context=\"notebook\", style=\"white\")"
   ]
  },
  {
   "cell_type": "markdown",
   "metadata": {},
   "source": [
    "# Logistic Regression without Regularization\n",
    "---"
   ]
  },
  {
   "cell_type": "code",
   "execution_count": 17,
   "metadata": {},
   "outputs": [
    {
     "data": {
      "text/html": [
       "<div>\n",
       "<style scoped>\n",
       "    .dataframe tbody tr th:only-of-type {\n",
       "        vertical-align: middle;\n",
       "    }\n",
       "\n",
       "    .dataframe tbody tr th {\n",
       "        vertical-align: top;\n",
       "    }\n",
       "\n",
       "    .dataframe thead th {\n",
       "        text-align: right;\n",
       "    }\n",
       "</style>\n",
       "<table border=\"1\" class=\"dataframe\">\n",
       "  <thead>\n",
       "    <tr style=\"text-align: right;\">\n",
       "      <th></th>\n",
       "      <th>Exam 1</th>\n",
       "      <th>Exam 2</th>\n",
       "      <th>Admitted</th>\n",
       "    </tr>\n",
       "  </thead>\n",
       "  <tbody>\n",
       "    <tr>\n",
       "      <th>0</th>\n",
       "      <td>34.623660</td>\n",
       "      <td>78.024693</td>\n",
       "      <td>0</td>\n",
       "    </tr>\n",
       "    <tr>\n",
       "      <th>1</th>\n",
       "      <td>30.286711</td>\n",
       "      <td>43.894998</td>\n",
       "      <td>0</td>\n",
       "    </tr>\n",
       "    <tr>\n",
       "      <th>2</th>\n",
       "      <td>35.847409</td>\n",
       "      <td>72.902198</td>\n",
       "      <td>0</td>\n",
       "    </tr>\n",
       "    <tr>\n",
       "      <th>3</th>\n",
       "      <td>60.182599</td>\n",
       "      <td>86.308552</td>\n",
       "      <td>1</td>\n",
       "    </tr>\n",
       "    <tr>\n",
       "      <th>4</th>\n",
       "      <td>79.032736</td>\n",
       "      <td>75.344376</td>\n",
       "      <td>1</td>\n",
       "    </tr>\n",
       "  </tbody>\n",
       "</table>\n",
       "</div>"
      ],
      "text/plain": [
       "      Exam 1     Exam 2  Admitted\n",
       "0  34.623660  78.024693         0\n",
       "1  30.286711  43.894998         0\n",
       "2  35.847409  72.902198         0\n",
       "3  60.182599  86.308552         1\n",
       "4  79.032736  75.344376         1"
      ]
     },
     "execution_count": 17,
     "metadata": {},
     "output_type": "execute_result"
    }
   ],
   "source": [
    "path = 'ex2data1.txt'\n",
    "data = pd.read_csv(path, header=None, names=['Exam 1', 'Exam 2', 'Admitted'])\n",
    "data.head()"
   ]
  },
  {
   "cell_type": "code",
   "execution_count": 3,
   "metadata": {},
   "outputs": [
    {
     "data": {
      "text/html": [
       "<div>\n",
       "<style scoped>\n",
       "    .dataframe tbody tr th:only-of-type {\n",
       "        vertical-align: middle;\n",
       "    }\n",
       "\n",
       "    .dataframe tbody tr th {\n",
       "        vertical-align: top;\n",
       "    }\n",
       "\n",
       "    .dataframe thead th {\n",
       "        text-align: right;\n",
       "    }\n",
       "</style>\n",
       "<table border=\"1\" class=\"dataframe\">\n",
       "  <thead>\n",
       "    <tr style=\"text-align: right;\">\n",
       "      <th></th>\n",
       "      <th>Exam 1</th>\n",
       "      <th>Exam 2</th>\n",
       "      <th>Admitted</th>\n",
       "    </tr>\n",
       "  </thead>\n",
       "  <tbody>\n",
       "    <tr>\n",
       "      <th>count</th>\n",
       "      <td>100.000000</td>\n",
       "      <td>100.000000</td>\n",
       "      <td>100.000000</td>\n",
       "    </tr>\n",
       "    <tr>\n",
       "      <th>mean</th>\n",
       "      <td>65.644274</td>\n",
       "      <td>66.221998</td>\n",
       "      <td>0.600000</td>\n",
       "    </tr>\n",
       "    <tr>\n",
       "      <th>std</th>\n",
       "      <td>19.458222</td>\n",
       "      <td>18.582783</td>\n",
       "      <td>0.492366</td>\n",
       "    </tr>\n",
       "    <tr>\n",
       "      <th>min</th>\n",
       "      <td>30.058822</td>\n",
       "      <td>30.603263</td>\n",
       "      <td>0.000000</td>\n",
       "    </tr>\n",
       "    <tr>\n",
       "      <th>25%</th>\n",
       "      <td>50.919511</td>\n",
       "      <td>48.179205</td>\n",
       "      <td>0.000000</td>\n",
       "    </tr>\n",
       "    <tr>\n",
       "      <th>50%</th>\n",
       "      <td>67.032988</td>\n",
       "      <td>67.682381</td>\n",
       "      <td>1.000000</td>\n",
       "    </tr>\n",
       "    <tr>\n",
       "      <th>75%</th>\n",
       "      <td>80.212529</td>\n",
       "      <td>79.360605</td>\n",
       "      <td>1.000000</td>\n",
       "    </tr>\n",
       "    <tr>\n",
       "      <th>max</th>\n",
       "      <td>99.827858</td>\n",
       "      <td>98.869436</td>\n",
       "      <td>1.000000</td>\n",
       "    </tr>\n",
       "  </tbody>\n",
       "</table>\n",
       "</div>"
      ],
      "text/plain": [
       "           Exam 1      Exam 2    Admitted\n",
       "count  100.000000  100.000000  100.000000\n",
       "mean    65.644274   66.221998    0.600000\n",
       "std     19.458222   18.582783    0.492366\n",
       "min     30.058822   30.603263    0.000000\n",
       "25%     50.919511   48.179205    0.000000\n",
       "50%     67.032988   67.682381    1.000000\n",
       "75%     80.212529   79.360605    1.000000\n",
       "max     99.827858   98.869436    1.000000"
      ]
     },
     "execution_count": 3,
     "metadata": {},
     "output_type": "execute_result"
    }
   ],
   "source": [
    "data.describe()"
   ]
  },
  {
   "cell_type": "code",
   "execution_count": 4,
   "metadata": {},
   "outputs": [
    {
     "data": {
      "image/png": "[encoded data removed]",
      "text/plain": [
       "<Figure size 432x432 with 1 Axes>"
      ]
     },
     "metadata": {},
     "output_type": "display_data"
    }
   ],
   "source": [
    "sns.set(context=\"notebook\", style=\"white\")\n",
    "\n",
    "positive = data[data['Admitted'].isin([1])]\n",
    "negative = data[data['Admitted'].isin([0])]\n",
    "\n",
    "fig, ax = plt.subplots(figsize=(6,6))\n",
    "ax.scatter(positive['Exam 1'], positive['Exam 2'], linewidth=1, s=30, c='black', marker='+', label='Admitted')\n",
    "ax.scatter(negative['Exam 1'], negative['Exam 2'], linewidth=0.8, s=30, c='yellow',edgecolors='black', marker='o', label='Not Admitted')\n",
    "ax.legend(loc=0)\n",
    "ax.set_xlabel('Exam 1 Score')\n",
    "ax.set_ylabel('Exam 2 Score')\n",
    "plt.show()"
   ]
  },
  {
   "cell_type": "markdown",
   "metadata": {},
   "source": [
    "# sigmoid 函数\n",
    "g 代表一个常用的逻辑函数（logistic function）为S形函数（Sigmoid function），公式为:$g\\left( z \\right)=\\frac{1}{1+{{e}^{-z}}}$  \n",
    "合起来，我们得到逻辑回归模型的假设函数：${{h}_{\\theta }}\\left( x \\right)=\\frac{1}{1+{{e}^{-{{\\theta }^{T}}X}}}$"
   ]
  },
  {
   "cell_type": "code",
   "execution_count": 5,
   "metadata": {},
   "outputs": [],
   "source": [
    "def sigmoid(z): \n",
    "    return 1.0 / (1.0 + np.exp(-z))"
   ]
  },
  {
   "cell_type": "code",
   "execution_count": 6,
   "metadata": {},
   "outputs": [
    {
     "name": "stderr",
     "output_type": "stream",
     "text": [
      "c:\\workspace\\installed\\python\\python36\\lib\\site-packages\\ipykernel_launcher.py:2: RuntimeWarning: overflow encountered in exp\n",
      "  \n"
     ]
    },
    {
     "data": {
      "text/plain": [
       "(0.0, 1.0, 0.5)"
      ]
     },
     "execution_count": 6,
     "metadata": {},
     "output_type": "execute_result"
    }
   ],
   "source": [
    "a=sigmoid(-710)  # 0\n",
    "b=sigmoid(7000)  # 1\n",
    "c=sigmoid(0)     # 0.5\n",
    "a, b, c"
   ]
  },
  {
   "cell_type": "code",
   "execution_count": 7,
   "metadata": {},
   "outputs": [
    {
     "data": {
      "image/png": "[encoded data removed]",
      "text/plain": [
       "<Figure size 432x216 with 1 Axes>"
      ]
     },
     "metadata": {},
     "output_type": "display_data"
    }
   ],
   "source": [
    "#plt.style.use('fivethirtyeight')\n",
    "sns.set(context=\"notebook\", style=\"whitegrid\", palette=\"dark\")\n",
    "#sns.set(context=\"notebook\", style=\"white\")\n",
    "\n",
    "nums = np.arange(-10, 10, step=0.01)\n",
    "fig, ax = plt.subplots(figsize=(6,3))\n",
    "ax.plot(nums, sigmoid(nums), 'r')\n",
    "ax.set_ylim((-0.1,1.1))\n",
    "ax.set_xlabel('z', fontsize=18)\n",
    "ax.set_ylabel('g(z)', fontsize=18)\n",
    "ax.set_title('sigmoid function', fontsize=18)\n",
    "plt.show()"
   ]
  },
  {
   "cell_type": "markdown",
   "metadata": {},
   "source": [
    "# Regularized cost function(正则化代价函数)\n",
    "> * $max(\\ell(\\theta)) = min(-\\ell(\\theta))$  \n",
    "> * choose $-\\ell(\\theta)$ as the cost function\n",
    "\n",
    "$$\\begin{align}\n",
    " J\\left( \\theta  \\right) & =-\\frac{1}{m}\\sum\\limits_{i=1}^{m}{\\Bigg[{{y}^{(i)}}\\log \\Big( {{h}_{\\theta }}\\left( {{x}^{(i)}} \\right) \\Big)+\\left( 1-{{y}^{(i)}} \\right)\\log \\Big( 1-{{h}_{\\theta }}\\left( {{x}^{(i)}} \\right) \\Big)\\Bigg]}+\\frac{\\lambda }{2m}\\sum\\limits_{j=1}^{n}{\\theta _{j}^{2}} \\\\ \n",
    " & =\\frac{1}{m}\\sum\\limits_{i=1}^{m}{\\Bigg[-{{y}^{(i)}}\\log \\Big( {{h}_{\\theta }}\\left( {{x}^{(i)}} \\right) \\Big)-\\left( 1-{{y}^{(i)}} \\right)\\log \\Big( 1-{{h}_{\\theta }}\\left( {{x}^{(i)}} \\right) \\Big)\\Bigg]}+\\frac{\\lambda }{2m}\\sum\\limits_{j=1}^{n}{\\theta _{j}^{2}} \\\\ \n",
    "\\end{align}$$  \n",
    "\n",
    "# Regularized gradient(正则化梯度)\n",
    "$\\frac{\\partial J\\left( \\theta  \\right)}{\\partial {{\\theta }_{j}}}=\\frac{1}{m}\\sum\\limits_{i=1}^{m}{\\Big[ {{h}_{\\theta }}\\left( {{x}^{\\left( i \\right)}} \\right)-{{y}^{\\left( i \\right)}} \\Big] } \\cdot x_j^{(i)} +\\frac{\\lambda }{m}{{\\theta }_{j}}\\text{ }\\text{             for  j}\\ge \\text{1}$"
   ]
  },
  {
   "cell_type": "code",
   "execution_count": 18,
   "metadata": {},
   "outputs": [],
   "source": [
    "def logisticRegressionCostFunction(X, y, theta, Lambda = 0):\n",
    "    m, n = X.shape\n",
    "    theta_t0_equal_0 = theta.copy()\n",
    "    theta_t0_equal_0[0, 0] = 0\n",
    "    \n",
    "    J = np.multiply(-y, np.log(sigmoid(X @ theta))) - np.multiply((1 - y), np.log(1 - sigmoid(X @ theta)))\n",
    "    J = np.mean(J)\n",
    "    J_regularized_term = Lambda * np.power(theta_t0_equal_0, 2).sum() / 2 / m\n",
    "    J = J + J_regularized_term\n",
    "    \n",
    "    gradient = X.T @ (sigmoid(X @ theta) - y) / m\n",
    "    gradient_regularized_term = Lambda * theta_t0_equal_0 / m\n",
    "    gradient = gradient + gradient_regularized_term\n",
    "    \n",
    "    return J, gradient"
   ]
  },
  {
   "cell_type": "code",
   "execution_count": 19,
   "metadata": {},
   "outputs": [],
   "source": [
    "def batch_gradient_descent(X, y, initial_theta, epoch=1500, alpha=0.01, Lambda=0):\n",
    "    J_set = list();\n",
    "\n",
    "    theta = initial_theta.copy();\n",
    "    for iter in range(epoch):\n",
    "        [J, grad] = logisticRegressionCostFunction(X, y, theta, Lambda);\n",
    "        J_set.append(J);\n",
    "        theta = theta - alpha * grad;\n",
    "    return theta, J_set"
   ]
  },
  {
   "cell_type": "code",
   "execution_count": 20,
   "metadata": {},
   "outputs": [],
   "source": [
    "data.insert(0, 'Ones', 1)\n",
    "\n",
    "# convert to numpy arrays and initalize the parameter array theta\n",
    "X = np.array(data.iloc[:, 0:-1].values)\n",
    "y = np.array(data.iloc[:, -1:].values)\n",
    "m, n = X.shape"
   ]
  },
  {
   "cell_type": "code",
   "execution_count": 21,
   "metadata": {},
   "outputs": [
    {
     "data": {
      "text/plain": [
       "(0.6931471805599453, array([[ -0.1       ],\n",
       "        [-12.00921659],\n",
       "        [-11.26284221]]))"
      ]
     },
     "execution_count": 21,
     "metadata": {},
     "output_type": "execute_result"
    }
   ],
   "source": [
    "# Loss should approx be 0.693, gradient approx -0.1, -12.009, -11.262\n",
    "logisticRegressionCostFunction(X, y, np.zeros([3, 1]))"
   ]
  },
  {
   "cell_type": "code",
   "execution_count": 22,
   "metadata": {},
   "outputs": [],
   "source": [
    "# 没有使用优化的函数，使用自己写的原始梯度下降\n",
    "# 下降的很费劲，alpha太大又不行，200w次，还好比较接近了（归一化后可能下降的好一些）\n",
    "# theta apprix -25.1612 0.20623 0.20147\n",
    "# Cost apprix 0.203\n",
    "alpha = 0.00159999\n",
    "epoch = 2000000\n",
    "Lambda = 0\n",
    "initial_theta=np.matrix(np.zeros([n, 1]))\n",
    "\n",
    "[theta, J_set] = batch_gradient_descent(X, y, initial_theta, epoch, alpha, Lambda);"
   ]
  },
  {
   "cell_type": "code",
   "execution_count": 23,
   "metadata": {},
   "outputs": [
    {
     "data": {
      "text/plain": [
       "[0.20589641791013555,\n",
       " 0.20589641489945434,\n",
       " 0.20589641188877755,\n",
       " 0.20589640887810504,\n",
       " 0.20589640586743677,\n",
       " 0.20589640285677288,\n",
       " 0.20589639984611321,\n",
       " 0.20589639683545807,\n",
       " 0.20589639382480696]"
      ]
     },
     "execution_count": 23,
     "metadata": {},
     "output_type": "execute_result"
    }
   ],
   "source": [
    "J_set[-10:-1]"
   ]
  },
  {
   "cell_type": "code",
   "execution_count": 24,
   "metadata": {},
   "outputs": [
    {
     "data": {
      "text/plain": [
       "matrix([[-21.40986293],\n",
       "        [  0.1762447 ],\n",
       "        [  0.17110612]])"
      ]
     },
     "execution_count": 24,
     "metadata": {},
     "output_type": "execute_result"
    }
   ],
   "source": [
    "theta"
   ]
  },
  {
   "cell_type": "code",
   "execution_count": 25,
   "metadata": {
    "scrolled": false
   },
   "outputs": [
    {
     "data": {
      "image/png": "[encoded data removed]",
      "text/plain": [
       "<Figure size 432x432 with 1 Axes>"
      ]
     },
     "metadata": {},
     "output_type": "display_data"
    }
   ],
   "source": [
    "# Plot Decision Boundary\n",
    "#plt.style.use('fivethirtyeight')\n",
    "#sns.set(context=\"notebook\", style=\"whitegrid\", palette=\"dark\")\n",
    "sns.set(context=\"notebook\", style=\"white\")\n",
    "\n",
    "positive = data[data['Admitted'].isin([1])]\n",
    "negative = data[data['Admitted'].isin([0])]\n",
    "\n",
    "fig, ax = plt.subplots(figsize=(6,6))\n",
    "ax.scatter(positive['Exam 1'], positive['Exam 2'], linewidth=1, s=30, c='black', marker='+', label='Admitted')\n",
    "ax.scatter(negative['Exam 1'], negative['Exam 2'], linewidth=0.8, s=30, c='yellow',edgecolors='black', marker='o', label='Not Admitted')\n",
    "\n",
    "ax.set_xlabel('Exam 1 Score')\n",
    "ax.set_ylabel('Exam 2 Score')\n",
    "\n",
    "# x0 * theta0 + x1 * theta1 + x2 * theta2 = 0\n",
    "# x1 -> x2\n",
    "x1 = np.matrix([[data['Exam 1'].min() -2, data['Exam 1'].max() - 5]]).T\n",
    "x2 = ((np.multiply(theta[1], x1) + theta[0])/ (-1 * theta[2]))\n",
    "plt.plot(x1, x2, c='Blue', linewidth=0.8, label='Decision Boundary')\n",
    "\n",
    "ax.legend(loc=0)\n",
    "\n",
    "plt.show()"
   ]
  },
  {
   "cell_type": "code",
   "execution_count": 26,
   "metadata": {},
   "outputs": [
    {
     "data": {
      "text/plain": [
       "matrix([[0.74367717]])"
      ]
     },
     "execution_count": 26,
     "metadata": {},
     "output_type": "execute_result"
    }
   ],
   "source": [
    "# Predict probability for a student \n",
    "# with score 45 on exam 1 and score 85 on exam 2 \n",
    "sigmoid([1, 45 ,85] * theta)\n",
    "# For a student with scores 45 and 85, \n",
    "# we predict an admission probability of 0.776289\n",
    "# Expected value: 0.775 +/- 0.002\n",
    "# 还是有些许偏差的"
   ]
  },
  {
   "cell_type": "code",
   "execution_count": 27,
   "metadata": {},
   "outputs": [],
   "source": [
    "def predict(X, theta):\n",
    "    prob = sigmoid(X @ theta)\n",
    "    return (prob >= 0.5).astype(int)"
   ]
  },
  {
   "cell_type": "code",
   "execution_count": 28,
   "metadata": {},
   "outputs": [
    {
     "data": {
      "text/plain": [
       "matrix([[1]])"
      ]
     },
     "execution_count": 28,
     "metadata": {},
     "output_type": "execute_result"
    }
   ],
   "source": [
    "# test predict function\n",
    "predict(np.matrix([[1, 45 ,85]]), theta)"
   ]
  },
  {
   "cell_type": "code",
   "execution_count": 30,
   "metadata": {},
   "outputs": [
    {
     "name": "stdout",
     "output_type": "stream",
     "text": [
      "accuracy = 89.0%\n"
     ]
    }
   ],
   "source": [
    "# Train Accuracy: 89.000000\n",
    "# Expected accuracy (approx): 89.0\n",
    "predictions = predict(X, theta)\n",
    "correct = [1 if a==b else 0 for (a, b) in zip(predictions, y)]\n",
    "print ('accuracy = {0}%'.format(np.linalg.norm(correct, ord=1) / X.shape[0] * 100))\n",
    "# 精确度居然还可以，奇迹般的一样，都是 89%"
   ]
  },
  {
   "cell_type": "markdown",
   "metadata": {},
   "source": [
    "# Regularized Logistic Regression\n",
    "---"
   ]
  },
  {
   "cell_type": "code",
   "execution_count": 53,
   "metadata": {},
   "outputs": [
    {
     "data": {
      "text/html": [
       "<div>\n",
       "<style scoped>\n",
       "    .dataframe tbody tr th:only-of-type {\n",
       "        vertical-align: middle;\n",
       "    }\n",
       "\n",
       "    .dataframe tbody tr th {\n",
       "        vertical-align: top;\n",
       "    }\n",
       "\n",
       "    .dataframe thead th {\n",
       "        text-align: right;\n",
       "    }\n",
       "</style>\n",
       "<table border=\"1\" class=\"dataframe\">\n",
       "  <thead>\n",
       "    <tr style=\"text-align: right;\">\n",
       "      <th></th>\n",
       "      <th>test1</th>\n",
       "      <th>test2</th>\n",
       "      <th>Accepted</th>\n",
       "    </tr>\n",
       "  </thead>\n",
       "  <tbody>\n",
       "    <tr>\n",
       "      <th>0</th>\n",
       "      <td>0.051267</td>\n",
       "      <td>0.69956</td>\n",
       "      <td>1</td>\n",
       "    </tr>\n",
       "    <tr>\n",
       "      <th>1</th>\n",
       "      <td>-0.092742</td>\n",
       "      <td>0.68494</td>\n",
       "      <td>1</td>\n",
       "    </tr>\n",
       "    <tr>\n",
       "      <th>2</th>\n",
       "      <td>-0.213710</td>\n",
       "      <td>0.69225</td>\n",
       "      <td>1</td>\n",
       "    </tr>\n",
       "    <tr>\n",
       "      <th>3</th>\n",
       "      <td>-0.375000</td>\n",
       "      <td>0.50219</td>\n",
       "      <td>1</td>\n",
       "    </tr>\n",
       "    <tr>\n",
       "      <th>4</th>\n",
       "      <td>-0.513250</td>\n",
       "      <td>0.46564</td>\n",
       "      <td>1</td>\n",
       "    </tr>\n",
       "  </tbody>\n",
       "</table>\n",
       "</div>"
      ],
      "text/plain": [
       "      test1    test2  Accepted\n",
       "0  0.051267  0.69956         1\n",
       "1 -0.092742  0.68494         1\n",
       "2 -0.213710  0.69225         1\n",
       "3 -0.375000  0.50219         1\n",
       "4 -0.513250  0.46564         1"
      ]
     },
     "execution_count": 53,
     "metadata": {},
     "output_type": "execute_result"
    }
   ],
   "source": [
    "# Load Data - The first two columns contains the X values and the third column contains the label (y).\n",
    "data2 = pd.read_csv('ex2data2.txt', header=None, names=['test1', 'test2', 'Accepted'])\n",
    "data2.head()"
   ]
  },
  {
   "cell_type": "code",
   "execution_count": 54,
   "metadata": {},
   "outputs": [
    {
     "data": {
      "image/png": "[encoded data removed]",
      "text/plain": [
       "<Figure size 432x432 with 1 Axes>"
      ]
     },
     "metadata": {},
     "output_type": "display_data"
    }
   ],
   "source": [
    "positive = data2[data2['Accepted'].isin([1])]\n",
    "negative = data2[data2['Accepted'].isin([0])]\n",
    "\n",
    "fig, ax = plt.subplots(figsize=(6,6))\n",
    "ax.scatter(positive['test1'], positive['test2'], linewidth=1, s=30, c='black',edgecolors='black', marker='+', label='y = 1')\n",
    "ax.scatter(negative['test1'], negative['test2'], linewidth=1, s=30, c='yellow',edgecolors='black', marker='o', label='y = 0')\n",
    "ax.legend(loc=1)\n",
    "ax.set_xlabel('Microchip Test 1')\n",
    "ax.set_ylabel('Microchip Test 2')\n",
    "plt.xlim((-1, 1.5))\n",
    "plt.ylim((-1, 1.5))\n",
    "plt.show()"
   ]
  },
  {
   "cell_type": "code",
   "execution_count": 72,
   "metadata": {},
   "outputs": [],
   "source": [
    "def feature_mapping(X, power, as_ndarray=False):\n",
    "\n",
    "    m, n = X.shape\n",
    "    \n",
    "    if n == 1:\n",
    "        \n",
    "        data = {'f{}'.format(i): np.power(X, i) for i in range(1, power + 1)}\n",
    "        df = pd.DataFrame(data)\n",
    "        return df.as_matrix() if as_ndarray else df\n",
    "    \n",
    "    elif n == 2:\n",
    "    \n",
    "        x1 = X[:,-2]\n",
    "        x2 = X[:,-1]\n",
    "        \n",
    "        data = {\"f{}{}\".format(i - p, p): np.power(x1, i - p) * np.power(x2, p)\n",
    "                    for i in np.arange(power + 1)\n",
    "                    for p in np.arange(i + 1)\n",
    "                }\n",
    "        return pd.DataFrame(data).as_matrix() if as_ndarray else pd.DataFrame(data)"
   ]
  },
  {
   "cell_type": "code",
   "execution_count": 56,
   "metadata": {},
   "outputs": [],
   "source": [
    "#data2.insert(0, 'Ones', 1)\n",
    "#X = np.array(data2.iloc[:, 0:-1].values)\n",
    "#x1 = np.array(data2.test1)\n",
    "#x2 = np.array(data2.test2)\n",
    "X = np.array(data2.iloc[:, :-1].values)\n",
    "y = np.array(data2.iloc[:, -1:].values)"
   ]
  },
  {
   "cell_type": "code",
   "execution_count": 57,
   "metadata": {
    "scrolled": false
   },
   "outputs": [],
   "source": [
    "# Add Polynomial Features\n",
    "# you are given a dataset with data points that are not linearly separable. \n",
    "# However, you would still like to use logistic regression to classify the data points.\n",
    "# To do so, you introduce more features to use\n",
    "# in particular, you add polynomial features to our data matrix (similar to polynomial regression).\n",
    "# Note that feature_mapping also adds a column of ones for us, so the intercept term is handled\n",
    "X = feature_mapping(X, 6)\n",
    "m, n = X.shape"
   ]
  },
  {
   "cell_type": "code",
   "execution_count": 58,
   "metadata": {
    "scrolled": true
   },
   "outputs": [
    {
     "data": {
      "text/html": [
       "<div>\n",
       "<style scoped>\n",
       "    .dataframe tbody tr th:only-of-type {\n",
       "        vertical-align: middle;\n",
       "    }\n",
       "\n",
       "    .dataframe tbody tr th {\n",
       "        vertical-align: top;\n",
       "    }\n",
       "\n",
       "    .dataframe thead th {\n",
       "        text-align: right;\n",
       "    }\n",
       "</style>\n",
       "<table border=\"1\" class=\"dataframe\">\n",
       "  <thead>\n",
       "    <tr style=\"text-align: right;\">\n",
       "      <th></th>\n",
       "      <th>f00</th>\n",
       "      <th>f10</th>\n",
       "      <th>f01</th>\n",
       "      <th>f20</th>\n",
       "      <th>f11</th>\n",
       "      <th>f02</th>\n",
       "      <th>f30</th>\n",
       "      <th>f21</th>\n",
       "      <th>f12</th>\n",
       "      <th>f03</th>\n",
       "      <th>...</th>\n",
       "      <th>f23</th>\n",
       "      <th>f14</th>\n",
       "      <th>f05</th>\n",
       "      <th>f60</th>\n",
       "      <th>f51</th>\n",
       "      <th>f42</th>\n",
       "      <th>f33</th>\n",
       "      <th>f24</th>\n",
       "      <th>f15</th>\n",
       "      <th>f06</th>\n",
       "    </tr>\n",
       "  </thead>\n",
       "  <tbody>\n",
       "    <tr>\n",
       "      <th>0</th>\n",
       "      <td>1.0</td>\n",
       "      <td>0.051267</td>\n",
       "      <td>0.69956</td>\n",
       "      <td>0.002628</td>\n",
       "      <td>0.035864</td>\n",
       "      <td>0.489384</td>\n",
       "      <td>0.000135</td>\n",
       "      <td>0.001839</td>\n",
       "      <td>0.025089</td>\n",
       "      <td>0.342354</td>\n",
       "      <td>...</td>\n",
       "      <td>0.000900</td>\n",
       "      <td>0.012278</td>\n",
       "      <td>0.167542</td>\n",
       "      <td>1.815630e-08</td>\n",
       "      <td>2.477505e-07</td>\n",
       "      <td>0.000003</td>\n",
       "      <td>0.000046</td>\n",
       "      <td>0.000629</td>\n",
       "      <td>0.008589</td>\n",
       "      <td>0.117206</td>\n",
       "    </tr>\n",
       "    <tr>\n",
       "      <th>1</th>\n",
       "      <td>1.0</td>\n",
       "      <td>-0.092742</td>\n",
       "      <td>0.68494</td>\n",
       "      <td>0.008601</td>\n",
       "      <td>-0.063523</td>\n",
       "      <td>0.469143</td>\n",
       "      <td>-0.000798</td>\n",
       "      <td>0.005891</td>\n",
       "      <td>-0.043509</td>\n",
       "      <td>0.321335</td>\n",
       "      <td>...</td>\n",
       "      <td>0.002764</td>\n",
       "      <td>-0.020412</td>\n",
       "      <td>0.150752</td>\n",
       "      <td>6.362953e-07</td>\n",
       "      <td>-4.699318e-06</td>\n",
       "      <td>0.000035</td>\n",
       "      <td>-0.000256</td>\n",
       "      <td>0.001893</td>\n",
       "      <td>-0.013981</td>\n",
       "      <td>0.103256</td>\n",
       "    </tr>\n",
       "    <tr>\n",
       "      <th>2</th>\n",
       "      <td>1.0</td>\n",
       "      <td>-0.213710</td>\n",
       "      <td>0.69225</td>\n",
       "      <td>0.045672</td>\n",
       "      <td>-0.147941</td>\n",
       "      <td>0.479210</td>\n",
       "      <td>-0.009761</td>\n",
       "      <td>0.031616</td>\n",
       "      <td>-0.102412</td>\n",
       "      <td>0.331733</td>\n",
       "      <td>...</td>\n",
       "      <td>0.015151</td>\n",
       "      <td>-0.049077</td>\n",
       "      <td>0.158970</td>\n",
       "      <td>9.526844e-05</td>\n",
       "      <td>-3.085938e-04</td>\n",
       "      <td>0.001000</td>\n",
       "      <td>-0.003238</td>\n",
       "      <td>0.010488</td>\n",
       "      <td>-0.033973</td>\n",
       "      <td>0.110047</td>\n",
       "    </tr>\n",
       "    <tr>\n",
       "      <th>3</th>\n",
       "      <td>1.0</td>\n",
       "      <td>-0.375000</td>\n",
       "      <td>0.50219</td>\n",
       "      <td>0.140625</td>\n",
       "      <td>-0.188321</td>\n",
       "      <td>0.252195</td>\n",
       "      <td>-0.052734</td>\n",
       "      <td>0.070620</td>\n",
       "      <td>-0.094573</td>\n",
       "      <td>0.126650</td>\n",
       "      <td>...</td>\n",
       "      <td>0.017810</td>\n",
       "      <td>-0.023851</td>\n",
       "      <td>0.031940</td>\n",
       "      <td>2.780914e-03</td>\n",
       "      <td>-3.724126e-03</td>\n",
       "      <td>0.004987</td>\n",
       "      <td>-0.006679</td>\n",
       "      <td>0.008944</td>\n",
       "      <td>-0.011978</td>\n",
       "      <td>0.016040</td>\n",
       "    </tr>\n",
       "    <tr>\n",
       "      <th>4</th>\n",
       "      <td>1.0</td>\n",
       "      <td>-0.513250</td>\n",
       "      <td>0.46564</td>\n",
       "      <td>0.263426</td>\n",
       "      <td>-0.238990</td>\n",
       "      <td>0.216821</td>\n",
       "      <td>-0.135203</td>\n",
       "      <td>0.122661</td>\n",
       "      <td>-0.111283</td>\n",
       "      <td>0.100960</td>\n",
       "      <td>...</td>\n",
       "      <td>0.026596</td>\n",
       "      <td>-0.024128</td>\n",
       "      <td>0.021890</td>\n",
       "      <td>1.827990e-02</td>\n",
       "      <td>-1.658422e-02</td>\n",
       "      <td>0.015046</td>\n",
       "      <td>-0.013650</td>\n",
       "      <td>0.012384</td>\n",
       "      <td>-0.011235</td>\n",
       "      <td>0.010193</td>\n",
       "    </tr>\n",
       "  </tbody>\n",
       "</table>\n",
       "<p>5 rows × 28 columns</p>\n",
       "</div>"
      ],
      "text/plain": [
       "   f00       f10      f01       f20       f11       f02       f30       f21  \\\n",
       "0  1.0  0.051267  0.69956  0.002628  0.035864  0.489384  0.000135  0.001839   \n",
       "1  1.0 -0.092742  0.68494  0.008601 -0.063523  0.469143 -0.000798  0.005891   \n",
       "2  1.0 -0.213710  0.69225  0.045672 -0.147941  0.479210 -0.009761  0.031616   \n",
       "3  1.0 -0.375000  0.50219  0.140625 -0.188321  0.252195 -0.052734  0.070620   \n",
       "4  1.0 -0.513250  0.46564  0.263426 -0.238990  0.216821 -0.135203  0.122661   \n",
       "\n",
       "        f12       f03  ...       f23       f14       f05           f60  \\\n",
       "0  0.025089  0.342354  ...  0.000900  0.012278  0.167542  1.815630e-08   \n",
       "1 -0.043509  0.321335  ...  0.002764 -0.020412  0.150752  6.362953e-07   \n",
       "2 -0.102412  0.331733  ...  0.015151 -0.049077  0.158970  9.526844e-05   \n",
       "3 -0.094573  0.126650  ...  0.017810 -0.023851  0.031940  2.780914e-03   \n",
       "4 -0.111283  0.100960  ...  0.026596 -0.024128  0.021890  1.827990e-02   \n",
       "\n",
       "            f51       f42       f33       f24       f15       f06  \n",
       "0  2.477505e-07  0.000003  0.000046  0.000629  0.008589  0.117206  \n",
       "1 -4.699318e-06  0.000035 -0.000256  0.001893 -0.013981  0.103256  \n",
       "2 -3.085938e-04  0.001000 -0.003238  0.010488 -0.033973  0.110047  \n",
       "3 -3.724126e-03  0.004987 -0.006679  0.008944 -0.011978  0.016040  \n",
       "4 -1.658422e-02  0.015046 -0.013650  0.012384 -0.011235  0.010193  \n",
       "\n",
       "[5 rows x 28 columns]"
      ]
     },
     "execution_count": 58,
     "metadata": {},
     "output_type": "execute_result"
    }
   ],
   "source": [
    "X.head()"
   ]
  },
  {
   "cell_type": "code",
   "execution_count": 59,
   "metadata": {},
   "outputs": [],
   "source": [
    "# Test compute cost and grad\n",
    "initial_theta = np.zeros([X.shape[1], 1])\n",
    "Lambda = 1\n",
    "[cost, grad] = logisticRegressionCostFunction(X, y, initial_theta, Lambda)"
   ]
  },
  {
   "cell_type": "code",
   "execution_count": 60,
   "metadata": {},
   "outputs": [
    {
     "data": {
      "text/plain": [
       "0.6931471805599454"
      ]
     },
     "execution_count": 60,
     "metadata": {},
     "output_type": "execute_result"
    }
   ],
   "source": [
    "# Cost at initial theta (zeros): 0.693147 (Expected cost approx 0.693)\n",
    "cost[0]"
   ]
  },
  {
   "cell_type": "code",
   "execution_count": 61,
   "metadata": {},
   "outputs": [
    {
     "data": {
      "text/html": [
       "<div>\n",
       "<style scoped>\n",
       "    .dataframe tbody tr th:only-of-type {\n",
       "        vertical-align: middle;\n",
       "    }\n",
       "\n",
       "    .dataframe tbody tr th {\n",
       "        vertical-align: top;\n",
       "    }\n",
       "\n",
       "    .dataframe thead th {\n",
       "        text-align: right;\n",
       "    }\n",
       "</style>\n",
       "<table border=\"1\" class=\"dataframe\">\n",
       "  <thead>\n",
       "    <tr style=\"text-align: right;\">\n",
       "      <th></th>\n",
       "      <th>0</th>\n",
       "    </tr>\n",
       "  </thead>\n",
       "  <tbody>\n",
       "    <tr>\n",
       "      <th>f00</th>\n",
       "      <td>0.008475</td>\n",
       "    </tr>\n",
       "    <tr>\n",
       "      <th>f10</th>\n",
       "      <td>0.018788</td>\n",
       "    </tr>\n",
       "    <tr>\n",
       "      <th>f01</th>\n",
       "      <td>0.000078</td>\n",
       "    </tr>\n",
       "    <tr>\n",
       "      <th>f20</th>\n",
       "      <td>0.050345</td>\n",
       "    </tr>\n",
       "    <tr>\n",
       "      <th>f11</th>\n",
       "      <td>0.011501</td>\n",
       "    </tr>\n",
       "  </tbody>\n",
       "</table>\n",
       "</div>"
      ],
      "text/plain": [
       "            0\n",
       "f00  0.008475\n",
       "f10  0.018788\n",
       "f01  0.000078\n",
       "f20  0.050345\n",
       "f11  0.011501"
      ]
     },
     "execution_count": 61,
     "metadata": {},
     "output_type": "execute_result"
    }
   ],
   "source": [
    "# Gradient at initial theta (zeros) - first five values only:\n",
    "# 0.0085  0.0188  0.0001  0.0503  0.0115 (Expected gradients)\n",
    "grad.head()"
   ]
  },
  {
   "cell_type": "code",
   "execution_count": 62,
   "metadata": {},
   "outputs": [],
   "source": [
    "# Test compute cost and grad\n",
    "initial_theta = np.ones([n, 1])\n",
    "Lambda = 10\n",
    "[cost, grad] = logisticRegressionCostFunction(X, y, initial_theta, Lambda)"
   ]
  },
  {
   "cell_type": "code",
   "execution_count": 63,
   "metadata": {},
   "outputs": [
    {
     "data": {
      "text/plain": [
       "3.1645093316150095"
      ]
     },
     "execution_count": 63,
     "metadata": {},
     "output_type": "execute_result"
    }
   ],
   "source": [
    "# Cost at test theta (with lambda = 10): Expected cost approx 3.16\n",
    "cost[0]"
   ]
  },
  {
   "cell_type": "code",
   "execution_count": 64,
   "metadata": {
    "scrolled": true
   },
   "outputs": [
    {
     "data": {
      "text/html": [
       "<div>\n",
       "<style scoped>\n",
       "    .dataframe tbody tr th:only-of-type {\n",
       "        vertical-align: middle;\n",
       "    }\n",
       "\n",
       "    .dataframe tbody tr th {\n",
       "        vertical-align: top;\n",
       "    }\n",
       "\n",
       "    .dataframe thead th {\n",
       "        text-align: right;\n",
       "    }\n",
       "</style>\n",
       "<table border=\"1\" class=\"dataframe\">\n",
       "  <thead>\n",
       "    <tr style=\"text-align: right;\">\n",
       "      <th></th>\n",
       "      <th>0</th>\n",
       "    </tr>\n",
       "  </thead>\n",
       "  <tbody>\n",
       "    <tr>\n",
       "      <th>f00</th>\n",
       "      <td>0.346045</td>\n",
       "    </tr>\n",
       "    <tr>\n",
       "      <th>f10</th>\n",
       "      <td>0.161352</td>\n",
       "    </tr>\n",
       "    <tr>\n",
       "      <th>f01</th>\n",
       "      <td>0.194796</td>\n",
       "    </tr>\n",
       "    <tr>\n",
       "      <th>f20</th>\n",
       "      <td>0.226863</td>\n",
       "    </tr>\n",
       "    <tr>\n",
       "      <th>f11</th>\n",
       "      <td>0.092186</td>\n",
       "    </tr>\n",
       "  </tbody>\n",
       "</table>\n",
       "</div>"
      ],
      "text/plain": [
       "            0\n",
       "f00  0.346045\n",
       "f10  0.161352\n",
       "f01  0.194796\n",
       "f20  0.226863\n",
       "f11  0.092186"
      ]
     },
     "execution_count": 64,
     "metadata": {},
     "output_type": "execute_result"
    }
   ],
   "source": [
    "# Gradient at initial theta (zeros) - first five values only:\n",
    "# 0.3460  0.1614  0.1948  0.2269  0.0922 (Expected gradients)\n",
    "grad.head()"
   ]
  },
  {
   "cell_type": "code",
   "execution_count": 66,
   "metadata": {},
   "outputs": [],
   "source": [
    "X = np.array(X.iloc[:, :].values)"
   ]
  },
  {
   "cell_type": "code",
   "execution_count": 67,
   "metadata": {},
   "outputs": [],
   "source": [
    "initial_theta = np.zeros([n, 1])"
   ]
  },
  {
   "cell_type": "code",
   "execution_count": 68,
   "metadata": {},
   "outputs": [],
   "source": [
    "alpha = 9\n",
    "epoch = 200000\n",
    "Lambda = 0\n",
    "\n",
    "[theta_0, J_set] = batch_gradient_descent(X, y, initial_theta, epoch, alpha, Lambda);"
   ]
  },
  {
   "cell_type": "code",
   "execution_count": 69,
   "metadata": {},
   "outputs": [],
   "source": [
    "alpha = 0.3\n",
    "epoch = 200000\n",
    "Lambda = 1\n",
    "\n",
    "[theta_1, J_set] = batch_gradient_descent(X, y, initial_theta, epoch, alpha, Lambda);"
   ]
  },
  {
   "cell_type": "code",
   "execution_count": 70,
   "metadata": {},
   "outputs": [],
   "source": [
    "alpha = 0.3\n",
    "epoch = 200000\n",
    "Lambda = 10\n",
    "\n",
    "[theta_10, J_set] = batch_gradient_descent(X, y, initial_theta, epoch, alpha, Lambda);"
   ]
  },
  {
   "cell_type": "code",
   "execution_count": 71,
   "metadata": {},
   "outputs": [],
   "source": [
    "alpha = 0.3\n",
    "epoch = 200000\n",
    "Lambda = 100\n",
    "\n",
    "[theta_100, J_set] = batch_gradient_descent(X, y, initial_theta, epoch, alpha, Lambda);"
   ]
  },
  {
   "cell_type": "code",
   "execution_count": 73,
   "metadata": {},
   "outputs": [
    {
     "data": {
      "text/plain": [
       "[0.6864838338726167,\n",
       " 0.6864838338726167,\n",
       " 0.6864838338726167,\n",
       " 0.6864838338726167,\n",
       " 0.6864838338726167,\n",
       " 0.6864838338726167,\n",
       " 0.6864838338726167,\n",
       " 0.6864838338726167,\n",
       " 0.6864838338726167]"
      ]
     },
     "execution_count": 73,
     "metadata": {},
     "output_type": "execute_result"
    }
   ],
   "source": [
    "J_set[-10:-1]"
   ]
  },
  {
   "cell_type": "code",
   "execution_count": 89,
   "metadata": {},
   "outputs": [],
   "source": [
    "def feature_mapping_tmp(x1, x2, power, as_ndarray=False):\n",
    "        data = {\"f{}{}\".format(i - p, p): np.power(x1, i - p) * np.power(x2, p)\n",
    "                    for i in np.arange(power + 1)\n",
    "                    for p in np.arange(i + 1)\n",
    "                }\n",
    "        return pd.DataFrame(data).as_matrix() if as_ndarray else pd.DataFrame(data)"
   ]
  },
  {
   "cell_type": "code",
   "execution_count": 93,
   "metadata": {},
   "outputs": [],
   "source": [
    "# Here is the grid range\n",
    "u = np.linspace(-1, 1.5, 50);\n",
    "v = np.linspace(-1, 1.5, 50);\n",
    "\n",
    "z0 = np.zeros([len(u), len(v)]);\n",
    "z1 = np.zeros([len(u), len(v)]);\n",
    "z10 = np.zeros([len(u), len(v)]);\n",
    "z100 = np.zeros([len(u), len(v)]);\n",
    "# Evaluate z = theta*x over the grid\n",
    "for i in range(len(u)):\n",
    "    for j in range(len(v)):\n",
    "        #z(i,j) = mapFeature(u(i), v(j))*theta;\n",
    "        z0[i,j] = (feature_mapping_tmp([u[i]], [v[j]], 6) @ theta_0).values[0, 0]\n",
    "        z1[i,j] = (feature_mapping_tmp([u[i]], [v[j]], 6) @ theta_1).values[0, 0]\n",
    "        z10[i,j] = (feature_mapping_tmp([u[i]], [v[j]], 6) @ theta_10).values[0, 0]\n",
    "        z100[i,j] = (feature_mapping_tmp([u[i]], [v[j]], 6) @ theta_100).values[0, 0]\n",
    "\n",
    "# important to transpose z before calling contour\n",
    "z0 = z0.T \n",
    "z1 = z1.T\n",
    "z10 = z10.T\n",
    "z100 = z100.T"
   ]
  },
  {
   "cell_type": "code",
   "execution_count": 94,
   "metadata": {},
   "outputs": [
    {
     "data": {
      "image/png": "[encoded data removed]",
      "text/plain": [
       "<Figure size 630x720 with 4 Axes>"
      ]
     },
     "metadata": {
      "needs_background": "light"
     },
     "output_type": "display_data"
    }
   ],
   "source": [
    "positive = data2[data2['Accepted'].isin([1])]\n",
    "negative = data2[data2['Accepted'].isin([0])]\n",
    "\n",
    "%matplotlib inline\n",
    "fig = plt.figure(dpi=90, num=1, figsize=(7,8))\n",
    "\n",
    "ax1 = fig.add_subplot(221)\n",
    "ax1.scatter(positive['test1'], positive['test2'], linewidth=1, s=30, c='black',edgecolors='black', marker='+', label='y = 1')\n",
    "ax1.scatter(negative['test1'], negative['test2'], linewidth=1, s=30, c='yellow',edgecolors='black', marker='o', label='y = 0')\n",
    "ax1.legend(loc=1)\n",
    "#ax1.set_xlabel('Microchip Test 1')\n",
    "#ax1.set_ylabel('Microchip Test 2')\n",
    "ax1.set_title('lambda = 0')\n",
    "plt.xlim((-1, 1.5))\n",
    "plt.ylim((-1, 1.5))\n",
    "ax1.contour(u, v, z0, [0], linewidths=1, colors='teal')\n",
    "\n",
    "ax2 = fig.add_subplot(222)\n",
    "ax2.scatter(positive['test1'], positive['test2'], linewidth=1, s=30, c='black',edgecolors='black', marker='+', label='y = 1')\n",
    "ax2.scatter(negative['test1'], negative['test2'], linewidth=1, s=30, c='yellow',edgecolors='black', marker='o', label='y = 0')\n",
    "ax2.legend(loc=1)\n",
    "#ax2.set_xlabel('Microchip Test 1')\n",
    "#ax2.set_ylabel('Microchip Test 2')\n",
    "ax2.set_title('lambda = 1')\n",
    "plt.xlim((-1, 1.5))\n",
    "plt.ylim((-1, 1.5))\n",
    "ax2.contour(u, v, z1, [0], linewidths=1, colors='teal')\n",
    "\n",
    "ax3 = fig.add_subplot(223)\n",
    "ax3.scatter(positive['test1'], positive['test2'], linewidth=1, s=30, c='black',edgecolors='black', marker='+', label='y = 1')\n",
    "ax3.scatter(negative['test1'], negative['test2'], linewidth=1, s=30, c='yellow',edgecolors='black', marker='o', label='y = 0')\n",
    "ax3.legend(loc=1)\n",
    "#ax3.set_xlabel('Microchip Test 1')\n",
    "#ax3.set_ylabel('Microchip Test 2')\n",
    "ax3.set_title('lambda = 10')\n",
    "plt.xlim((-1, 1.5))\n",
    "plt.ylim((-1, 1.5))\n",
    "ax3.contour(u, v, z10, [0], linewidths=1, colors='teal')\n",
    "\n",
    "ax4 = fig.add_subplot(224)\n",
    "ax4.scatter(positive['test1'], positive['test2'], linewidth=1, s=30, c='black',edgecolors='black', marker='+', label='y = 1')\n",
    "ax4.scatter(negative['test1'], negative['test2'], linewidth=1, s=30, c='yellow',edgecolors='black', marker='o', label='y = 0')\n",
    "ax4.legend(loc=1)\n",
    "#ax4.set_xlabel('Microchip Test 1')\n",
    "#ax4.set_ylabel('Microchip Test 2')\n",
    "ax4.set_title('lambda = 100')\n",
    "plt.xlim((-1, 1.5))\n",
    "plt.ylim((-1, 1.5))\n",
    "ax4.contour(u, v, z100, [0], linewidths=1, colors='teal')\n",
    "\n",
    "plt.show()"
   ]
  },
  {
   "cell_type": "markdown",
   "metadata": {},
   "source": [
    "# Logistic Regression with One-vs-all\n",
    "---"
   ]
  },
  {
   "cell_type": "code",
   "execution_count": 95,
   "metadata": {},
   "outputs": [],
   "source": [
    "def predictOneVsAll(X, all_theta):\n",
    "    m, n = X.shape\n",
    "    num_labels = all_theta.shape[0]\n",
    "    p = np.zeros([m, 1]);\n",
    "    X = np.hstack((np.ones([m, 1]), X)); # Add ones to the X data matrix\n",
    "    probMatrix = X @ all_theta.T;\n",
    "    return np.matrix(np.argmax(probMatrix, axis=1) + 1).T"
   ]
  },
  {
   "cell_type": "code",
   "execution_count": 96,
   "metadata": {},
   "outputs": [],
   "source": [
    "def oneVsAll(X, y, num_labels, Lambda=0.1, epoch=1500, alpha=0.3):\n",
    "    m, n = X.shape\n",
    "    all_theta = np.zeros([num_labels, n + 1]);\n",
    "    X = np.hstack((np.ones([m, 1]), X))\n",
    "    initial_theta = np.zeros([n+1,1]);\n",
    "\n",
    "    for i in range(num_labels):\n",
    "        y_b = np.array([1 if label == i+1 else 0 for label in y]).reshape([m, 1])\n",
    "        [theta, J_set] = batch_gradient_descent(X, y_b, initial_theta, epoch, alpha, Lambda);\n",
    "        all_theta[i,:] = theta.T\n",
    "        print('Iteration\\t' + str(epoch) + '\\t|\\tCost: ' + str(J_set[-1]))\n",
    "\n",
    "    return all_theta"
   ]
  },
  {
   "cell_type": "code",
   "execution_count": 97,
   "metadata": {
    "scrolled": false
   },
   "outputs": [
    {
     "data": {
      "text/plain": [
       "(5000,\n",
       " 400,\n",
       " {'__header__': b'MATLAB 5.0 MAT-file, Platform: GLNXA64, Created on: Sun Oct 16 13:09:09 2011',\n",
       "  '__version__': '1.0',\n",
       "  '__globals__': [],\n",
       "  'X': array([[0., 0., 0., ..., 0., 0., 0.],\n",
       "         [0., 0., 0., ..., 0., 0., 0.],\n",
       "         [0., 0., 0., ..., 0., 0., 0.],\n",
       "         ...,\n",
       "         [0., 0., 0., ..., 0., 0., 0.],\n",
       "         [0., 0., 0., ..., 0., 0., 0.],\n",
       "         [0., 0., 0., ..., 0., 0., 0.]]),\n",
       "  'y': array([[10],\n",
       "         [10],\n",
       "         [10],\n",
       "         ...,\n",
       "         [ 9],\n",
       "         [ 9],\n",
       "         [ 9]], dtype=uint8)},\n",
       " (5000, 400),\n",
       " (5000, 1))"
      ]
     },
     "execution_count": 97,
     "metadata": {},
     "output_type": "execute_result"
    }
   ],
   "source": [
    "# Loading and Visualizing Data ...\n",
    "data = sio.loadmat('ex2data3.mat'); # training data stored in arrays X, y\n",
    "X = data['X']\n",
    "y = data['y']\n",
    "m, n = X.shape\n",
    "m, n, data, X.shape, y.shape"
   ]
  },
  {
   "cell_type": "code",
   "execution_count": 98,
   "metadata": {},
   "outputs": [
    {
     "data": {
      "image/png": "[encoded data removed]",
      "text/plain": [
       "<Figure size 210x210 with 100 Axes>"
      ]
     },
     "metadata": {},
     "output_type": "display_data"
    }
   ],
   "source": [
    "# Randomly select 100 data points to display\n",
    "fig = plt.figure(dpi=60, num=1, figsize=(3.5, 3.5))\n",
    "X_show_100 = X[np.random.randint(0, X.shape[0], 100),:]\n",
    "for i in range(1, 101):\n",
    "    ax = fig.add_subplot(10, 10, i)\n",
    "    ax.imshow(X_show_100[i-1,:].reshape(20, 20).T, cmap='gray')\n",
    "    plt.xticks(np.array([]))\n",
    "    plt.yticks(np.array([]))\n",
    "plt.tight_layout(-1)\n",
    "plt.show()"
   ]
  },
  {
   "cell_type": "code",
   "execution_count": 99,
   "metadata": {},
   "outputs": [
    {
     "data": {
      "text/plain": [
       "array([ 1,  2,  3,  4,  5,  6,  7,  8,  9, 10], dtype=uint8)"
      ]
     },
     "execution_count": 99,
     "metadata": {},
     "output_type": "execute_result"
    }
   ],
   "source": [
    "np.unique(y) # See how many labels there are"
   ]
  },
  {
   "cell_type": "code",
   "execution_count": 100,
   "metadata": {},
   "outputs": [
    {
     "data": {
      "text/plain": [
       "(2.5348193961097443, array([[ 0.14656137],\n",
       "        [-0.54855841],\n",
       "        [ 0.72472227],\n",
       "        [ 1.39800296]]))"
      ]
     },
     "execution_count": 100,
     "metadata": {},
     "output_type": "execute_result"
    }
   ],
   "source": [
    "# Testing logisticRegressionCostFunction() with regularization \n",
    "theta = np.array([[-2],[-1],[1],[2]])\n",
    "X_t = np.hstack((np.ones([5, 1]), np.arange(1, 16).reshape(3, 5).T / 10))\n",
    "y_t = np.array([[1],[0],[1],[0],[1]])\n",
    "Lambda = 3;\n",
    "[J, grad] = logisticRegressionCostFunction(X_t, y_t, theta, Lambda);\n",
    "J, grad\n",
    "# Expected cost: 2.534819\n",
    "# 0.146561 -0.548558  0.724722  1.398003  (Expected gradients)"
   ]
  },
  {
   "cell_type": "code",
   "execution_count": 101,
   "metadata": {},
   "outputs": [
    {
     "name": "stdout",
     "output_type": "stream",
     "text": [
      "Iteration\t1000\t|\tCost: 0.02693519917718325\n",
      "Iteration\t1000\t|\tCost: 0.06871614409068513\n",
      "Iteration\t1000\t|\tCost: 0.07212321600367126\n",
      "Iteration\t1000\t|\tCost: 0.05200264485300938\n",
      "Iteration\t1000\t|\tCost: 0.07631446596466235\n",
      "Iteration\t1000\t|\tCost: 0.034536636717571755\n",
      "Iteration\t1000\t|\tCost: 0.0465435242721356\n",
      "Iteration\t1000\t|\tCost: 0.09449132002012209\n",
      "Iteration\t1000\t|\tCost: 0.08938937727477199\n",
      "Iteration\t1000\t|\tCost: 0.01985633435534107\n"
     ]
    }
   ],
   "source": [
    "# Training One-vs-All Logistic Regression...\n",
    "# 10 labels, from 1 to 10 (note that we have mapped \"0\" to label 10)\n",
    "all_theta = oneVsAll(X, y, num_labels=10, Lambda=0.1, epoch=1000, alpha=1);"
   ]
  },
  {
   "cell_type": "code",
   "execution_count": 102,
   "metadata": {},
   "outputs": [],
   "source": [
    "# Predict for One-Vs-All\n",
    "predictions = predictOneVsAll(X, all_theta)"
   ]
  },
  {
   "cell_type": "code",
   "execution_count": 103,
   "metadata": {},
   "outputs": [
    {
     "name": "stdout",
     "output_type": "stream",
     "text": [
      "Training Set Accuracy: 93.22%\n"
     ]
    }
   ],
   "source": [
    "# 94.960000\n",
    "correct = [1 if a==b else 0 for (a, b) in zip(predictions, y)]\n",
    "print ('Training Set Accuracy: {0}%'.format(np.linalg.norm(correct, ord=1) / X.shape[0] * 100))"
   ]
  },
  {
   "cell_type": "code",
   "execution_count": null,
   "metadata": {},
   "outputs": [],
   "source": []
  }
 ],
 "metadata": {
  "kernelspec": {
   "display_name": "Python 3",
   "language": "python",
   "name": "python3"
  },
  "language_info": {
   "codemirror_mode": {
    "name": "ipython",
    "version": 3
   },
   "file_extension": ".py",
   "mimetype": "text/x-python",
   "name": "python",
   "nbconvert_exporter": "python",
   "pygments_lexer": "ipython3",
   "version": "3.6.2rc1"
  }
 },
 "nbformat": 4,
 "nbformat_minor": 2
}
