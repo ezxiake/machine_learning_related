{
 "cells": [
  {
   "cell_type": "markdown",
   "metadata": {},
   "source": [
    "# Exercise 6 : Support Vector Machines\n",
    "---"
   ]
  },
  {
   "cell_type": "code",
   "execution_count": 1,
   "metadata": {},
   "outputs": [],
   "source": [
    "%  Instructions\n",
    "%  ------------\n",
    "% \n",
    "%  This file contains code that helps you get started on the\n",
    "%  exercise. You will need to complete the following functions:\n",
    "%\n",
    "%     gaussianKernel.m\n",
    "%     dataset3Params.m\n",
    "%     processEmail.m\n",
    "%     emailFeatures.m\n",
    "%\n",
    "%  For this exercise, you will not need to change any code in this file,\n",
    "%  or any other files other than those mentioned above."
   ]
  },
  {
   "cell_type": "code",
   "execution_count": 54,
   "metadata": {},
   "outputs": [],
   "source": [
    "%% Initialization\n",
    "clear ; close all; clc"
   ]
  },
  {
   "cell_type": "code",
   "execution_count": 3,
   "metadata": {},
   "outputs": [],
   "source": [
    "%% =============== Part 1: Loading and Visualizing Data ================\n",
    "%  We start the exercise by first loading and visualizing the dataset. \n",
    "%  The following code will load the dataset into your environment and plot\n",
    "%  the data."
   ]
  },
  {
   "cell_type": "code",
   "execution_count": 4,
   "metadata": {},
   "outputs": [
    {
     "name": "stdout",
     "output_type": "stream",
     "text": [
      "Loading and Visualizing Data ...\n"
     ]
    }
   ],
   "source": [
    "fprintf('Loading and Visualizing Data ...\\n')"
   ]
  },
  {
   "cell_type": "code",
   "execution_count": 5,
   "metadata": {},
   "outputs": [],
   "source": [
    "% Load from ex6data1: \n",
    "% You will have X, y in your environment\n",
    "load('ex6data1.mat');"
   ]
  },
  {
   "cell_type": "code",
   "execution_count": 7,
   "metadata": {},
   "outputs": [],
   "source": [
    "function plotData(X, y)\n",
    "%PLOTDATA Plots the data points X and y into a new figure \n",
    "%   PLOTDATA(x,y) plots the data points with + for the positive examples\n",
    "%   and o for the negative examples. X is assumed to be a Mx2 matrix.\n",
    "%\n",
    "% Note: This was slightly modified such that it expects y = 1 or y = 0\n",
    "% Find Indices of Positive and Negative Examples\n",
    "pos = find(y == 1); neg = find(y == 0);\n",
    "% Plot Examples\n",
    "plot(X(pos, 1), X(pos, 2), 'k+','LineWidth', 1, 'MarkerSize', 7)\n",
    "hold on;\n",
    "plot(X(neg, 1), X(neg, 2), 'ko', 'MarkerFaceColor', 'y', 'MarkerSize', 7)\n",
    "hold off;\n",
    "end"
   ]
  },
  {
   "cell_type": "code",
   "execution_count": 8,
   "metadata": {},
   "outputs": [
    {
     "data": {
      "image/png": "[encoded data removed]",
      "text/plain": [
       "<IPython.core.display.Image object>"
      ]
     },
     "metadata": {},
     "output_type": "display_data"
    }
   ],
   "source": [
    "% Plot training data\n",
    "plotData(X, y);"
   ]
  },
  {
   "cell_type": "code",
   "execution_count": 9,
   "metadata": {},
   "outputs": [],
   "source": [
    "%% ==================== Part 2: Training Linear SVM ====================\n",
    "%  The following code will train a linear SVM on the dataset and plot the\n",
    "%  decision boundary learned."
   ]
  },
  {
   "cell_type": "code",
   "execution_count": 10,
   "metadata": {},
   "outputs": [],
   "source": [
    "% Load from ex6data1: \n",
    "% You will have X, y in your environment\n",
    "load('ex6data1.mat');"
   ]
  },
  {
   "cell_type": "code",
   "execution_count": 11,
   "metadata": {},
   "outputs": [
    {
     "name": "stdout",
     "output_type": "stream",
     "text": [
      "\n",
      "Training Linear SVM ...\n"
     ]
    }
   ],
   "source": [
    "fprintf('\\nTraining Linear SVM ...\\n')"
   ]
  },
  {
   "cell_type": "code",
   "execution_count": 12,
   "metadata": {},
   "outputs": [],
   "source": [
    "function visualizeBoundaryLinear(X, y, model)\n",
    "%VISUALIZEBOUNDARYLINEAR plots a linear decision boundary learned by the\n",
    "%SVM\n",
    "%   VISUALIZEBOUNDARYLINEAR(X, y, model) plots a linear decision boundary \n",
    "%   learned by the SVM and overlays the data on it\n",
    "\n",
    "w = model.w;\n",
    "b = model.b;\n",
    "xp = linspace(min(X(:,1)), max(X(:,1)), 100);\n",
    "yp = - (w(1)*xp + b)/w(2);\n",
    "plotData(X, y);\n",
    "hold on;\n",
    "plot(xp, yp, '-b'); \n",
    "hold off\n",
    "\n",
    "end"
   ]
  },
  {
   "cell_type": "code",
   "execution_count": 14,
   "metadata": {},
   "outputs": [],
   "source": [
    "function sim = linearKernel(x1, x2)\n",
    "%LINEARKERNEL returns a linear kernel between x1 and x2\n",
    "%   sim = linearKernel(x1, x2) returns a linear kernel between x1 and x2\n",
    "%   and returns the value in sim\n",
    "\n",
    "% Ensure that x1 and x2 are column vectors\n",
    "x1 = x1(:); x2 = x2(:);\n",
    "\n",
    "% Compute the kernel\n",
    "sim = x1' * x2;  % dot product\n",
    "\n",
    "end"
   ]
  },
  {
   "cell_type": "code",
   "execution_count": 16,
   "metadata": {},
   "outputs": [],
   "source": [
    "function [model] = svmTrain(X, Y, C, kernelFunction, ...\n",
    "                            tol, max_passes)\n",
    "%SVMTRAIN Trains an SVM classifier using a simplified version of the SMO \n",
    "%algorithm. \n",
    "%   [model] = SVMTRAIN(X, Y, C, kernelFunction, tol, max_passes) trains an\n",
    "%   SVM classifier and returns trained model. X is the matrix of training \n",
    "%   examples.  Each row is a training example, and the jth column holds the \n",
    "%   jth feature.  Y is a column matrix containing 1 for positive examples \n",
    "%   and 0 for negative examples.  C is the standard SVM regularization \n",
    "%   parameter.  tol is a tolerance value used for determining equality of \n",
    "%   floating point numbers. max_passes controls the number of iterations\n",
    "%   over the dataset (without changes to alpha) before the algorithm quits.\n",
    "%\n",
    "% Note: This is a simplified version of the SMO algorithm for training\n",
    "%       SVMs. In practice, if you want to train an SVM classifier, we\n",
    "%       recommend using an optimized package such as:  \n",
    "%\n",
    "%           LIBSVM   (http://www.csie.ntu.edu.tw/~cjlin/libsvm/)\n",
    "%           SVMLight (http://svmlight.joachims.org/)\n",
    "%\n",
    "%\n",
    "\n",
    "if ~exist('tol', 'var') || isempty(tol)\n",
    "    tol = 1e-3;\n",
    "end\n",
    "\n",
    "if ~exist('max_passes', 'var') || isempty(max_passes)\n",
    "    max_passes = 5;\n",
    "end\n",
    "\n",
    "% Data parameters\n",
    "m = size(X, 1);\n",
    "n = size(X, 2);\n",
    "\n",
    "% Map 0 to -1\n",
    "Y(Y==0) = -1;\n",
    "\n",
    "% Variables\n",
    "alphas = zeros(m, 1);\n",
    "b = 0;\n",
    "E = zeros(m, 1);\n",
    "passes = 0;\n",
    "eta = 0;\n",
    "L = 0;\n",
    "H = 0;\n",
    "\n",
    "% Pre-compute the Kernel Matrix since our dataset is small\n",
    "% (in practice, optimized SVM packages that handle large datasets\n",
    "%  gracefully will _not_ do this)\n",
    "% \n",
    "% We have implemented optimized vectorized version of the Kernels here so\n",
    "% that the svm training will run faster.\n",
    "if strcmp(func2str(kernelFunction), 'linearKernel')\n",
    "    % Vectorized computation for the Linear Kernel\n",
    "    % This is equivalent to computing the kernel on every pair of examples\n",
    "    K = X*X';\n",
    "elseif strfind(func2str(kernelFunction), 'gaussianKernel')\n",
    "    % Vectorized RBF Kernel\n",
    "    % This is equivalent to computing the kernel on every pair of examples\n",
    "    X2 = sum(X.^2, 2);\n",
    "    K = bsxfun(@plus, X2, bsxfun(@plus, X2', - 2 * (X * X')));\n",
    "    K = kernelFunction(1, 0) .^ K;\n",
    "else\n",
    "    % Pre-compute the Kernel Matrix\n",
    "    % The following can be slow due to the lack of vectorization\n",
    "    K = zeros(m);\n",
    "    for i = 1:m\n",
    "        for j = i:m\n",
    "             K(i,j) = kernelFunction(X(i,:)', X(j,:)');\n",
    "             K(j,i) = K(i,j); %the matrix is symmetric\n",
    "        end\n",
    "    end\n",
    "end\n",
    "\n",
    "% Train\n",
    "fprintf('\\nTraining ...');\n",
    "dots = 12;\n",
    "while passes < max_passes,\n",
    "            \n",
    "    num_changed_alphas = 0;\n",
    "    for i = 1:m,\n",
    "        \n",
    "        % Calculate Ei = f(x(i)) - y(i) using (2). \n",
    "        % E(i) = b + sum (X(i, :) * (repmat(alphas.*Y,1,n).*X)') - Y(i);\n",
    "        E(i) = b + sum (alphas.*Y.*K(:,i)) - Y(i);\n",
    "        \n",
    "        if ((Y(i)*E(i) < -tol && alphas(i) < C) || (Y(i)*E(i) > tol && alphas(i) > 0)),\n",
    "            \n",
    "            % In practice, there are many heuristics one can use to select\n",
    "            % the i and j. In this simplified code, we select them randomly.\n",
    "            j = ceil(m * rand());\n",
    "            while j == i,  % Make sure i \\neq j\n",
    "                j = ceil(m * rand());\n",
    "            end\n",
    "\n",
    "            % Calculate Ej = f(x(j)) - y(j) using (2).\n",
    "            E(j) = b + sum (alphas.*Y.*K(:,j)) - Y(j);\n",
    "\n",
    "            % Save old alphas\n",
    "            alpha_i_old = alphas(i);\n",
    "            alpha_j_old = alphas(j);\n",
    "            \n",
    "            % Compute L and H by (10) or (11). \n",
    "            if (Y(i) == Y(j)),\n",
    "                L = max(0, alphas(j) + alphas(i) - C);\n",
    "                H = min(C, alphas(j) + alphas(i));\n",
    "            else\n",
    "                L = max(0, alphas(j) - alphas(i));\n",
    "                H = min(C, C + alphas(j) - alphas(i));\n",
    "            end\n",
    "           \n",
    "            if (L == H),\n",
    "                % continue to next i. \n",
    "                continue;\n",
    "            end\n",
    "\n",
    "            % Compute eta by (14).\n",
    "            eta = 2 * K(i,j) - K(i,i) - K(j,j);\n",
    "            if (eta >= 0),\n",
    "                % continue to next i. \n",
    "                continue;\n",
    "            end\n",
    "            \n",
    "            % Compute and clip new value for alpha j using (12) and (15).\n",
    "            alphas(j) = alphas(j) - (Y(j) * (E(i) - E(j))) / eta;\n",
    "            \n",
    "            % Clip\n",
    "            alphas(j) = min (H, alphas(j));\n",
    "            alphas(j) = max (L, alphas(j));\n",
    "            \n",
    "            % Check if change in alpha is significant\n",
    "            if (abs(alphas(j) - alpha_j_old) < tol),\n",
    "                % continue to next i. \n",
    "                % replace anyway\n",
    "                alphas(j) = alpha_j_old;\n",
    "                continue;\n",
    "            end\n",
    "            \n",
    "            % Determine value for alpha i using (16). \n",
    "            alphas(i) = alphas(i) + Y(i)*Y(j)*(alpha_j_old - alphas(j));\n",
    "            \n",
    "            % Compute b1 and b2 using (17) and (18) respectively. \n",
    "            b1 = b - E(i) ...\n",
    "                 - Y(i) * (alphas(i) - alpha_i_old) *  K(i,j)' ...\n",
    "                 - Y(j) * (alphas(j) - alpha_j_old) *  K(i,j)';\n",
    "            b2 = b - E(j) ...\n",
    "                 - Y(i) * (alphas(i) - alpha_i_old) *  K(i,j)' ...\n",
    "                 - Y(j) * (alphas(j) - alpha_j_old) *  K(j,j)';\n",
    "\n",
    "            % Compute b by (19). \n",
    "            if (0 < alphas(i) && alphas(i) < C),\n",
    "                b = b1;\n",
    "            elseif (0 < alphas(j) && alphas(j) < C),\n",
    "                b = b2;\n",
    "            else\n",
    "                b = (b1+b2)/2;\n",
    "            end\n",
    "\n",
    "            num_changed_alphas = num_changed_alphas + 1;\n",
    "\n",
    "        end\n",
    "        \n",
    "    end\n",
    "    \n",
    "    if (num_changed_alphas == 0),\n",
    "        passes = passes + 1;\n",
    "    else\n",
    "        passes = 0;\n",
    "    end\n",
    "\n",
    "    fprintf('.');\n",
    "    dots = dots + 1;\n",
    "    if dots > 78\n",
    "        dots = 0;\n",
    "        fprintf('\\n');\n",
    "    end\n",
    "    if exist('OCTAVE_VERSION')\n",
    "        fflush(stdout);\n",
    "    end\n",
    "end\n",
    "fprintf(' Done! \\n\\n');\n",
    "\n",
    "% Save the model\n",
    "idx = alphas > 0;\n",
    "model.X= X(idx,:);\n",
    "model.y= Y(idx);\n",
    "model.kernelFunction = kernelFunction;\n",
    "model.b= b;\n",
    "model.alphas= alphas(idx);\n",
    "model.w = ((alphas.*Y)'*X)';\n",
    "\n",
    "end"
   ]
  },
  {
   "cell_type": "code",
   "execution_count": 17,
   "metadata": {},
   "outputs": [
    {
     "name": "stdout",
     "output_type": "stream",
     "text": [
      "\n",
      "Training ......................................................................\n",
      "...............................................................................\n",
      ". Done! \n",
      "\n"
     ]
    },
    {
     "data": {
      "image/png": "[encoded data removed]",
      "text/plain": [
       "<IPython.core.display.Image object>"
      ]
     },
     "metadata": {},
     "output_type": "display_data"
    }
   ],
   "source": [
    "% You should try to change the C value below and see how the decision\n",
    "% boundary varies (e.g., try C = 1000)\n",
    "C = 1;\n",
    "model = svmTrain(X, y, C, @linearKernel, 1e-3, 20);\n",
    "visualizeBoundaryLinear(X, y, model);"
   ]
  },
  {
   "cell_type": "code",
   "execution_count": 18,
   "metadata": {},
   "outputs": [],
   "source": [
    "%% =============== Part 3: Implementing Gaussian Kernel ===============\n",
    "%  You will now implement the Gaussian kernel to use\n",
    "%  with the SVM. You should complete the code in gaussianKernel.m"
   ]
  },
  {
   "cell_type": "code",
   "execution_count": 19,
   "metadata": {
    "scrolled": true
   },
   "outputs": [
    {
     "name": "stdout",
     "output_type": "stream",
     "text": [
      "\n",
      "Evaluating the Gaussian Kernel ...\n"
     ]
    }
   ],
   "source": [
    "fprintf('\\nEvaluating the Gaussian Kernel ...\\n')"
   ]
  },
  {
   "cell_type": "code",
   "execution_count": 21,
   "metadata": {},
   "outputs": [],
   "source": [
    "function sim = gaussianKernel(x1, x2, sigma)\n",
    "%RBFKERNEL returns a radial basis function kernel between x1 and x2\n",
    "%   sim = gaussianKernel(x1, x2) returns a gaussian kernel between x1 and x2\n",
    "%   and returns the value in sim\n",
    "% Ensure that x1 and x2 are column vectors\n",
    "x1 = x1(:); x2 = x2(:);\n",
    "% You need to return the following variables correctly.\n",
    "sim = 0;\n",
    "% ====================== YOUR CODE HERE ======================\n",
    "% Instructions: Fill in this function to return the similarity between x1\n",
    "%               and x2 computed using a Gaussian kernel with bandwidth\n",
    "%               sigma\n",
    "%\n",
    "%\n",
    "sim=exp(-sum((x1-x2) .^ 2)/2/sigma/sigma);\n",
    "% =============================================================  \n",
    "end"
   ]
  },
  {
   "cell_type": "code",
   "execution_count": 22,
   "metadata": {},
   "outputs": [],
   "source": [
    "x1 = [1 2 1]; x2 = [0 4 -1]; sigma = 2;\n",
    "sim = gaussianKernel(x1, x2, sigma);"
   ]
  },
  {
   "cell_type": "code",
   "execution_count": 23,
   "metadata": {},
   "outputs": [
    {
     "name": "stdout",
     "output_type": "stream",
     "text": [
      "Gaussian Kernel between x1 = [1; 2; 1], x2 = [0; 4; -1], sigma = 2.000000 :\n",
      "\t0.324652\n",
      "(for sigma = 2, this value should be about 0.324652)\n"
     ]
    }
   ],
   "source": [
    "fprintf(['Gaussian Kernel between x1 = [1; 2; 1], x2 = [0; 4; -1], sigma = %f :' ...\n",
    "         '\\n\\t%f\\n(for sigma = 2, this value should be about 0.324652)\\n'], sigma, sim);"
   ]
  },
  {
   "cell_type": "code",
   "execution_count": 24,
   "metadata": {},
   "outputs": [],
   "source": [
    "%% =============== Part 4: Visualizing Dataset 2 ================\n",
    "%  The following code will load the next dataset into your environment and \n",
    "%  plot the data. "
   ]
  },
  {
   "cell_type": "code",
   "execution_count": 25,
   "metadata": {},
   "outputs": [
    {
     "name": "stdout",
     "output_type": "stream",
     "text": [
      "Loading and Visualizing Data ...\n"
     ]
    }
   ],
   "source": [
    "fprintf('Loading and Visualizing Data ...\\n')"
   ]
  },
  {
   "cell_type": "code",
   "execution_count": 26,
   "metadata": {},
   "outputs": [],
   "source": [
    "% Load from ex6data2: \n",
    "% You will have X, y in your environment\n",
    "load('ex6data2.mat');"
   ]
  },
  {
   "cell_type": "code",
   "execution_count": 27,
   "metadata": {},
   "outputs": [
    {
     "data": {
      "image/png": "[encoded data removed]",
      "text/plain": [
       "<IPython.core.display.Image object>"
      ]
     },
     "metadata": {},
     "output_type": "display_data"
    }
   ],
   "source": [
    "% Plot training data\n",
    "plotData(X, y);"
   ]
  },
  {
   "cell_type": "code",
   "execution_count": 28,
   "metadata": {},
   "outputs": [],
   "source": [
    "%% ========== Part 5: Training SVM with RBF Kernel (Dataset 2) ==========\n",
    "%  After you have implemented the kernel, we can now use it to train the \n",
    "%  SVM classifier."
   ]
  },
  {
   "cell_type": "code",
   "execution_count": 29,
   "metadata": {},
   "outputs": [
    {
     "name": "stdout",
     "output_type": "stream",
     "text": [
      "\n",
      "Training SVM with RBF Kernel (this may take 1 to 2 minutes) ...\n"
     ]
    }
   ],
   "source": [
    "fprintf('\\nTraining SVM with RBF Kernel (this may take 1 to 2 minutes) ...\\n');"
   ]
  },
  {
   "cell_type": "code",
   "execution_count": 30,
   "metadata": {},
   "outputs": [],
   "source": [
    "% Load from ex6data2: \n",
    "% You will have X, y in your environment\n",
    "load('ex6data2.mat');"
   ]
  },
  {
   "cell_type": "code",
   "execution_count": 31,
   "metadata": {},
   "outputs": [],
   "source": [
    "% SVM Parameters\n",
    "C = 1; sigma = 0.1;"
   ]
  },
  {
   "cell_type": "code",
   "execution_count": 34,
   "metadata": {},
   "outputs": [],
   "source": [
    "function visualizeBoundary(X, y, model, varargin)\n",
    "%VISUALIZEBOUNDARY plots a non-linear decision boundary learned by the SVM\n",
    "%   VISUALIZEBOUNDARYLINEAR(X, y, model) plots a non-linear decision \n",
    "%   boundary learned by the SVM and overlays the data on it\n",
    "% Plot the training data on top of the boundary\n",
    "plotData(X, y)\n",
    "% Make classification predictions over a grid of values\n",
    "x1plot = linspace(min(X(:,1)), max(X(:,1)), 100)';\n",
    "x2plot = linspace(min(X(:,2)), max(X(:,2)), 100)';\n",
    "[X1, X2] = meshgrid(x1plot, x2plot);\n",
    "vals = zeros(size(X1));\n",
    "for i = 1:size(X1, 2)\n",
    "   this_X = [X1(:, i), X2(:, i)];\n",
    "   vals(:, i) = svmPredict(model, this_X);\n",
    "end\n",
    "% Plot the SVM boundary\n",
    "hold on\n",
    "contour(X1, X2, vals, [0.5 0.5], 'b');\n",
    "hold off;\n",
    "end"
   ]
  },
  {
   "cell_type": "code",
   "execution_count": 36,
   "metadata": {},
   "outputs": [],
   "source": [
    "function pred = svmPredict(model, X)\n",
    "%SVMPREDICT returns a vector of predictions using a trained SVM model\n",
    "%(svmTrain). \n",
    "%   pred = SVMPREDICT(model, X) returns a vector of predictions using a \n",
    "%   trained SVM model (svmTrain). X is a mxn matrix where there each \n",
    "%   example is a row. model is a svm model returned from svmTrain.\n",
    "%   predictions pred is a m x 1 column of predictions of {0, 1} values.\n",
    "%\n",
    "\n",
    "% Check if we are getting a column vector, if so, then assume that we only\n",
    "% need to do prediction for a single example\n",
    "if (size(X, 2) == 1)\n",
    "    % Examples should be in rows\n",
    "    X = X';\n",
    "end\n",
    "\n",
    "% Dataset \n",
    "m = size(X, 1);\n",
    "p = zeros(m, 1);\n",
    "pred = zeros(m, 1);\n",
    "\n",
    "if strcmp(func2str(model.kernelFunction), 'linearKernel')\n",
    "    % We can use the weights and bias directly if working with the \n",
    "    % linear kernel\n",
    "    p = X * model.w + model.b;\n",
    "elseif strfind(func2str(model.kernelFunction), 'gaussianKernel')\n",
    "    % Vectorized RBF Kernel\n",
    "    % This is equivalent to computing the kernel on every pair of examples\n",
    "    X1 = sum(X.^2, 2);\n",
    "    X2 = sum(model.X.^2, 2)';\n",
    "    K = bsxfun(@plus, X1, bsxfun(@plus, X2, - 2 * X * model.X'));\n",
    "    K = model.kernelFunction(1, 0) .^ K;\n",
    "    K = bsxfun(@times, model.y', K);\n",
    "    K = bsxfun(@times, model.alphas', K);\n",
    "    p = sum(K, 2);\n",
    "else\n",
    "    % Other Non-linear kernel\n",
    "    for i = 1:m\n",
    "        prediction = 0;\n",
    "        for j = 1:size(model.X, 1)\n",
    "            prediction = prediction + ...\n",
    "                model.alphas(j) * model.y(j) * ...\n",
    "                model.kernelFunction(X(i,:)', model.X(j,:)');\n",
    "        end\n",
    "        p(i) = prediction + model.b;\n",
    "    end\n",
    "end\n",
    "% Convert predictions into 0 / 1\n",
    "pred(p >= 0) =  1;\n",
    "pred(p <  0) =  0;\n",
    "end"
   ]
  },
  {
   "cell_type": "code",
   "execution_count": 37,
   "metadata": {},
   "outputs": [
    {
     "name": "stdout",
     "output_type": "stream",
     "text": [
      "\n",
      "Training ......................................................................\n",
      "...............................................................................\n",
      "...............................................................................\n",
      "...............................................................................\n",
      ".................................................. Done! \n",
      "\n"
     ]
    },
    {
     "data": {
      "image/png": "[encoded data removed]",
      "text/plain": [
       "<IPython.core.display.Image object>"
      ]
     },
     "metadata": {},
     "output_type": "display_data"
    }
   ],
   "source": [
    "% We set the tolerance and max_passes lower here so that the code will run\n",
    "% faster. However, in practice, you will want to run the training to\n",
    "% convergence.\n",
    "model= svmTrain(X, y, C, @(x1, x2) gaussianKernel(x1, x2, sigma)); \n",
    "visualizeBoundary(X, y, model);"
   ]
  },
  {
   "cell_type": "code",
   "execution_count": 38,
   "metadata": {},
   "outputs": [],
   "source": [
    "%% =============== Part 6: Visualizing Dataset 3 ================\n",
    "%  The following code will load the next dataset into your environment and \n",
    "%  plot the data. "
   ]
  },
  {
   "cell_type": "code",
   "execution_count": 39,
   "metadata": {},
   "outputs": [
    {
     "name": "stdout",
     "output_type": "stream",
     "text": [
      "Loading and Visualizing Data ...\n"
     ]
    }
   ],
   "source": [
    "fprintf('Loading and Visualizing Data ...\\n')"
   ]
  },
  {
   "cell_type": "code",
   "execution_count": 40,
   "metadata": {},
   "outputs": [],
   "source": [
    "% Load from ex6data3: \n",
    "% You will have X, y in your environment\n",
    "load('ex6data3.mat');"
   ]
  },
  {
   "cell_type": "code",
   "execution_count": 41,
   "metadata": {},
   "outputs": [
    {
     "data": {
      "image/png": "[encoded data removed]",
      "text/plain": [
       "<IPython.core.display.Image object>"
      ]
     },
     "metadata": {},
     "output_type": "display_data"
    }
   ],
   "source": [
    "% Plot training data\n",
    "plotData(X, y);"
   ]
  },
  {
   "cell_type": "code",
   "execution_count": 42,
   "metadata": {},
   "outputs": [],
   "source": [
    "%% ========== Part 7: Training SVM with RBF Kernel (Dataset 3) ==========\n",
    "\n",
    "%  This is a different dataset that you can use to experiment with. Try\n",
    "%  different values of C and sigma here."
   ]
  },
  {
   "cell_type": "code",
   "execution_count": 55,
   "metadata": {},
   "outputs": [],
   "source": [
    "% Load from ex6data3: \n",
    "% You will have X, y in your environment\n",
    "load('ex6data3.mat');"
   ]
  },
  {
   "cell_type": "code",
   "execution_count": 56,
   "metadata": {
    "scrolled": false
   },
   "outputs": [
    {
     "name": "stdout",
     "output_type": "stream",
     "text": [
      "Variables in the current scope:\n",
      "\n",
      "   Attr Name        Size                     Bytes  Class\n",
      "   ==== ====        ====                     =====  ===== \n",
      "        X         211x2                       3376  double\n",
      "        Xval      200x2                       3200  double\n",
      "        y         211x1                       1688  double\n",
      "        yval      200x1                       1600  double\n",
      "\n",
      "Total is 1233 elements using 9864 bytes\n",
      "\n"
     ]
    }
   ],
   "source": [
    "whos"
   ]
  },
  {
   "cell_type": "code",
   "execution_count": 46,
   "metadata": {},
   "outputs": [],
   "source": [
    "function [C, sigma] = dataset3Params(X, y, Xval, yval)\n",
    "%DATASET3PARAMS returns your choice of C and sigma for Part 3 of the exercise\n",
    "%where you select the optimal (C, sigma) learning parameters to use for SVM\n",
    "%with RBF kernel\n",
    "%   [C, sigma] = DATASET3PARAMS(X, y, Xval, yval) returns your choice of C and \n",
    "%   sigma. You should complete this function to return the optimal C and \n",
    "%   sigma based on a cross-validation set.\n",
    "%\n",
    "% You need to return the following variables correctly.\n",
    "C = 1;\n",
    "sigma = 0.3;\n",
    "% ====================== YOUR CODE HERE ======================\n",
    "% Instructions: Fill in this function to return the optimal C and sigma\n",
    "%               learning parameters found using the cross validation set.\n",
    "%               You can use svmPredict to predict the labels on the cross\n",
    "%               validation set. For example, \n",
    "%                   predictions = svmPredict(model, Xval);\n",
    "%               will return the predictions on the cross validation set.\n",
    "%\n",
    "%  Note: You can compute the prediction error using \n",
    "%        mean(double(predictions ~= yval))\n",
    "%\n",
    "wid=[0.01;0.03;0.1;0.3;1;3;10;30];\n",
    "errors=0;\n",
    "for i=1:size(wid,1)\n",
    "    for j=1:size(wid,1)\n",
    "        model= svmTrain(X, y, wid(i), @(x1, x2) gaussianKernel(x1, x2, wid(j)));\n",
    "        predictions=svmPredict(model, Xval);\n",
    "        errors(i,j)=mean(double(predictions ~= yval));\n",
    "    end\n",
    "end\n",
    "error=min(min(errors));\n",
    "[i,j]=find(errors==error);\n",
    "C=wid(i);\n",
    "sigma=wid(j);\n",
    "% =========================================================================\n",
    "end"
   ]
  },
  {
   "cell_type": "code",
   "execution_count": 47,
   "metadata": {
    "scrolled": true
   },
   "outputs": [
    {
     "name": "stdout",
     "output_type": "stream",
     "text": [
      "\n",
      "Training ......................................... Done! \n",
      "\n",
      "\n",
      "Training ......................................................... Done! \n",
      "\n",
      "\n",
      "Training ....................................................... Done! \n",
      "\n",
      "\n",
      "Training .................................................... Done! \n",
      "\n",
      "\n",
      "Training ............................................... Done! \n",
      "\n",
      "\n",
      "Training .................................. Done! \n",
      "\n",
      "\n",
      "Training .......................................................... Done! \n",
      "\n",
      "\n",
      "Training .................................................. Done! \n",
      "\n",
      "\n",
      "Training ..................................... Done! \n",
      "\n",
      "\n",
      "Training ...................................................... Done! \n",
      "\n",
      "\n",
      "Training ......................................... Done! \n",
      "\n",
      "\n",
      "Training ................................................ Done! \n",
      "\n",
      "\n",
      "Training ................................... Done! \n",
      "\n",
      "\n",
      "Training .......................................... Done! \n",
      "\n",
      "\n",
      "Training .......................................... Done! \n",
      "\n",
      "\n",
      "Training .............................................. Done! \n",
      "\n",
      "\n",
      "Training .................................... Done! \n",
      "\n",
      "\n",
      "Training ................................................ Done! \n",
      "\n",
      "\n",
      "Training ......................................................................\n",
      "...............................................................................\n",
      "........ Done! \n",
      "\n",
      "\n",
      "Training ......................................................................\n",
      "............................ Done! \n",
      "\n",
      "\n",
      "Training .......................................................... Done! \n",
      "\n",
      "\n",
      "Training ............................................ Done! \n",
      "\n",
      "\n",
      "Training ................................................... Done! \n",
      "\n",
      "\n",
      "Training ................................................. Done! \n",
      "\n",
      "\n",
      "Training ........................................................ Done! \n",
      "\n",
      "\n",
      "Training ............................................................ Done! \n",
      "\n",
      "\n",
      "Training ......................................................................\n",
      "...............................................................................\n",
      "............ Done! \n",
      "\n",
      "\n",
      "Training ......................................................................\n",
      ". Done! \n",
      "\n",
      "\n",
      "Training ......................................................... Done! \n",
      "\n",
      "\n",
      "Training ............................... Done! \n",
      "\n",
      "\n",
      "Training ................................ Done! \n",
      "\n",
      "\n",
      "Training .................................... Done! \n",
      "\n",
      "\n",
      "Training ................................................... Done! \n",
      "\n",
      "\n",
      "Training ......................................................................\n",
      ".................. Done! \n",
      "\n",
      "\n",
      "Training ......................................................................\n",
      "...............................................................................\n",
      "...............................................................................\n",
      ".......... Done! \n",
      "\n",
      "\n",
      "Training ......................................................................\n",
      ".................................. Done! \n",
      "\n",
      "\n",
      "Training .................................................................. Done! \n",
      "\n",
      "\n",
      "Training ......................................................................\n",
      " Done! \n",
      "\n",
      "\n",
      "Training .......................................... Done! \n",
      "\n",
      "\n",
      "Training ................................................... Done! \n",
      "\n",
      "\n",
      "Training .................................. Done! \n",
      "\n",
      "\n",
      "Training ......................................................................\n",
      ".......... Done! \n",
      "\n",
      "\n",
      "Training ......................................................................\n",
      "...............................................................................\n",
      "...............................................................................\n",
      "...............................................................................\n",
      "...............................................................................\n",
      "...............................................................................\n",
      "...............................................................................\n",
      "...............................................................................\n",
      "...............................................................................\n",
      "............................. Done! \n",
      "\n",
      "\n",
      "Training ......................................................................\n",
      "............................... Done! \n",
      "\n",
      "\n",
      "Training ......................................................................\n",
      "........................ Done! \n",
      "\n",
      "\n",
      "Training ......................................................................\n",
      ".... Done! \n",
      "\n",
      "\n",
      "Training ............................................. Done! \n",
      "\n",
      "\n",
      "Training ....................................... Done! \n",
      "\n",
      "\n",
      "Training ................................................... Done! \n",
      "\n",
      "\n",
      "Training ......................................................................\n",
      ".................................................. Done! \n",
      "\n",
      "\n",
      "Training ......................................................................\n",
      "...............................................................................\n",
      "...............................................................................\n",
      "...............................................................................\n",
      "...............................................................................\n",
      "...............................................................................\n",
      "...............................................................................\n",
      "...............................................................................\n",
      "...............................................................................\n",
      "...............................................................................\n",
      "...............................................................................\n",
      "...............................................................................\n",
      "...............................................................................\n",
      "...............................................................................\n",
      "...............................................................................\n",
      "...............................................................................\n",
      "...............................................................................\n",
      "..................................................... Done! \n",
      "\n",
      "\n",
      "Training ......................................................................\n",
      "...............................................................................\n",
      "................................................ Done! \n",
      "\n",
      "\n",
      "Training ......................................................................\n",
      "..................................................................... Done! \n",
      "\n",
      "\n",
      "Training ................................................. Done! \n",
      "\n",
      "\n",
      "Training .............................................. Done! \n",
      "\n",
      "\n",
      "Training ........................................................... Done! \n",
      "\n",
      "\n",
      "Training ........................................ Done! \n",
      "\n",
      "\n",
      "Training ......................................................................\n",
      ".......................... Done! \n",
      "\n",
      "\n",
      "Training ......................................................................\n",
      "...............................................................................\n",
      "...............................................................................\n",
      "...............................................................................\n",
      "...............................................................................\n",
      "...............................................................................\n",
      "...............................................................................\n",
      "...............................................................................\n",
      "...............................................................................\n",
      "...............................................................................\n",
      "...............................................................................\n",
      "...............................................................................\n",
      "...............................................................................\n",
      "...............................................................................\n",
      "...............................................................................\n"
     ]
    },
    {
     "name": "stdout",
     "output_type": "stream",
     "text": [
      "...............................................................................\n",
      "...............................................................................\n",
      "...............................................................................\n",
      "...............................................................................\n",
      "...............................................................................\n",
      "...............................................................................\n",
      ".............................................................................. Done! \n",
      "\n",
      "\n",
      "Training ......................................................................\n",
      "...............................................................................\n",
      "...............................................................................\n",
      "...............................................................................\n",
      "...............................................................................\n",
      ".......................... Done! \n",
      "\n",
      "\n",
      "Training ......................................................................\n",
      "...................................................................... Done! \n",
      "\n",
      "\n",
      "Training ......................................................................\n",
      "...................... Done! \n",
      "\n",
      "\n",
      "Training ..................................................... Done! \n",
      "\n",
      "\n",
      "Training ..................................... Done! \n",
      "\n"
     ]
    }
   ],
   "source": [
    "% Try different SVM Parameters here\n",
    "[C, sigma] = dataset3Params(X, y, Xval, yval);"
   ]
  },
  {
   "cell_type": "code",
   "execution_count": 57,
   "metadata": {
    "scrolled": true
   },
   "outputs": [
    {
     "name": "stdout",
     "output_type": "stream",
     "text": [
      "Variables in the current scope:\n",
      "\n",
      "   Attr Name        Size                     Bytes  Class\n",
      "   ==== ====        ====                     =====  ===== \n",
      "        X         211x2                       3376  double\n",
      "        Xval      200x2                       3200  double\n",
      "        y         211x1                       1688  double\n",
      "        yval      200x1                       1600  double\n",
      "\n",
      "Total is 1233 elements using 9864 bytes\n",
      "\n"
     ]
    }
   ],
   "source": [
    "whos"
   ]
  },
  {
   "cell_type": "code",
   "execution_count": 58,
   "metadata": {
    "scrolled": false
   },
   "outputs": [
    {
     "name": "stdout",
     "output_type": "stream",
     "text": [
      "error: 'C' undefined near line 2 column 23\n",
      "error: 'model' undefined near line 1 column 25\n"
     ]
    }
   ],
   "source": [
    "% Train the SVM\n",
    "model= svmTrain(X, y, C, @(x1, x2) gaussianKernel(x1, x2, sigma));\n",
    "visualizeBoundary(X, y, model);"
   ]
  },
  {
   "cell_type": "code",
   "execution_count": null,
   "metadata": {},
   "outputs": [],
   "source": []
  }
 ],
 "metadata": {
  "kernelspec": {
   "display_name": "Octave",
   "language": "octave",
   "name": "octave"
  },
  "language_info": {
   "file_extension": ".m",
   "help_links": [
    {
     "text": "GNU Octave",
     "url": "https://www.gnu.org/software/octave/support.html"
    },
    {
     "text": "Octave Kernel",
     "url": "https://github.com/Calysto/octave_kernel"
    },
    {
     "text": "MetaKernel Magics",
     "url": "https://github.com/calysto/metakernel/blob/master/metakernel/magics/README.md"
    }
   ],
   "mimetype": "text/x-octave",
   "name": "octave",
   "version": "4.4.1"
  }
 },
 "nbformat": 4,
 "nbformat_minor": 2
}
