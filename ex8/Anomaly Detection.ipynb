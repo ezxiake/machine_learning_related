{
 "cells": [
  {
   "cell_type": "markdown",
   "metadata": {},
   "source": [
    "# Exercise 8 | Anomaly Detection\n",
    "---"
   ]
  },
  {
   "cell_type": "code",
   "execution_count": 1,
   "metadata": {},
   "outputs": [],
   "source": [
    "%  Instructions\n",
    "%  ------------\n",
    "%\n",
    "%  This file contains code that helps you get started on the\n",
    "%  exercise. You will need to complete the following functions:\n",
    "%\n",
    "%     estimateGaussian.m\n",
    "%     selectThreshold.m\n",
    "%     cofiCostFunc.m\n",
    "%\n",
    "%  For this exercise, you will not need to change any code in this file,\n",
    "%  or any other files other than those mentioned above."
   ]
  },
  {
   "cell_type": "code",
   "execution_count": 14,
   "metadata": {},
   "outputs": [],
   "source": [
    "%% Initialization\n",
    "clear ; close all; clc"
   ]
  },
  {
   "cell_type": "code",
   "execution_count": 15,
   "metadata": {},
   "outputs": [],
   "source": [
    "%% ================== Part 1: Load Example Dataset  ===================\n",
    "%  We start this exercise by using a small dataset that is easy to\n",
    "%  visualize.\n",
    "%\n",
    "%  Our example case consists of 2 network se# rver statistics across\n",
    "%  several machines: the latency and throughput of each machine.\n",
    "%  This exercise will help us find possibly faulty (or very fast) machines."
   ]
  },
  {
   "cell_type": "code",
   "execution_count": 16,
   "metadata": {},
   "outputs": [
    {
     "name": "stdout",
     "output_type": "stream",
     "text": [
      "Visualizing example dataset for outlier detection.\n",
      "\n"
     ]
    }
   ],
   "source": [
    "fprintf('Visualizing example dataset for outlier detection.\\n\\n');"
   ]
  },
  {
   "cell_type": "code",
   "execution_count": 17,
   "metadata": {},
   "outputs": [],
   "source": [
    "%  The following command loads the dataset. You should now have the\n",
    "%  variables X, Xval, yval in your environment\n",
    "load('ex8data1.mat');"
   ]
  },
  {
   "cell_type": "code",
   "execution_count": 6,
   "metadata": {},
   "outputs": [
    {
     "name": "stdout",
     "output_type": "stream",
     "text": [
      "Variables in the current scope:\n",
      "\n",
      "   Attr Name        Size                     Bytes  Class\n",
      "   ==== ====        ====                     =====  ===== \n",
      "        X         307x2                       4912  double\n",
      "        Xval      307x2                       4912  double\n",
      "        yval      307x1                       2456  double\n",
      "\n",
      "Total is 1535 elements using 12280 bytes\n",
      "\n"
     ]
    }
   ],
   "source": [
    "whos"
   ]
  },
  {
   "cell_type": "code",
   "execution_count": 7,
   "metadata": {},
   "outputs": [
    {
     "data": {
      "image/png": "[encoded data removed]",
      "text/plain": [
       "<IPython.core.display.Image object>"
      ]
     },
     "metadata": {},
     "output_type": "display_data"
    }
   ],
   "source": [
    "%  Visualize the example dataset\n",
    "plot(X(:, 1), X(:, 2), 'bx');\n",
    "axis([0 30 0 30]);\n",
    "xlabel('Latency (ms)');\n",
    "ylabel('Throughput (mb/s)');"
   ]
  },
  {
   "cell_type": "code",
   "execution_count": 8,
   "metadata": {},
   "outputs": [],
   "source": [
    "%% ================== Part 2: Estimate the dataset statistics ===================\n",
    "%  For this exercise, we assume a Gaussian distribution for the dataset.\n",
    "%\n",
    "%  We first estimate the parameters of our assumed Gaussian distribution, \n",
    "%  then compute the probabilities for each of the points and then visualize \n",
    "%  both the overall distribution and where each of the points falls in \n",
    "%  terms of that distribution."
   ]
  },
  {
   "cell_type": "code",
   "execution_count": 9,
   "metadata": {
    "scrolled": false
   },
   "outputs": [
    {
     "name": "stdout",
     "output_type": "stream",
     "text": [
      "Visualizing Gaussian fit.\n",
      "\n"
     ]
    }
   ],
   "source": [
    "fprintf('Visualizing Gaussian fit.\\n\\n');"
   ]
  },
  {
   "cell_type": "markdown",
   "metadata": {},
   "source": [
    "### Anomaly detection algorithm\n",
    "#### 1. Multivariate Gaussian (Normal) distribution\n",
    "1. Choose features $x_j$ that you think might be indicative of anomalous examples.\n",
    "2. Fit parameters $\\mu_1,...,\\mu_n,\\sigma_1^2,...,\\sigma_n^2$  \n",
    "$\\mu_j = \\frac{1}{m}\\sum\\limits_{i=1}^{m}x_j^{(i)}$  \n",
    "$\\sigma_j^2=\\frac{1}{m}\\sum\\limits_{i=1}^{m}\\big(x_j^{(i)} - \\mu_j\\big)^2$  \n",
    "3. Given new example $x$, compute $p(x)$:  \n",
    "$p(x)=\\prod\\limits_{j=1}^{n}p\\big(x_j;\\mu_j,\\sigma_j^2\\big) = \\prod\\limits_{j=1}^{n} \\frac{1}{\\sqrt{2\\pi}\\sigma_j} exp\\big(-\\frac{(x_j-\\mu_j)^2}{2\\sigma_j^2}\\big)$  \n",
    "Anomaly if $p(x) < \\varepsilon$  \n",
    "\n",
    "#### 2. Multivariate Gaussian (Normal) distribution\n",
    "Parameters $\\mu, \\Sigma$  \n",
    "$p(x;\\mu,\\Sigma) = \\frac{1}{(2\\pi)^{\\frac{n}{2}}|\\Sigma|^{\\frac{1}{2}}} exp \\Big(-\\frac{1}{2}(x-\\mu)^T\\Sigma^{-1}(x-\\mu)\\Big)$  \n",
    "Parameter fitting: Given training set $\\big\\{x^{(1)},x^{(2)},...,x^{(m)}\\big\\}$  \n",
    "$\\mu = \\frac{1}{m}\\sum\\limits_{i=1}^{m}x^{(i)}$  \n",
    "$\\Sigma=\\frac{1}{m}\\sum\\limits_{i=1}^{m}\\big(x^{(i)}-\\mu\\big)\\big(x^{(i)}-\\mu\\big)^T$\n",
    "\n"
   ]
  },
  {
   "cell_type": "code",
   "execution_count": 10,
   "metadata": {
    "scrolled": true
   },
   "outputs": [
    {
     "name": "stdout",
     "output_type": "stream",
     "text": [
      "X =\n",
      "\n",
      "    13   105\n",
      "    19    87\n",
      "    50    90\n",
      "    16    93\n",
      "    18   100\n",
      "    21    85\n",
      "    11    90\n",
      "\n",
      "X =\n",
      "\n",
      "   -8.14286   12.14286\n",
      "   -2.14286   -5.85714\n",
      "   28.85714   -2.85714\n",
      "   -5.14286    0.14286\n",
      "   -3.14286    7.14286\n",
      "   -0.14286   -7.85714\n",
      "  -10.14286   -2.85714\n",
      "\n",
      "ans =\n",
      "\n",
      "   -8.14286   -2.14286   28.85714   -5.14286   -3.14286   -0.14286  -10.14286\n",
      "   12.14286   -5.85714   -2.85714    0.14286    7.14286   -7.85714   -2.85714\n",
      "\n",
      "C =\n",
      "\n",
      "   173.810   -26.976\n",
      "   -26.976    51.810\n",
      "\n",
      "S =\n",
      "\n",
      "   173.810    51.810\n",
      "\n"
     ]
    }
   ],
   "source": [
    "%数据初始化\n",
    "X =[13 105;19 87;50 90;16 93;18 100;21 85;11 90]   %shape=(7*2)\n",
    "X = X - mean(X)    %数据减去本列均值\n",
    "X'\n",
    "%协方差\n",
    "C = (X'*X)/(length(X)-1)\n",
    "%标准差\n",
    "S = sum(X.^2)/(length(X)-1)\n",
    "%所以正对角线上的数据与方差一致，而反对角线上数据标准不同列之间的相关性。 \n",
    "%正数：正相关 \n",
    "%负数：负相关 \n",
    "%零：不相关\n",
    "% https://blog.csdn.net/weixin_40920228/article/details/80574332"
   ]
  },
  {
   "cell_type": "code",
   "execution_count": 18,
   "metadata": {},
   "outputs": [],
   "source": [
    "function [mu sigma2] = estimateGaussian(X)\n",
    "%ESTIMATEGAUSSIAN This function estimates the parameters of a \n",
    "%Gaussian distribution using the data in X\n",
    "%   [mu sigma2] = estimateGaussian(X), \n",
    "%   The input X is the dataset with each n-dimensional data point in one row\n",
    "%   The output is an n-dimensional vector mu, the mean of the data set\n",
    "%   and the variances sigma^2, an n x 1 vector\n",
    "%\n",
    "% Useful variables\n",
    "[m, n] = size(X);\n",
    "% You should return these values correctly\n",
    "mu = zeros(n, 1);\n",
    "sigma2 = zeros(n, 1);\n",
    "% ====================== YOUR CODE HERE ======================\n",
    "% Instructions: Compute the mean of the data and the variances\n",
    "%               In particular, mu(i) should contain the mean of\n",
    "%               the data for the i-th feature and sigma2(i)\n",
    "%               should contain variance of the i-th feature.\n",
    "%\n",
    "mu=sum(X)/m;\n",
    "sigma2=sum((X - mu) .^ 2)/m;\n",
    "\n",
    "% =============================================================\n",
    "end"
   ]
  },
  {
   "cell_type": "code",
   "execution_count": 19,
   "metadata": {},
   "outputs": [],
   "source": [
    "%  Estimate my and sigma2\n",
    "[mu sigma2] = estimateGaussian(X);"
   ]
  },
  {
   "cell_type": "code",
   "execution_count": 20,
   "metadata": {
    "scrolled": true
   },
   "outputs": [
    {
     "name": "stdout",
     "output_type": "stream",
     "text": [
      "mu =\n",
      "\n",
      "   14.112   14.998\n",
      "\n",
      "sigma2 =\n",
      "\n",
      "   1.8326   1.7097\n",
      "\n"
     ]
    }
   ],
   "source": [
    "mu\n",
    "sigma2"
   ]
  },
  {
   "cell_type": "code",
   "execution_count": 23,
   "metadata": {},
   "outputs": [],
   "source": [
    "function p = multivariateGaussian(X, mu, Sigma2)\n",
    "%MULTIVARIATEGAUSSIAN Computes the probability density function of the\n",
    "%multivariate gaussian distribution.\n",
    "%    p = MULTIVARIATEGAUSSIAN(X, mu, Sigma2) Computes the probability \n",
    "%    density function of the examples X under the multivariate gaussian \n",
    "%    distribution with parameters mu and Sigma2. If Sigma2 is a matrix, it is\n",
    "%    treated as the covariance matrix. If Sigma2 is a vector, it is treated\n",
    "%    as the \\sigma^2 values of the variances in each dimension (a diagonal\n",
    "%    covariance matrix)\n",
    "%\n",
    "k = length(mu);\n",
    "if (size(Sigma2, 2) == 1) || (size(Sigma2, 1) == 1)\n",
    "    Sigma2 = diag(Sigma2);\n",
    "end\n",
    "X = bsxfun(@minus, X, mu(:)');\n",
    "p = (2 * pi) ^ (- k / 2) * det(Sigma2) ^ (-0.5) * ...\n",
    "    exp(-0.5 * sum(bsxfun(@times, X * pinv(Sigma2), X), 2));\n",
    "end"
   ]
  },
  {
   "cell_type": "code",
   "execution_count": 128,
   "metadata": {
    "scrolled": true
   },
   "outputs": [
    {
     "name": "stdout",
     "output_type": "stream",
     "text": [
      "ans =\n",
      "\n",
      "   307     1\n",
      "\n",
      "p =\n",
      "\n",
      "   6.4708e-02\n",
      "   5.0304e-02\n",
      "   7.2450e-02\n",
      "   5.0316e-02\n",
      "   6.3685e-02\n",
      "   4.2458e-02\n",
      "   4.7909e-02\n",
      "   3.6511e-02\n",
      "   1.8666e-02\n",
      "   5.0688e-02\n",
      "   2.6515e-02\n",
      "   8.4713e-02\n",
      "   7.1047e-02\n",
      "   6.9553e-02\n",
      "   3.7779e-02\n",
      "   8.2703e-02\n",
      "   8.7792e-02\n",
      "   8.6876e-02\n",
      "   6.9171e-02\n",
      "   9.7347e-03\n",
      "   7.5707e-02\n",
      "   8.8377e-02\n",
      "   3.7410e-02\n",
      "   8.7138e-02\n",
      "   4.1263e-02\n",
      "   2.4880e-02\n",
      "   7.9090e-02\n",
      "   7.5923e-02\n",
      "   8.0826e-02\n",
      "   7.6640e-02\n",
      "   5.0117e-02\n",
      "   8.8050e-02\n",
      "   6.1788e-02\n",
      "   5.9623e-02\n",
      "   2.0902e-02\n",
      "   4.5794e-02\n",
      "   3.5342e-02\n",
      "   8.2129e-02\n",
      "   7.2433e-02\n",
      "   8.4979e-02\n",
      "   6.4188e-02\n",
      "   6.6478e-02\n",
      "   8.3757e-02\n",
      "   8.5762e-02\n",
      "   6.9463e-02\n",
      "   5.8848e-02\n",
      "   3.3065e-02\n",
      "   7.0309e-02\n",
      "   7.7749e-02\n",
      "   3.5989e-02\n",
      "   7.3497e-02\n",
      "   7.5621e-02\n",
      "   8.5469e-02\n",
      "   8.9786e-02\n",
      "   7.5870e-02\n",
      "   8.4445e-02\n",
      "   8.6797e-02\n",
      "   8.9350e-02\n",
      "   7.8301e-02\n",
      "   6.0997e-02\n",
      "   6.8918e-02\n",
      "   8.9399e-02\n",
      "   2.3561e-02\n",
      "   3.9218e-02\n",
      "   3.4682e-02\n",
      "   7.0582e-02\n",
      "   3.3898e-02\n",
      "   8.0907e-02\n",
      "   2.3933e-02\n",
      "   9.1753e-03\n",
      "   8.2948e-02\n",
      "   1.7504e-02\n",
      "   7.8096e-02\n",
      "   4.6241e-02\n",
      "   8.2538e-02\n",
      "   8.7060e-02\n",
      "   6.9650e-02\n",
      "   8.9036e-02\n",
      "   3.0721e-02\n",
      "   7.2551e-02\n",
      "   8.7186e-02\n",
      "   5.0197e-02\n",
      "   8.4905e-02\n",
      "   5.2450e-02\n",
      "   4.7549e-02\n",
      "   7.9205e-02\n",
      "   7.7252e-02\n",
      "   7.1820e-02\n",
      "   8.6449e-02\n",
      "   7.9185e-02\n",
      "   6.9840e-02\n",
      "   7.6249e-02\n",
      "   8.8485e-02\n",
      "   3.8756e-02\n",
      "   8.3310e-02\n",
      "   3.4575e-02\n",
      "   3.0433e-02\n",
      "   6.5101e-02\n",
      "   4.3684e-02\n",
      "   8.3354e-02\n",
      "   3.6149e-02\n",
      "   5.4179e-02\n",
      "   5.3375e-02\n",
      "   4.9701e-02\n",
      "   5.1919e-02\n",
      "   8.4908e-02\n",
      "   3.2598e-02\n",
      "   6.9284e-02\n",
      "   2.8180e-02\n",
      "   9.5547e-03\n",
      "   8.2134e-02\n",
      "   2.8787e-02\n",
      "   6.2698e-02\n",
      "   2.1211e-02\n",
      "   8.5484e-03\n",
      "   3.3819e-02\n",
      "   6.0194e-02\n",
      "   4.3538e-02\n",
      "   8.8299e-02\n",
      "   2.0460e-02\n",
      "   5.7410e-02\n",
      "   7.8840e-02\n",
      "   8.7490e-02\n",
      "   8.4493e-02\n",
      "   3.8941e-02\n",
      "   6.8083e-02\n",
      "   5.1105e-02\n",
      "   7.0345e-02\n",
      "   2.8508e-02\n",
      "   8.8494e-02\n",
      "   6.6482e-02\n",
      "   3.5430e-02\n",
      "   7.4981e-02\n",
      "   5.5643e-02\n",
      "   3.4254e-02\n",
      "   8.6283e-02\n",
      "   7.1012e-02\n",
      "   6.8916e-02\n",
      "   7.4886e-02\n",
      "   6.0793e-02\n",
      "   4.9200e-02\n",
      "   8.9354e-02\n",
      "   1.6117e-02\n",
      "   4.8823e-02\n",
      "   8.2994e-02\n",
      "   1.9488e-02\n",
      "   5.5774e-02\n",
      "   4.6339e-03\n",
      "   5.8915e-02\n",
      "   8.9526e-02\n",
      "   4.6542e-02\n",
      "   2.9611e-02\n",
      "   6.3817e-02\n",
      "   8.3868e-02\n",
      "   4.7458e-02\n",
      "   5.7330e-02\n",
      "   8.8468e-02\n",
      "   5.1689e-02\n",
      "   6.2968e-02\n",
      "   8.8208e-02\n",
      "   8.2462e-02\n",
      "   3.1560e-02\n",
      "   4.6146e-02\n",
      "   8.3468e-02\n",
      "   7.0438e-02\n",
      "   4.3439e-02\n",
      "   8.0642e-02\n",
      "   8.6262e-02\n",
      "   2.2489e-02\n",
      "   7.2623e-02\n",
      "   2.6179e-03\n",
      "   8.8895e-02\n",
      "   3.8957e-02\n",
      "   6.1273e-02\n",
      "   5.0308e-02\n",
      "   7.0510e-02\n",
      "   7.7894e-02\n",
      "   8.9282e-02\n",
      "   5.1660e-02\n",
      "   3.6695e-02\n",
      "   8.5632e-02\n",
      "   7.8199e-02\n",
      "   4.3802e-02\n",
      "   6.1012e-02\n",
      "   8.2716e-02\n",
      "   5.9684e-02\n",
      "   6.6064e-02\n",
      "   5.0405e-02\n",
      "   6.7729e-02\n",
      "   7.7442e-02\n",
      "   4.5776e-02\n",
      "   3.3740e-02\n",
      "   6.9357e-02\n",
      "   6.6180e-02\n",
      "   5.8621e-02\n",
      "   4.4918e-02\n",
      "   7.2610e-02\n",
      "   8.5428e-02\n",
      "   6.6246e-02\n",
      "   8.5323e-03\n",
      "   4.2602e-02\n",
      "   7.0683e-02\n",
      "   7.8880e-02\n",
      "   4.7915e-02\n",
      "   8.2834e-02\n",
      "   6.8901e-02\n",
      "   6.6769e-02\n",
      "   2.3111e-02\n",
      "   8.1501e-02\n",
      "   7.3536e-02\n",
      "   4.8282e-02\n",
      "   6.6912e-02\n",
      "   5.7314e-02\n",
      "   3.9099e-02\n",
      "   8.3176e-02\n",
      "   7.0824e-02\n",
      "   6.7587e-02\n",
      "   6.5577e-02\n",
      "   4.4486e-02\n",
      "   7.9446e-02\n",
      "   8.1126e-02\n",
      "   7.9358e-02\n",
      "   1.8546e-02\n",
      "   2.9128e-02\n",
      "   4.4397e-02\n",
      "   6.6180e-02\n",
      "   1.9413e-02\n",
      "   5.6503e-02\n",
      "   4.6439e-02\n",
      "   8.0815e-02\n",
      "   4.9841e-02\n",
      "   2.8072e-02\n",
      "   8.6714e-02\n",
      "   6.4622e-02\n",
      "   7.0012e-02\n",
      "   7.5172e-02\n",
      "   5.5033e-02\n",
      "   8.5036e-02\n",
      "   5.0804e-02\n",
      "   3.8988e-02\n",
      "   3.7027e-02\n",
      "   1.1837e-02\n",
      "   8.3918e-02\n",
      "   6.4906e-02\n",
      "   6.9084e-02\n",
      "   5.5312e-02\n",
      "   7.2070e-02\n",
      "   4.3974e-02\n",
      "   7.0525e-02\n",
      "   6.2824e-03\n",
      "   6.4520e-02\n",
      "   3.1931e-02\n",
      "   5.0740e-02\n",
      "   3.7315e-02\n",
      "   6.7110e-02\n",
      "   8.3561e-02\n",
      "   5.3557e-02\n",
      "   8.7688e-02\n",
      "   5.2943e-02\n",
      "   8.7741e-02\n",
      "   4.9542e-02\n",
      "   4.2413e-02\n",
      "   7.5414e-02\n",
      "   6.5782e-02\n",
      "   6.5506e-02\n",
      "   7.2423e-02\n",
      "   6.5703e-02\n",
      "   7.1900e-02\n",
      "   5.6057e-02\n",
      "   6.8973e-02\n",
      "   5.2588e-02\n",
      "   8.4094e-02\n",
      "   8.6988e-02\n",
      "   6.4741e-02\n",
      "   4.4219e-02\n",
      "   2.3735e-02\n",
      "   3.8964e-02\n",
      "   3.5695e-02\n",
      "   5.8322e-02\n",
      "   2.2999e-02\n",
      "   7.6594e-02\n",
      "   3.2185e-02\n",
      "   5.7863e-02\n",
      "   6.6341e-02\n",
      "   7.5391e-02\n",
      "   6.7234e-02\n",
      "   6.4252e-02\n",
      "   7.3587e-02\n",
      "   6.1220e-02\n",
      "   8.9476e-02\n",
      "   7.8690e-02\n",
      "   8.9861e-02\n",
      "   8.4900e-02\n",
      "   6.5783e-02\n",
      "   7.2185e-02\n",
      "   7.2268e-02\n",
      "   8.7186e-02\n",
      "   7.9402e-02\n",
      "   7.2048e-02\n",
      "   1.2536e-02\n",
      "   5.9334e-06\n",
      "   1.1812e-23\n",
      "   3.9813e-02\n",
      "   5.4557e-08\n",
      "   4.4617e-12\n",
      "   6.1072e-05\n",
      "   2.9129e-23\n",
      "\n"
     ]
    }
   ],
   "source": [
    "%  Returns the density of the multivariate normal at each data point (row) \n",
    "%  of X\n",
    "p = multivariateGaussian(X, mu, sigma2); size(p), p"
   ]
  },
  {
   "cell_type": "code",
   "execution_count": 53,
   "metadata": {},
   "outputs": [],
   "source": [
    "function visualizeFit(X, mu, sigma2)\n",
    "%VISUALIZEFIT Visualize the dataset and its estimated distribution.\n",
    "%   VISUALIZEFIT(X, p, mu, sigma2) This visualization shows you the \n",
    "%   probability density function of the Gaussian distribution. Each example\n",
    "%   has a location (x1, x2) that depends on its feature values.\n",
    "%\n",
    "\n",
    "[X1,X2] = meshgrid(0:.5:35); \n",
    "Z = multivariateGaussian([X1(:) X2(:)],mu,sigma2);\n",
    "Z = reshape(Z,size(X1));\n",
    "\n",
    "plot(X(:, 1), X(:, 2),'bx');\n",
    "hold on;\n",
    "% Do not plot if there are infinities\n",
    "if (sum(isinf(Z)) == 0)\n",
    "    contour(X1, X2, Z, 10.^(-20:3:0)');\n",
    "end\n",
    "hold off;\n",
    "\n",
    "end"
   ]
  },
  {
   "cell_type": "code",
   "execution_count": 54,
   "metadata": {},
   "outputs": [
    {
     "data": {
      "image/png": "[encoded data removed]",
      "text/plain": [
       "<IPython.core.display.Image object>"
      ]
     },
     "metadata": {},
     "output_type": "display_data"
    }
   ],
   "source": [
    "%  Visualize the fit\n",
    "visualizeFit(X,  mu, sigma2);\n",
    "xlabel('Latency (ms)');\n",
    "ylabel('Throughput (mb/s)');"
   ]
  },
  {
   "cell_type": "code",
   "execution_count": 55,
   "metadata": {},
   "outputs": [],
   "source": [
    "%% ================== Part 3: Find Outliers ===================\n",
    "%  Now you will find a good epsilon threshold using a cross-validation set\n",
    "%  probabilities given the estimated Gaussian distribution"
   ]
  },
  {
   "cell_type": "code",
   "execution_count": 124,
   "metadata": {},
   "outputs": [],
   "source": [
    "function [bestEpsilon bestF1] = selectThreshold(yval, pval)\n",
    "%SELECTTHRESHOLD Find the best threshold (epsilon) to use for selecting\n",
    "%outliers\n",
    "%   [bestEpsilon bestF1] = SELECTTHRESHOLD(yval, pval) finds the best\n",
    "%   threshold to use for selecting outliers based on the results from a\n",
    "%   validation set (pval) and the ground truth (yval).\n",
    "%\n",
    "\n",
    "bestEpsilon = 0;\n",
    "bestF1 = 0;\n",
    "F1 = 0;\n",
    "\n",
    "stepsize = (max(pval) - min(pval)) / 1000;\n",
    "for epsilon = min(pval):stepsize:max(pval)\n",
    "    \n",
    "    % ====================== YOUR CODE HERE ======================\n",
    "    % Instructions: Compute the F1 score of choosing epsilon as the\n",
    "    %               threshold and place the value in F1. The code at the\n",
    "    %               end of the loop will compare the F1 score for this\n",
    "    %               choice of epsilon and set it to be the best epsilon if\n",
    "    %               it is better than the current choice of epsilon.\n",
    "    %               \n",
    "    % Note: You can use predictions = (pval < epsilon) to get a binary vector\n",
    "    %       of 0's and 1's of the outlier predictions\n",
    "\n",
    "%predictions=(pval<epsilon);\n",
    "%tp=sum((predictions==1)&(yval==1));\n",
    "%fp=sum((predictions==1)&(yval==0));\n",
    "%fn=sum((predictions==0)&(yval==1));\n",
    "\n",
    "tp=sum(floor(((pval<epsilon)+yval)/2));\n",
    "fp=sum(ceil(((pval<epsilon)-yval)/2));\n",
    "fn=-sum(floor(((pval<epsilon)-yval)/2));\n",
    "\n",
    "prec=tp/(tp+fp);\n",
    "rec=tp/(tp+fn);\n",
    "F1=2*prec*rec/(prec+rec);\n",
    "\n",
    "    % =============================================================\n",
    "\n",
    "    if F1 > bestF1\n",
    "       bestF1 = F1;\n",
    "       bestEpsilon = epsilon;\n",
    "    end\n",
    "    %fprintf('%f %f %f %f\\n',F1, bestF1, bestEpsilon, epsilon)\n",
    "end\n",
    "\n",
    "end"
   ]
  },
  {
   "cell_type": "code",
   "execution_count": 125,
   "metadata": {
    "scrolled": false
   },
   "outputs": [
    {
     "name": "stdout",
     "output_type": "stream",
     "text": [
      "warning: division by zero\n",
      "warning: called from\n",
      "    selectThreshold at line 35 column 5\n"
     ]
    }
   ],
   "source": [
    "pval = multivariateGaussian(Xval, mu, sigma2);\n",
    "[epsilon F1] = selectThreshold(yval, pval);\n"
   ]
  },
  {
   "cell_type": "code",
   "execution_count": 126,
   "metadata": {
    "scrolled": true
   },
   "outputs": [
    {
     "name": "stdout",
     "output_type": "stream",
     "text": [
      "Best epsilon found using cross-validation: 8.990853e-05\n",
      "Best F1 on Cross Validation Set:  0.875000\n",
      "   (you should see a value epsilon of about 8.99e-05)\n",
      "   (you should see a Best F1 value of  0.875000)\n",
      "\n"
     ]
    }
   ],
   "source": [
    "fprintf('Best epsilon found using cross-validation: %e\\n', epsilon);\n",
    "fprintf('Best F1 on Cross Validation Set:  %f\\n', F1);\n",
    "fprintf('   (you should see a value epsilon of about 8.99e-05)\\n');\n",
    "fprintf('   (you should see a Best F1 value of  0.875000)\\n\\n');"
   ]
  },
  {
   "cell_type": "code",
   "execution_count": 60,
   "metadata": {},
   "outputs": [
    {
     "data": {
      "image/png": "[encoded data removed]",
      "text/plain": [
       "<IPython.core.display.Image object>"
      ]
     },
     "metadata": {},
     "output_type": "display_data"
    }
   ],
   "source": [
    "%  Find the outliers in the training set and plot the\n",
    "outliers = find(p < epsilon);\n",
    "\n",
    "%  Visualize the fit\n",
    "visualizeFit(X,  mu, sigma2);\n",
    "xlabel('Latency (ms)');\n",
    "ylabel('Throughput (mb/s)');\n",
    "\n",
    "%  Draw a red circle around those outliers\n",
    "hold on\n",
    "plot(X(outliers, 1), X(outliers, 2), 'ro', 'LineWidth', 2, 'MarkerSize', 10);\n",
    "hold off"
   ]
  },
  {
   "cell_type": "code",
   "execution_count": 61,
   "metadata": {},
   "outputs": [],
   "source": [
    "%% ================== Part 4: Multidimensional Outliers ===================\n",
    "%  We will now use the code from the previous part and apply it to a \n",
    "%  harder problem in which more features describe each datapoint and only \n",
    "%  some features indicate whether a point is an outlier."
   ]
  },
  {
   "cell_type": "code",
   "execution_count": 62,
   "metadata": {},
   "outputs": [],
   "source": [
    "%  Loads the second dataset. You should now have the\n",
    "%  variables X, Xval, yval in your environment\n",
    "load('ex8data2.mat');"
   ]
  },
  {
   "cell_type": "code",
   "execution_count": 63,
   "metadata": {},
   "outputs": [],
   "source": [
    "%  Apply the same steps to the larger dataset\n",
    "[mu sigma2] = estimateGaussian(X);"
   ]
  },
  {
   "cell_type": "code",
   "execution_count": 64,
   "metadata": {},
   "outputs": [],
   "source": [
    "%  Training set \n",
    "p = multivariateGaussian(X, mu, sigma2);"
   ]
  },
  {
   "cell_type": "code",
   "execution_count": 65,
   "metadata": {},
   "outputs": [],
   "source": [
    "%  Cross-validation set\n",
    "pval = multivariateGaussian(Xval, mu, sigma2);"
   ]
  },
  {
   "cell_type": "code",
   "execution_count": 66,
   "metadata": {},
   "outputs": [
    {
     "name": "stdout",
     "output_type": "stream",
     "text": [
      "warning: division by zero\n",
      "warning: called from\n",
      "    selectThreshold at line 35 column 5\n"
     ]
    }
   ],
   "source": [
    "%  Find the best threshold\n",
    "[epsilon F1] = selectThreshold(yval, pval);"
   ]
  },
  {
   "cell_type": "code",
   "execution_count": 67,
   "metadata": {},
   "outputs": [
    {
     "name": "stdout",
     "output_type": "stream",
     "text": [
      "Best epsilon found using cross-validation: 1.377229e-18\n",
      "Best F1 on Cross Validation Set:  0.615385\n",
      "   (you should see a value epsilon of about 1.38e-18)\n",
      "   (you should see a Best F1 value of 0.615385)\n",
      "# Outliers found: 117\n",
      "\n"
     ]
    }
   ],
   "source": [
    "fprintf('Best epsilon found using cross-validation: %e\\n', epsilon);\n",
    "fprintf('Best F1 on Cross Validation Set:  %f\\n', F1);\n",
    "fprintf('   (you should see a value epsilon of about 1.38e-18)\\n');\n",
    "fprintf('   (you should see a Best F1 value of 0.615385)\\n');\n",
    "fprintf('# Outliers found: %d\\n\\n', sum(p < epsilon));"
   ]
  },
  {
   "cell_type": "code",
   "execution_count": null,
   "metadata": {},
   "outputs": [],
   "source": []
  }
 ],
 "metadata": {
  "kernelspec": {
   "display_name": "Octave",
   "language": "octave",
   "name": "octave"
  },
  "language_info": {
   "file_extension": ".m",
   "help_links": [
    {
     "text": "GNU Octave",
     "url": "https://www.gnu.org/software/octave/support.html"
    },
    {
     "text": "Octave Kernel",
     "url": "https://github.com/Calysto/octave_kernel"
    },
    {
     "text": "MetaKernel Magics",
     "url": "https://github.com/calysto/metakernel/blob/master/metakernel/magics/README.md"
    }
   ],
   "mimetype": "text/x-octave",
   "name": "octave",
   "version": "4.4.1"
  }
 },
 "nbformat": 4,
 "nbformat_minor": 2
}
