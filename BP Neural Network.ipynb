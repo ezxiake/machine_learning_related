{
 "cells": [
  {
   "cell_type": "markdown",
   "metadata": {},
   "source": [
    "# Exercise 4 Neural Network Learning\n",
    "---"
   ]
  },
  {
   "cell_type": "code",
   "execution_count": 9,
   "metadata": {
    "slideshow": {
     "slide_type": "-"
    }
   },
   "outputs": [],
   "source": [
    "function W = randInitializeWeights(L_in, L_out)\n",
    "% Randomly initialize the weights of a layer with L_in incoming connections and L_out outgoing connections\n",
    "% Initialize W randomly so that we break the symmetry while training the neural network.\n",
    "% Note: The first column of W corresponds to the parameters for the bias unit\n",
    "W = zeros(L_out, 1 + L_in);\n",
    "epsilon_init = 0.12; \n",
    "W = rand(L_out, 1 + L_in) * 2 * epsilon_init - epsilon_init;\n",
    "end"
   ]
  },
  {
   "cell_type": "code",
   "execution_count": 10,
   "metadata": {},
   "outputs": [],
   "source": [
    "function p = predict(Theta1, Theta2, X)\n",
    "% Outputs the predicted label of X given the trained weights (Theta1, Theta2)\n",
    "m = size(X, 1);\n",
    "num_labels = size(Theta2, 1);\n",
    "p = zeros(size(X, 1), 1);\n",
    "h1 = sigmoid([ones(m, 1) X] * Theta1');\n",
    "h2 = sigmoid([ones(m, 1) h1] * Theta2');\n",
    "[dummy, p] = max(h2, [], 2);\n",
    "% [~, p] = max(h2, [], 2);\n",
    "end"
   ]
  },
  {
   "cell_type": "code",
   "execution_count": 11,
   "metadata": {},
   "outputs": [],
   "source": [
    "function [J grad] = nnCostFunction(nn_params, ...\n",
    "                                   input_layer_size, ...\n",
    "                                   hidden_layer_size, ...\n",
    "                                   num_labels, ...\n",
    "                                   X, y, lambda)\n",
    "\n",
    "% Init\n",
    "Theta1 = reshape(nn_params(1:hidden_layer_size * (input_layer_size + 1)), ...\n",
    "                 hidden_layer_size, (input_layer_size + 1));\n",
    "Theta2 = reshape(nn_params((1 + (hidden_layer_size * (input_layer_size + 1))):end), ...\n",
    "                 num_labels, (hidden_layer_size + 1));         \n",
    "m = size(X, 1);\n",
    "\n",
    "% Transfer y\n",
    "TmpY = [zeros(m, num_labels)]; \n",
    "for j = 1:m, TmpY(j,y(j)) = 1; end;\n",
    "\n",
    "% Feedforward and compute J.\n",
    "A1 = [ones(m, 1) X]; \n",
    "A2 = [ones(m, 1) sigmoid(A1 * Theta1')];\n",
    "A3 = sigmoid(A2 * Theta2');\n",
    "cost = - (1 / m) * sum(sum( TmpY .* log(A3) + (1 - TmpY) .* log(1 - A3) ));\n",
    "cost_regularization = [lambda / (2 * m)] * [sum(sum((Theta1(:,2:end)).^2)) + sum(sum((Theta2(:,2:end)).^2))];\n",
    "\n",
    "% Backpropagation algorithm to compute grad.\n",
    "D3 = A3 - TmpY; \n",
    "D2 = (D3 * Theta2(:, 2:end)) .* ( sigmoid(A1 * Theta1') .* (1 - sigmoid(A1 * Theta1')) );\n",
    "Theta1_grad = (1/m) .* ((D2)' * A1);\n",
    "Theta2_grad = (1/m) .* ((D3)' * A2);\n",
    "Theta1_grad(:, 2:end) = Theta1_grad(:,2:end) + (lambda / m) .* Theta1(:, 2:end); % regularization\n",
    "Theta2_grad(:, 2:end) = Theta2_grad(:,2:end) + (lambda / m) .* Theta2(:, 2:end);\n",
    "\n",
    "% Return J and Grad\n",
    "J = cost + cost_regularization;\n",
    "grad = [Theta1_grad(:) ; Theta2_grad(:)]; % gradients\n",
    "\n",
    "% Debugging\n",
    "%disp(sprintf(['y (%0.0f x %0.0f) --> TmpY (%0.0f x %0.0f)'], size(y), size(TmpY)));\n",
    "%disp(sprintf([\"A2 = A1 * Theta1' --> (%0.0f x %0.0f) = (%0.0f x %0.0f) x (%0.0f x %0.0f), A2 need + bias\"], size(A2), size(A1), size(Theta1')));\n",
    "%disp(sprintf([\"A3 = sigmoid(A2 * Theta2') --> (%0.0f x %0.0f) = (%0.0f x %0.0f) x (%0.0f x %0.0f)\"], size(A3), size(A2), size(Theta2')));\n",
    "%disp(sprintf(['J size: %0.0f x %0.0f'], size(J)));\n",
    "%disp(sprintf(['D3 size: %0.0f x %0.0f'], size(D3)));\n",
    "%disp(sprintf(['D2 size: %0.0f x %0.0f'], size(D2)));\n",
    "%disp(sprintf(['Theta1_grad size: %0.0f x %0.0f'], size(Theta1_grad)));\n",
    "%disp(sprintf(['Theta2_grad size: %0.0f x %0.0f'], size(Theta2_grad)));\n",
    "%disp(sprintf(['grad size: %0.0f x %0.0f'], size(grad)));\n",
    "\n",
    "end"
   ]
  },
  {
   "cell_type": "code",
   "execution_count": 12,
   "metadata": {},
   "outputs": [],
   "source": [
    "function numgrad = computeNumericalGradient(J, theta)\n",
    "numgrad = zeros(size(theta));\n",
    "perturb = zeros(size(theta));\n",
    "e = 1e-4;\n",
    "for p = 1:numel(theta)\n",
    "    % Set perturbation vector\n",
    "    perturb(p) = e;\n",
    "    loss1 = J(theta - perturb);\n",
    "    loss2 = J(theta + perturb);\n",
    "    % Compute Numerical Gradient\n",
    "    numgrad(p) = (loss2 - loss1) / (2*e);\n",
    "    perturb(p) = 0;\n",
    "end;\n",
    "end"
   ]
  },
  {
   "cell_type": "code",
   "execution_count": 1,
   "metadata": {},
   "outputs": [],
   "source": [
    "function W = debugInitializeWeights(fan_in, fan_out)\n",
    "% Set W to zeros\n",
    "W = zeros(fan_out, 1 + fan_in);\n",
    "% Initialize W using \"sin\", this ensures that W is always of the same values and will be useful for debugging\n",
    "W = reshape(sin(1:numel(W)), size(W)) / 10;\n",
    "end"
   ]
  },
  {
   "cell_type": "code",
   "execution_count": 14,
   "metadata": {},
   "outputs": [],
   "source": [
    "function checkNNGradients(lambda)\n",
    "% Creates a small neural network to check the backpropagation gradients\n",
    "% It will output the analytical gradients produced by your backprop code \n",
    "% and the numerical gradients (computed using computeNumericalGradient). \n",
    "% These two gradient computations should result in very similar values.\n",
    "\n",
    "if ~exist('lambda', 'var') || isempty(lambda)\n",
    "    lambda = 0;\n",
    "end\n",
    "\n",
    "input_layer_size = 3;\n",
    "hidden_layer_size = 5;\n",
    "num_labels = 3;\n",
    "m = 5;\n",
    "\n",
    "% We generate some 'random' test data\n",
    "Theta1 = debugInitializeWeights(input_layer_size, hidden_layer_size);\n",
    "Theta2 = debugInitializeWeights(hidden_layer_size, num_labels);\n",
    "% Reusing debugInitializeWeights to generate X\n",
    "X  = debugInitializeWeights(input_layer_size - 1, m);\n",
    "y  = 1 + mod(1:m, num_labels)';\n",
    "\n",
    "% Unroll parameters\n",
    "nn_params = [Theta1(:) ; Theta2(:)];\n",
    "\n",
    "% Short hand for cost function\n",
    "costFunc = @(p) nnCostFunction(p, input_layer_size, hidden_layer_size, ...\n",
    "                               num_labels, X, y, lambda);\n",
    "\n",
    "[cost, grad] = costFunc(nn_params);\n",
    "numgrad = computeNumericalGradient(costFunc, nn_params);\n",
    "\n",
    "% Visually examine the two gradient computations.  The two columns\n",
    "% you get should be very similar. \n",
    "disp([numgrad grad]);\n",
    "fprintf(['The above two columns you get should be very similar.\\n' ...\n",
    "         '(Left-Your Numerical Gradient, Right-Analytical Gradient)\\n\\n']);\n",
    "\n",
    "% Evaluate the norm of the difference between two solutions.  \n",
    "% If you have a correct implementation, and assuming you used EPSILON = 0.0001 \n",
    "% in computeNumericalGradient.m, then diff below should be less than 1e-9\n",
    "diff = norm(numgrad-grad)/norm(numgrad+grad);\n",
    "\n",
    "fprintf(['If your backpropagation implementation is correct, then \\n' ...\n",
    "         'the relative difference will be small (less than 1e-9). \\n' ...\n",
    "         '\\nRelative Difference: %g\\n'], diff);\n",
    "\n",
    "end"
   ]
  },
  {
   "cell_type": "code",
   "execution_count": 15,
   "metadata": {},
   "outputs": [],
   "source": [
    "clear ; close all; clc % Initialization"
   ]
  },
  {
   "cell_type": "code",
   "execution_count": 16,
   "metadata": {},
   "outputs": [],
   "source": [
    "%% Setup the parameters you will use for this exercise\n",
    "input_layer_size  = 400;  % 20x20 Input Images of Digits\n",
    "hidden_layer_size = 25;   % 25 hidden units\n",
    "num_labels = 10;          % 10 labels, from 1 to 10   \n",
    "                          % (note that we have mapped \"0\" to label 10)"
   ]
  },
  {
   "cell_type": "markdown",
   "metadata": {},
   "source": [
    "**=========== Part 1: Loading and Visualizing Data =============**  \n",
    "\n",
    "We start the exercise by first loading and visualizing the dataset.  \n",
    "You will be working with a dataset that contains handwritten digits.  "
   ]
  },
  {
   "cell_type": "code",
   "execution_count": 17,
   "metadata": {},
   "outputs": [],
   "source": [
    "% Loading and Visualizing Data ...\n",
    "load('ex3-4data.mat');\n",
    "m = size(X, 1);"
   ]
  },
  {
   "cell_type": "code",
   "execution_count": 18,
   "metadata": {
    "scrolled": true
   },
   "outputs": [
    {
     "data": {
      "image/png": "[encoded data removed]",
      "text/plain": [
       "<IPython.core.display.Image object>"
      ]
     },
     "metadata": {},
     "output_type": "display_data"
    }
   ],
   "source": [
    "% Randomly select 100 data points to display\n",
    "sel = randperm(size(X, 1));\n",
    "sel = sel(1:100);\n",
    "visualizationHandwrittenDigits(X(sel, :));"
   ]
  },
  {
   "cell_type": "markdown",
   "metadata": {},
   "source": [
    "**================ Part 2: Loading Parameters ================**  \n",
    "\n",
    "In this part of the exercise, we load some pre-initialized neural network parameters.  "
   ]
  },
  {
   "cell_type": "code",
   "execution_count": 19,
   "metadata": {},
   "outputs": [],
   "source": [
    "% Loading Saved Neural Network Parameters ...\n",
    "% Load the weights into variables Theta1 and Theta2\n",
    "load('ex4weights.mat');"
   ]
  },
  {
   "cell_type": "code",
   "execution_count": 20,
   "metadata": {},
   "outputs": [],
   "source": [
    "% Unroll parameters \n",
    "nn_params = [Theta1(:) ; Theta2(:)];"
   ]
  },
  {
   "cell_type": "code",
   "execution_count": 21,
   "metadata": {},
   "outputs": [
    {
     "name": "stdout",
     "output_type": "stream",
     "text": [
      "\n",
      "Training Set Accuracy: 97.520000\n"
     ]
    }
   ],
   "source": [
    "pred = predict(Theta1, Theta2, X);\n",
    "fprintf('\\nTraining Set Accuracy: %f\\n', mean(double(pred == y)) * 100);"
   ]
  },
  {
   "cell_type": "markdown",
   "metadata": {},
   "source": [
    "**================ Part 3: Compute Cost (Feedforward) ================**     \n",
    "\n",
    "To the neural network, you should first start by implementing the feedforward part of the neural network that returns the cost only. You should complete the code in nnCostFunction.m to return cost. After implementing the feedforward to compute the cost, you can verify that your implementation is correct by verifying that you get the same cost as us for the fixed debugging parameters.  \n",
    "\n",
    "We suggest implementing the feedforward cost *without* regularization first so that it will be easier for you to debug. Later, in part 4, you will get to implement the regularized cost.  "
   ]
  },
  {
   "cell_type": "code",
   "execution_count": 22,
   "metadata": {
    "scrolled": true
   },
   "outputs": [
    {
     "name": "stdout",
     "output_type": "stream",
     "text": [
      "J =  0.28763\n"
     ]
    }
   ],
   "source": [
    "% Weight regularization parameter (we set this to 0 here).\n",
    "% J should be about 0.287629\n",
    "lambda = 0;\n",
    "J = nnCostFunction(nn_params, input_layer_size, hidden_layer_size, ...\n",
    "                   num_labels, X, y, lambda)"
   ]
  },
  {
   "cell_type": "markdown",
   "metadata": {},
   "source": [
    "**=============== Part 4: Implement Regularization ===============**  \n",
    "Once your cost function implementation is correct, you should now continue to implement the regularization with the cost.  "
   ]
  },
  {
   "cell_type": "code",
   "execution_count": 23,
   "metadata": {
    "scrolled": true
   },
   "outputs": [
    {
     "name": "stdout",
     "output_type": "stream",
     "text": [
      "J =  0.38377\n"
     ]
    }
   ],
   "source": [
    "% Checking Cost Function with Regularization\n",
    "% Weight regularization parameter (we set this to 1 here).\n",
    "% J should be about 0.383770\n",
    "lambda = 1;\n",
    "J = nnCostFunction(nn_params, input_layer_size, hidden_layer_size, ...\n",
    "                   num_labels, X, y, lambda)"
   ]
  },
  {
   "cell_type": "markdown",
   "metadata": {},
   "source": [
    "**================ Part 5: Sigmoid Gradient  ================**  \n",
    "Before you start implementing the neural network, you will first implement the gradient for the sigmoid function. You should complete the code in the sigmoidGradient.m file.  "
   ]
  },
  {
   "cell_type": "code",
   "execution_count": 25,
   "metadata": {},
   "outputs": [
    {
     "name": "stdout",
     "output_type": "stream",
     "text": [
      "ans = 0\n",
      "ans =  0.19661\n",
      "ans =  0.23500\n",
      "ans =  0.25000\n",
      "ans =  0.23500\n",
      "ans =  0.19661\n",
      "ans = 0\n"
     ]
    }
   ],
   "source": [
    "% Evaluating sigmoid gradient...\n",
    "% For large values (both positive and negative) of z, the gradient should be close to 0. \n",
    "% When z = 0, the gradient should be exactly 0.25.\n",
    "sigmoid(-999) .* (1-sigmoid(-999))\n",
    "sigmoid(-1  ) .* (1-sigmoid(-1  ))\n",
    "sigmoid(-0.5) .* (1-sigmoid(-0.5))\n",
    "sigmoid( 0  ) .* (1-sigmoid( 0  ))\n",
    "sigmoid( 0.5) .* (1-sigmoid( 0.5))\n",
    "sigmoid( 1  ) .* (1-sigmoid( 1  ))\n",
    "sigmoid( 999) .* (1-sigmoid( 999))"
   ]
  },
  {
   "cell_type": "markdown",
   "metadata": {},
   "source": [
    "**================ Part 6: Initializing Pameters ================**  \n",
    "In this part of the exercise, you will be starting to implment a two layer neural network that classifies digits. You will start by implementing a function to initialize the weights of the neural network (randInitializeWeights.m)  "
   ]
  },
  {
   "cell_type": "code",
   "execution_count": 26,
   "metadata": {},
   "outputs": [],
   "source": [
    "% Initializing Neural Network Parameters ...\n",
    "initial_Theta1 = randInitializeWeights(input_layer_size, hidden_layer_size);\n",
    "initial_Theta2 = randInitializeWeights(hidden_layer_size, num_labels);\n",
    "\n",
    "% Unroll parameters\n",
    "initial_nn_params = [initial_Theta1(:) ; initial_Theta2(:)];"
   ]
  },
  {
   "cell_type": "markdown",
   "metadata": {},
   "source": [
    "**=============== Part 7: Implement Backpropagation ===============**  \n",
    "Once your cost matches up with ours, you should proceed to implement the backpropagation algorithm for the neural network. You should add to the code you've written in nnCostFunction.m to return the partial derivatives of the parameters.  "
   ]
  },
  {
   "cell_type": "code",
   "execution_count": 27,
   "metadata": {
    "scrolled": false
   },
   "outputs": [
    {
     "name": "stdout",
     "output_type": "stream",
     "text": [
      "  -0.0092782523  -0.0092782524\n",
      "   0.0088991196   0.0088991196\n",
      "  -0.0083601076  -0.0083601076\n",
      "   0.0076281355   0.0076281355\n",
      "  -0.0067479837  -0.0067479837\n",
      "  -0.0000030498  -0.0000030498\n",
      "   0.0000142869   0.0000142869\n",
      "  -0.0000259383  -0.0000259383\n",
      "   0.0000369883   0.0000369883\n",
      "  -0.0000468760  -0.0000468760\n",
      "  -0.0001750601  -0.0001750601\n",
      "   0.0002331464   0.0002331464\n",
      "  -0.0002874687  -0.0002874687\n",
      "   0.0003353203   0.0003353203\n",
      "  -0.0003762156  -0.0003762156\n",
      "  -0.0000962661  -0.0000962661\n",
      "   0.0001179827   0.0001179827\n",
      "  -0.0001371497  -0.0001371497\n",
      "   0.0001532471   0.0001532471\n",
      "  -0.0001665603  -0.0001665603\n",
      "   0.3145449700   0.3145449701\n",
      "   0.1110565882   0.1110565882\n",
      "   0.0974006970   0.0974006970\n",
      "   0.1640908188   0.1640908188\n",
      "   0.0575736493   0.0575736493\n",
      "   0.0504575855   0.0504575855\n",
      "   0.1645679323   0.1645679323\n",
      "   0.0577867378   0.0577867378\n",
      "   0.0507530173   0.0507530173\n",
      "   0.1583393339   0.1583393339\n",
      "   0.0559235296   0.0559235296\n",
      "   0.0491620841   0.0491620841\n",
      "   0.1511275275   0.1511275275\n",
      "   0.0536967009   0.0536967009\n",
      "   0.0471456249   0.0471456249\n",
      "   0.1495683347   0.1495683347\n",
      "   0.0531542052   0.0531542052\n",
      "   0.0465597186   0.0465597186\n",
      "The above two columns you get should be very similar.\n",
      "(Left-Your Numerical Gradient, Right-Analytical Gradient)\n",
      "\n",
      "If your backpropagation implementation is correct, then \n",
      "the relative difference will be small (less than 1e-9). \n",
      "\n",
      "Relative Difference: 2.33553e-11\n"
     ]
    }
   ],
   "source": [
    "% Check gradients by running checkNNGradients.\n",
    "% In fact, the gradient is detected by the cost function.\n",
    "% So, first, you must make sure your Cost Function is correct.\n",
    "checkNNGradients;"
   ]
  },
  {
   "cell_type": "markdown",
   "metadata": {},
   "source": [
    "**=============== Part 8: Implement Regularization ===============** \n",
    "\n",
    "Once your backpropagation implementation is correct, you should now continue to implement the regularization with the cost and gradient."
   ]
  },
  {
   "cell_type": "code",
   "execution_count": 20,
   "metadata": {},
   "outputs": [
    {
     "name": "stdout",
     "output_type": "stream",
     "text": [
      "  -0.009278252  -0.009278252\n",
      "   0.008899120   0.008899120\n",
      "  -0.008360108  -0.008360108\n",
      "   0.007628136   0.007628136\n",
      "  -0.006747984  -0.006747984\n",
      "  -0.016767980  -0.016767980\n",
      "   0.039433483   0.039433483\n",
      "   0.059335556   0.059335556\n",
      "   0.024764097   0.024764097\n",
      "  -0.032688143  -0.032688143\n",
      "  -0.060174472  -0.060174472\n",
      "  -0.031961229  -0.031961229\n",
      "   0.024922553   0.024922553\n",
      "   0.059771762   0.059771762\n",
      "   0.038641055   0.038641055\n",
      "  -0.017370465  -0.017370465\n",
      "  -0.057565867  -0.057565867\n",
      "  -0.045196385  -0.045196385\n",
      "   0.009145880   0.009145880\n",
      "   0.054610155   0.054610155\n",
      "   0.314544970   0.314544970\n",
      "   0.111056588   0.111056588\n",
      "   0.097400697   0.097400697\n",
      "   0.118682669   0.118682669\n",
      "   0.000038193   0.000038193\n",
      "   0.033692656   0.033692656\n",
      "   0.203987128   0.203987128\n",
      "   0.117148233   0.117148233\n",
      "   0.075480126   0.075480126\n",
      "   0.125698067   0.125698067\n",
      "  -0.004075883  -0.004075883\n",
      "   0.016967709   0.016967709\n",
      "   0.176337550   0.176337550\n",
      "   0.113133142   0.113133142\n",
      "   0.086162895   0.086162895\n",
      "   0.132294136   0.132294136\n",
      "  -0.004529644  -0.004529644\n",
      "   0.001500484   0.001500484\n",
      "The above two columns you get should be very similar.\n",
      "(Left-Your Numerical Gradient, Right-Analytical Gradient)\n",
      "\n",
      "If your backpropagation implementation is correct, then \n",
      "the relative difference will be small (less than 1e-9). \n",
      "\n",
      "Relative Difference: 2.25401e-11\n"
     ]
    }
   ],
   "source": [
    "% Checking Backpropagation with Regularization ...\n",
    "% Check gradients by running checkNNGradients\n",
    "lambda = 3;\n",
    "checkNNGradients(lambda);"
   ]
  },
  {
   "cell_type": "code",
   "execution_count": 28,
   "metadata": {
    "scrolled": true
   },
   "outputs": [
    {
     "name": "stdout",
     "output_type": "stream",
     "text": [
      "debug_J =  0.57605\n"
     ]
    }
   ],
   "source": [
    "% Also output the costFunction debugging values\n",
    "% w/ lambda = 3, this value should be about 0.576051\n",
    "lambda = 3;\n",
    "debug_J  = nnCostFunction(nn_params, input_layer_size, ...\n",
    "                          hidden_layer_size, num_labels, X, y, lambda)"
   ]
  },
  {
   "cell_type": "markdown",
   "metadata": {},
   "source": [
    "**=================== Part 8: Training NN ===================**  \n",
    "\n",
    "You have now implemented all the code necessary to train a neural network. To train your neural network, we will now use \"fmincg\", which is a function which works similarly to \"fminunc\". Recall that these advanced optimizers are able to train our cost functions efficiently as long as we provide them with the gradient computations."
   ]
  },
  {
   "cell_type": "code",
   "execution_count": 22,
   "metadata": {},
   "outputs": [],
   "source": [
    "% Training Neural Network...\n",
    "%  After you have completed the assignment, change the MaxIter to a larger\n",
    "%  value to see how more training helps.\n",
    "options = optimset('MaxIter', 50);\n",
    "\n",
    "%  You should also try different values of lambda\n",
    "lambda = 1;\n",
    "\n",
    "% Create \"short hand\" for the cost function to be minimized\n",
    "costFunction = @(p) nnCostFunction(p, ...\n",
    "                                   input_layer_size, ...\n",
    "                                   hidden_layer_size, ...\n",
    "                                   num_labels, X, y, lambda);"
   ]
  },
  {
   "cell_type": "code",
   "execution_count": 23,
   "metadata": {
    "scrolled": true
   },
   "outputs": [
    {
     "name": "stdout",
     "output_type": "stream",
     "text": [
      "Iteration     1 | Cost: 3.315416e+00\r",
      "Iteration     2 | Cost: 3.247841e+00\r",
      "Iteration     3 | Cost: 3.218680e+00\r",
      "Iteration     4 | Cost: 2.660884e+00\r",
      "Iteration     5 | Cost: 2.294432e+00\r",
      "Iteration     6 | Cost: 2.119754e+00\r",
      "Iteration     7 | Cost: 1.893724e+00\r",
      "Iteration     8 | Cost: 1.705684e+00\r",
      "Iteration     9 | Cost: 1.545147e+00\r",
      "Iteration    10 | Cost: 1.376925e+00\r",
      "Iteration    11 | Cost: 1.290200e+00\r",
      "Iteration    12 | Cost: 1.223222e+00\r",
      "Iteration    13 | Cost: 1.116669e+00\r",
      "Iteration    14 | Cost: 1.061998e+00\r",
      "Iteration    15 | Cost: 1.019250e+00\r",
      "Iteration    16 | Cost: 9.595670e-01\r",
      "Iteration    17 | Cost: 9.422028e-01\r",
      "Iteration    18 | Cost: 9.050454e-01\r",
      "Iteration    19 | Cost: 8.591358e-01\r",
      "Iteration    20 | Cost: 8.091782e-01\r",
      "Iteration    21 | Cost: 7.979849e-01\r",
      "Iteration    22 | Cost: 7.644809e-01\r",
      "Iteration    23 | Cost: 7.381320e-01\r",
      "Iteration    24 | Cost: 7.184111e-01\r",
      "Iteration    25 | Cost: 6.912136e-01\r",
      "Iteration    26 | Cost: 6.749002e-01\r",
      "Iteration    27 | Cost: 6.657000e-01\r",
      "Iteration    28 | Cost: 6.542125e-01\r",
      "Iteration    29 | Cost: 6.499160e-01\r",
      "Iteration    30 | Cost: 6.439699e-01\r",
      "Iteration    31 | Cost: 6.348624e-01\r",
      "Iteration    32 | Cost: 6.222913e-01\r",
      "Iteration    33 | Cost: 6.128632e-01\r",
      "Iteration    34 | Cost: 6.071312e-01\r",
      "Iteration    35 | Cost: 6.039413e-01\r",
      "Iteration    36 | Cost: 5.923337e-01\r",
      "Iteration    37 | Cost: 5.866527e-01\r",
      "Iteration    38 | Cost: 5.830824e-01\r",
      "Iteration    39 | Cost: 5.607972e-01\r",
      "Iteration    40 | Cost: 5.326134e-01\r",
      "Iteration    41 | Cost: 5.180360e-01\r",
      "Iteration    42 | Cost: 5.088655e-01\r",
      "Iteration    43 | Cost: 5.003913e-01\r",
      "Iteration    44 | Cost: 4.898447e-01\r",
      "Iteration    45 | Cost: 4.865459e-01\r",
      "Iteration    46 | Cost: 4.843419e-01\r",
      "Iteration    47 | Cost: 4.820068e-01\r",
      "Iteration    48 | Cost: 4.802063e-01\r",
      "Iteration    49 | Cost: 4.751523e-01\r",
      "Iteration    50 | Cost: 4.633861e-01\r\n"
     ]
    }
   ],
   "source": [
    "% Now, costFunction is a function that takes in only one argument \n",
    "% (the neural network parameters)\n",
    "[nn_params, cost] = fmincg(costFunction, initial_nn_params, options);"
   ]
  },
  {
   "cell_type": "code",
   "execution_count": 24,
   "metadata": {},
   "outputs": [],
   "source": [
    "% Obtain Theta1 and Theta2 back from nn_params\n",
    "Theta1 = reshape(nn_params(1:hidden_layer_size * (input_layer_size + 1)), ...\n",
    "                 hidden_layer_size, (input_layer_size + 1));\n",
    "\n",
    "Theta2 = reshape(nn_params((1 + (hidden_layer_size * (input_layer_size + 1))):end), ...\n",
    "                 num_labels, (hidden_layer_size + 1));"
   ]
  },
  {
   "cell_type": "code",
   "execution_count": 25,
   "metadata": {
    "scrolled": false
   },
   "outputs": [
    {
     "name": "stdout",
     "output_type": "stream",
     "text": [
      "Variables in the current scope:\n",
      "\n",
      "   Attr Name                   Size                     Bytes  Class\n",
      "   ==== ====                   ====                     =====  ===== \n",
      "        J                      1x1                          8  double\n",
      "        Theta1                25x401                    80200  double\n",
      "        Theta2                10x26                      2080  double\n",
      "        X                   5000x400                 16000000  double\n",
      "        ans                    1x1                          8  double\n",
      "        cost                  50x1                        400  double\n",
      "        costFunction           1x1                          0  function_handle\n",
      "        debug_J                1x1                          8  double\n",
      "        hidden_layer_size      1x1                          8  double\n",
      "        initial_Theta1        25x401                    80200  double\n",
      "        initial_Theta2        10x26                      2080  double\n",
      "        initial_nn_params  10285x1                      82280  double\n",
      "        input_layer_size       1x1                          8  double\n",
      "        lambda                 1x1                          8  double\n",
      "        m                      1x1                          8  double\n",
      "        nn_params          10285x1                      82280  double\n",
      "        num_labels             1x1                          8  double\n",
      "        options                1x1                          8  struct\n",
      "        sel                    1x100                      800  double\n",
      "        y                   5000x1                      40000  double\n",
      "\n",
      "Total is 2046300 elements using 16370392 bytes\n",
      "\n"
     ]
    }
   ],
   "source": [
    "whos"
   ]
  },
  {
   "cell_type": "markdown",
   "metadata": {},
   "source": [
    "**================= Part 9: Visualize Weights =================**  \n",
    "\n",
    "You can now \"visualize\" what the neural network is learning by displaying the hidden units to see what features they are capturing in the data."
   ]
  },
  {
   "cell_type": "code",
   "execution_count": 27,
   "metadata": {},
   "outputs": [
    {
     "data": {
      "image/png": "[encoded data removed]",
      "text/plain": [
       "<IPython.core.display.Image object>"
      ]
     },
     "metadata": {},
     "output_type": "display_data"
    }
   ],
   "source": [
    "% Visualizing Neural Network... \n",
    "visualizationHandwrittenDigits(Theta1(:, 2:end));"
   ]
  },
  {
   "cell_type": "markdown",
   "metadata": {},
   "source": [
    "**================= Part 10: Implement Predict =================**  \n",
    "\n",
    "After training the neural network, we would like to use it to predict the labels. You will now implement the \"predict\" function to use the neural network to predict the labels of the training set. This lets you compute the training set accuracy."
   ]
  },
  {
   "cell_type": "code",
   "execution_count": 28,
   "metadata": {},
   "outputs": [
    {
     "name": "stdout",
     "output_type": "stream",
     "text": [
      "\n",
      "Training Set Accuracy: 95.600000\n"
     ]
    }
   ],
   "source": [
    "pred = predict(Theta1, Theta2, X);\n",
    "fprintf('\\nTraining Set Accuracy: %f\\n', mean(double(pred == y)) * 100);"
   ]
  },
  {
   "cell_type": "code",
   "execution_count": 31,
   "metadata": {
    "scrolled": false
   },
   "outputs": [
    {
     "name": "stdout",
     "output_type": "stream",
     "text": [
      "\n",
      "Displaying Example Image\n",
      "\n",
      "Neural Network Prediction: 6 (digit 6)\n"
     ]
    },
    {
     "data": {
      "image/png": "[encoded data removed]",
      "text/plain": [
       "<IPython.core.display.Image object>"
      ]
     },
     "metadata": {},
     "output_type": "display_data"
    }
   ],
   "source": [
    "%  To give you an idea of the network's output, you can also run\n",
    "%  through the examples one at the a time to see what it is predicting.\n",
    "\n",
    "%  Randomly permute examples\n",
    "rp = randperm(m);\n",
    "\n",
    "for i = 1:m\n",
    "    #figure(i);\n",
    "    % Display \n",
    "    fprintf('\\nDisplaying Example Image\\n');\n",
    "    visualizationHandwrittenDigits(X(rp(i), :));\n",
    "\n",
    "    pred = predict(Theta1, Theta2, X(rp(i),:));\n",
    "    fprintf('\\nNeural Network Prediction: %d (digit %d)\\n', pred, mod(pred, 10));\n",
    "    \n",
    "    % Pause with quit option\n",
    "    %s = input('Paused - press enter to continue, q to exit:','s');\n",
    "    s = 'q';\n",
    "    if s == 'q'\n",
    "      break\n",
    "    end\n",
    "end"
   ]
  },
  {
   "cell_type": "code",
   "execution_count": null,
   "metadata": {},
   "outputs": [],
   "source": []
  }
 ],
 "metadata": {
  "kernelspec": {
   "display_name": "Octave",
   "language": "octave",
   "name": "octave"
  },
  "language_info": {
   "file_extension": ".m",
   "help_links": [
    {
     "text": "GNU Octave",
     "url": "https://www.gnu.org/software/octave/support.html"
    },
    {
     "text": "Octave Kernel",
     "url": "https://github.com/Calysto/octave_kernel"
    },
    {
     "text": "MetaKernel Magics",
     "url": "https://github.com/calysto/metakernel/blob/master/metakernel/magics/README.md"
    }
   ],
   "mimetype": "text/x-octave",
   "name": "octave",
   "version": "4.4.1"
  }
 },
 "nbformat": 4,
 "nbformat_minor": 2
}
